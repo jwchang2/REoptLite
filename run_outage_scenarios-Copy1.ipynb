{
 "cells": [
  {
   "cell_type": "code",
   "execution_count": 1,
   "metadata": {},
   "outputs": [
    {
     "name": "stderr",
     "output_type": "stream",
     "text": [
      "┌ Info: Xpress: Found license file C:\\xpressmp\\bin\\xpauth.xpr\n",
      "└ @ Xpress C:\\Users\\jchang2\\.julia\\packages\\Xpress\\kcAft\\src\\license.jl:42\n",
      "┌ Info: Xpress: Development license detected.\n",
      "└ @ Xpress C:\\Users\\jchang2\\.julia\\packages\\Xpress\\kcAft\\src\\license.jl:84\n"
     ]
    }
   ],
   "source": [
    "include(\"./src/REoptLite.jl\")\n",
    "using JuMP\n",
    "using Xpress\n",
    "using Main.REoptLite\n",
    "using JSON\n"
   ]
  },
  {
   "cell_type": "code",
   "execution_count": 2,
   "metadata": {},
   "outputs": [
    {
     "data": {
      "text/plain": [
       "run (generic function with 1 method)"
      ]
     },
     "execution_count": 2,
     "metadata": {},
     "output_type": "execute_result"
    }
   ],
   "source": [
    "function run(scenario, fname)\n",
    "    \n",
    "    m = Model(optimizer_with_attributes(Xpress.Optimizer, \"logfile\" => \"output.log\"))\n",
    "    results = run_reopt(m, REoptInputs(scenario))\n",
    "    \n",
    "    open(fname*\".json\", \"w\") do f\n",
    "        JSON.print(f, results)\n",
    "    end\n",
    "    \n",
    "    return results\n",
    "end"
   ]
  },
  {
   "cell_type": "code",
   "execution_count": 3,
   "metadata": {},
   "outputs": [
    {
     "data": {
      "text/plain": [
       "Dict{String,Any} with 7 entries:\n",
       "  \"ElectricUtility\" => Dict{String,Any}(\"outage_durations\"=>Any[336],\"outage_st…\n",
       "  \"ElectricTariff\"  => Dict{String,Any}(\"urdb_label\"=>\"5e611fec5457a3665e019406…\n",
       "  \"Site\"            => Dict{String,Any}(\"latitude\"=>39.7407,\"longitude\"=>-105.1…\n",
       "  \"Generator\"       => Dict{String,Any}(\"max_kw\"=>0.0,\"only_runs_during_grid_ou…\n",
       "  \"ElectricLoad\"    => Dict{String,Any}(\"loads_kw\"=>Any[4323.64, 4308.39, 4295.…\n",
       "  \"PV\"              => Dict{String,Any}(\"existing_kw\"=>3580.54,\"max_kw\"=>0.0)\n",
       "  \"Financial\"       => Dict{String,Any}(\"owner_discount_pct\"=>0.1,\"offtaker_dis…"
      ]
     },
     "execution_count": 3,
     "metadata": {},
     "output_type": "execute_result"
    }
   ],
   "source": [
    "scenario_template = JSON.parsefile(\"test/scenarios/STM_campus_BAU_sseb_crit.json\")"
   ]
  },
  {
   "cell_type": "code",
   "execution_count": 4,
   "metadata": {},
   "outputs": [],
   "source": [
    "#tzs = collect(range(17, stop=8760-336, step=336))"
   ]
  },
  {
   "cell_type": "code",
   "execution_count": 5,
   "metadata": {},
   "outputs": [],
   "source": [
    "#crit_ld = scenario_template[\"ElectricLoad\"][\"critical_loads_kw\"];"
   ]
  },
  {
   "cell_type": "code",
   "execution_count": 6,
   "metadata": {},
   "outputs": [],
   "source": [
    "#two_week_ld = Any[]\n",
    "\n",
    "#for tz in tzs\n",
    "    #push!(two_week_ld, crit_ld[tz:tz+335])\n",
    "#end"
   ]
  },
  {
   "cell_type": "code",
   "execution_count": 7,
   "metadata": {},
   "outputs": [],
   "source": [
    "#maximum(sum(ld) for ld in two_week_ld)"
   ]
  },
  {
   "cell_type": "code",
   "execution_count": 8,
   "metadata": {
    "scrolled": true
   },
   "outputs": [
    {
     "name": "stderr",
     "output_type": "stream",
     "text": [
      "┌ Info: Checking URDB for \n",
      "│   urdb_label = 5e611fec5457a3665e019406\n",
      "└ @ Main.REoptLite C:\\Users\\jchang2\\Documents\\REoptLite\\src\\core\\urdb.jl:151\n",
      "┌ Info: Querying PVWatts for prodfactor with \n",
      "│   pv.name = PV\n",
      "└ @ Main.REoptLite C:\\Users\\jchang2\\Documents\\REoptLite\\src\\core\\prodfactor.jl:41\n",
      "┌ Info: PVWatts success.\n",
      "└ @ Main.REoptLite C:\\Users\\jchang2\\Documents\\REoptLite\\src\\core\\prodfactor.jl:49\n",
      "┌ Info: (\"p.mg_tech_sizes_equal_grid_sizes\", false)\n",
      "└ @ Main.REoptLite C:\\Users\\jchang2\\Documents\\REoptLite\\src\\constraints\\outage_constraints.jl:81\n",
      "┌ Info: Model built. Optimizing...\n",
      "└ @ Main.REoptLite C:\\Users\\jchang2\\Documents\\REoptLite\\src\\core\\reopt.jl:265\n",
      "┌ Info: REopt solved with \n",
      "│   termination_status(m) = OPTIMAL\n",
      "└ @ Main.REoptLite C:\\Users\\jchang2\\Documents\\REoptLite\\src\\core\\reopt.jl:274\n"
     ]
    },
    {
     "name": "stdout",
     "output_type": "stream",
     "text": [
      "run 100 complete\n"
     ]
    }
   ],
   "source": [
    "results = Dict[]\n",
    "\n",
    "for VoLL in range(100, stop=100)\n",
    "    scenario_dict = copy(scenario_template)\n",
    "    scenario_dict[\"ElectricUtility\"][\"outage_start_timesteps\"] = collect(range(17, stop=8760-336, step=336))\n",
    "    scenario_dict[\"Financial\"][\"VoLL\"] = VoLL\n",
    "    s = Scenario(scenario_dict)\n",
    "    push!(results, run(s, \"sseb_BAU\"*string(VoLL)))\n",
    "    println(\"run $VoLL complete\")\n",
    "end"
   ]
  },
  {
   "cell_type": "code",
   "execution_count": 9,
   "metadata": {},
   "outputs": [
    {
     "data": {
      "text/plain": [
       "1-element Array{Dict,1}:\n",
       " Dict{String,Any}(\"net_capital_costs\" => 0.0,\"year_one_demand_cost\" => 1.21693653e6,\"lcc\" => 6.3478475e7,\"expected_outage_cost\" => 7.335176146885381e6,\"year_one_utility_kwh\" => 3.61559328e7,\"year_one_export_benefit\" => 0.0,\"year_one_energy_cost\" => 1.17965962e6,\"PVtoCUR\" => [0.0, 0.0, 0.0, 0.0, 0.0, 0.0, 0.0, 0.0, 0.0, 0.0  …  0.0, 0.0, 0.0, 0.0, 0.0, 0.0, 0.0, 0.0, 0.0, 0.0],\"year_one_energy_produced_PV\" => 5.543793e6,\"PV_net_fixed_om_costs\" => 480241.0…)"
      ]
     },
     "execution_count": 9,
     "metadata": {},
     "output_type": "execute_result"
    }
   ],
   "source": [
    "r = results"
   ]
  },
  {
   "cell_type": "code",
   "execution_count": null,
   "metadata": {},
   "outputs": [],
   "source": []
  }
 ],
 "metadata": {
  "kernelspec": {
   "display_name": "Julia 1.4.2",
   "language": "julia",
   "name": "julia-1.4"
  },
  "language_info": {
   "file_extension": ".jl",
   "mimetype": "application/julia",
   "name": "julia",
   "version": "1.4.2"
  }
 },
 "nbformat": 4,
 "nbformat_minor": 2
}
