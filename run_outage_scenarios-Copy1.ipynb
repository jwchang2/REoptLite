{
 "cells": [
  {
   "cell_type": "code",
   "execution_count": 1,
   "metadata": {},
   "outputs": [
    {
     "name": "stderr",
     "output_type": "stream",
     "text": [
      "┌ Info: Xpress: Found license file C:\\xpressmp\\bin\\xpauth.xpr\n",
      "└ @ Xpress C:\\Users\\jchang2\\.julia\\packages\\Xpress\\kcAft\\src\\license.jl:42\n",
      "┌ Info: Xpress: Development license detected.\n",
      "└ @ Xpress C:\\Users\\jchang2\\.julia\\packages\\Xpress\\kcAft\\src\\license.jl:84\n"
     ]
    }
   ],
   "source": [
    "include(\"./src/REoptLite.jl\")\n",
    "using JuMP\n",
    "using Xpress\n",
    "using Main.REoptLite\n",
    "using JSON\n"
   ]
  },
  {
   "cell_type": "code",
   "execution_count": 2,
   "metadata": {},
   "outputs": [
    {
     "data": {
      "text/plain": [
       "run (generic function with 1 method)"
      ]
     },
     "execution_count": 2,
     "metadata": {},
     "output_type": "execute_result"
    }
   ],
   "source": [
    "function run(scenario, fname)\n",
    "    \n",
    "    m = Model(optimizer_with_attributes(Xpress.Optimizer, \"logfile\" => \"output.log\"))\n",
    "    results = run_reopt(m, REoptInputs(scenario))\n",
    "    \n",
    "    open(fname*\".json\", \"w\") do f\n",
    "        JSON.print(f, results)\n",
    "    end\n",
    "    \n",
    "    return results\n",
    "end"
   ]
  },
  {
   "cell_type": "code",
   "execution_count": 3,
   "metadata": {},
   "outputs": [
    {
     "data": {
      "text/plain": [
       "Dict{String,Any} with 8 entries:\n",
       "  \"ElectricUtility\" => Dict{String,Any}(\"outage_durations\"=>Any[336],\"outage_st…\n",
       "  \"ElectricTariff\"  => Dict{String,Any}(\"urdb_label\"=>\"5e611fec5457a3665e019406…\n",
       "  \"Site\"            => Dict{String,Any}(\"latitude\"=>39.7407,\"longitude\"=>-105.1…\n",
       "  \"Generator\"       => Dict{String,Any}(\"max_kw\"=>0.0,\"only_runs_during_grid_ou…\n",
       "  \"ElectricLoad\"    => Dict{String,Any}(\"loads_kw\"=>Any[4323.64, 4308.39, 4295.…\n",
       "  \"PV\"              => Dict{String,Any}(\"array_type\"=>0,\"existing_kw\"=>3580.54)\n",
       "  \"Storage\"         => Dict{String,Any}(\"macrs_option_years\"=>5,\"can_grid_charg…\n",
       "  \"Financial\"       => Dict{String,Any}(\"owner_discount_pct\"=>0.1,\"offtaker_dis…"
      ]
     },
     "execution_count": 3,
     "metadata": {},
     "output_type": "execute_result"
    }
   ],
   "source": [
    "scenario_template = JSON.parsefile(\"test/scenarios/STM_campus_existing_8760.json\")"
   ]
  },
  {
   "cell_type": "code",
   "execution_count": 4,
   "metadata": {},
   "outputs": [],
   "source": [
    "tzs = collect(range(17, stop=8760-336, step=336))"
   ]
  },
  {
   "cell_type": "code",
   "execution_count": 5,
   "metadata": {},
   "outputs": [],
   "source": [
    "crit_ld = scenario_template[\"ElectricLoad\"][\"critical_loads_kw\"];"
   ]
  },
  {
   "cell_type": "code",
   "execution_count": 6,
   "metadata": {},
   "outputs": [],
   "source": [
    "two_week_ld = Any[]\n",
    "\n",
    "for tz in tzs\n",
    "    push!(two_week_ld, crit_ld[tz:tz+335])\n",
    "end"
   ]
  },
  {
   "cell_type": "code",
   "execution_count": 7,
   "metadata": {},
   "outputs": [],
   "source": [
    "maximum(sum(ld) for ld in two_week_ld)"
   ]
  },
  {
   "cell_type": "code",
   "execution_count": 8,
   "metadata": {
    "scrolled": true
   },
   "outputs": [
    {
     "name": "stderr",
     "output_type": "stream",
     "text": [
      "┌ Info: Checking URDB for \n",
      "│   urdb_label = 5e611fec5457a3665e019406\n",
      "└ @ Main.REoptLite C:\\Users\\jchang2\\Documents\\REoptLite\\src\\core\\urdb.jl:151\n",
      "┌ Info: Querying PVWatts for prodfactor with \n",
      "│   pv.name = PV\n",
      "└ @ Main.REoptLite C:\\Users\\jchang2\\Documents\\REoptLite\\src\\core\\prodfactor.jl:41\n",
      "┌ Info: PVWatts success.\n",
      "└ @ Main.REoptLite C:\\Users\\jchang2\\Documents\\REoptLite\\src\\core\\prodfactor.jl:49\n",
      "┌ Info: (\"p.mg_tech_sizes_equal_grid_sizes\", true)\n",
      "└ @ Main.REoptLite C:\\Users\\jchang2\\Documents\\REoptLite\\src\\constraints\\outage_constraints.jl:81\n",
      "┌ Info: Model built. Optimizing...\n",
      "└ @ Main.REoptLite C:\\Users\\jchang2\\Documents\\REoptLite\\src\\core\\reopt.jl:265\n",
      "┌ Info: REopt solved with \n",
      "│   termination_status(m) = OPTIMAL\n",
      "└ @ Main.REoptLite C:\\Users\\jchang2\\Documents\\REoptLite\\src\\core\\reopt.jl:274\n"
     ]
    },
    {
     "name": "stdout",
     "output_type": "stream",
     "text": [
      "run 1 complete\n"
     ]
    },
    {
     "name": "stderr",
     "output_type": "stream",
     "text": [
      "┌ Info: Checking URDB for \n",
      "│   urdb_label = 5e611fec5457a3665e019406\n",
      "└ @ Main.REoptLite C:\\Users\\jchang2\\Documents\\REoptLite\\src\\core\\urdb.jl:151\n",
      "┌ Info: Querying PVWatts for prodfactor with \n",
      "│   pv.name = PV\n",
      "└ @ Main.REoptLite C:\\Users\\jchang2\\Documents\\REoptLite\\src\\core\\prodfactor.jl:41\n",
      "┌ Info: PVWatts success.\n",
      "└ @ Main.REoptLite C:\\Users\\jchang2\\Documents\\REoptLite\\src\\core\\prodfactor.jl:49\n",
      "┌ Info: (\"p.mg_tech_sizes_equal_grid_sizes\", true)\n",
      "└ @ Main.REoptLite C:\\Users\\jchang2\\Documents\\REoptLite\\src\\constraints\\outage_constraints.jl:81\n",
      "┌ Info: Model built. Optimizing...\n",
      "└ @ Main.REoptLite C:\\Users\\jchang2\\Documents\\REoptLite\\src\\core\\reopt.jl:265\n",
      "┌ Info: REopt solved with \n",
      "│   termination_status(m) = OPTIMAL\n",
      "└ @ Main.REoptLite C:\\Users\\jchang2\\Documents\\REoptLite\\src\\core\\reopt.jl:274\n"
     ]
    },
    {
     "name": "stdout",
     "output_type": "stream",
     "text": [
      "run 2 complete\n"
     ]
    },
    {
     "name": "stderr",
     "output_type": "stream",
     "text": [
      "┌ Info: Checking URDB for \n",
      "│   urdb_label = 5e611fec5457a3665e019406\n",
      "└ @ Main.REoptLite C:\\Users\\jchang2\\Documents\\REoptLite\\src\\core\\urdb.jl:151\n",
      "┌ Info: Querying PVWatts for prodfactor with \n",
      "│   pv.name = PV\n",
      "└ @ Main.REoptLite C:\\Users\\jchang2\\Documents\\REoptLite\\src\\core\\prodfactor.jl:41\n",
      "┌ Info: PVWatts success.\n",
      "└ @ Main.REoptLite C:\\Users\\jchang2\\Documents\\REoptLite\\src\\core\\prodfactor.jl:49\n",
      "┌ Info: (\"p.mg_tech_sizes_equal_grid_sizes\", true)\n",
      "└ @ Main.REoptLite C:\\Users\\jchang2\\Documents\\REoptLite\\src\\constraints\\outage_constraints.jl:81\n",
      "┌ Info: Model built. Optimizing...\n",
      "└ @ Main.REoptLite C:\\Users\\jchang2\\Documents\\REoptLite\\src\\core\\reopt.jl:265\n",
      "┌ Info: REopt solved with \n",
      "│   termination_status(m) = OPTIMAL\n",
      "└ @ Main.REoptLite C:\\Users\\jchang2\\Documents\\REoptLite\\src\\core\\reopt.jl:274\n"
     ]
    },
    {
     "name": "stdout",
     "output_type": "stream",
     "text": [
      "run 3 complete\n"
     ]
    },
    {
     "name": "stderr",
     "output_type": "stream",
     "text": [
      "┌ Info: Checking URDB for \n",
      "│   urdb_label = 5e611fec5457a3665e019406\n",
      "└ @ Main.REoptLite C:\\Users\\jchang2\\Documents\\REoptLite\\src\\core\\urdb.jl:151\n",
      "┌ Info: Querying PVWatts for prodfactor with \n",
      "│   pv.name = PV\n",
      "└ @ Main.REoptLite C:\\Users\\jchang2\\Documents\\REoptLite\\src\\core\\prodfactor.jl:41\n",
      "┌ Info: PVWatts success.\n",
      "└ @ Main.REoptLite C:\\Users\\jchang2\\Documents\\REoptLite\\src\\core\\prodfactor.jl:49\n",
      "┌ Info: (\"p.mg_tech_sizes_equal_grid_sizes\", true)\n",
      "└ @ Main.REoptLite C:\\Users\\jchang2\\Documents\\REoptLite\\src\\constraints\\outage_constraints.jl:81\n",
      "┌ Info: Model built. Optimizing...\n",
      "└ @ Main.REoptLite C:\\Users\\jchang2\\Documents\\REoptLite\\src\\core\\reopt.jl:265\n",
      "┌ Info: REopt solved with \n",
      "│   termination_status(m) = OPTIMAL\n",
      "└ @ Main.REoptLite C:\\Users\\jchang2\\Documents\\REoptLite\\src\\core\\reopt.jl:274\n"
     ]
    },
    {
     "name": "stdout",
     "output_type": "stream",
     "text": [
      "run 4 complete\n"
     ]
    },
    {
     "name": "stderr",
     "output_type": "stream",
     "text": [
      "┌ Info: Checking URDB for \n",
      "│   urdb_label = 5e611fec5457a3665e019406\n",
      "└ @ Main.REoptLite C:\\Users\\jchang2\\Documents\\REoptLite\\src\\core\\urdb.jl:151\n",
      "┌ Info: Querying PVWatts for prodfactor with \n",
      "│   pv.name = PV\n",
      "└ @ Main.REoptLite C:\\Users\\jchang2\\Documents\\REoptLite\\src\\core\\prodfactor.jl:41\n",
      "┌ Info: PVWatts success.\n",
      "└ @ Main.REoptLite C:\\Users\\jchang2\\Documents\\REoptLite\\src\\core\\prodfactor.jl:49\n",
      "┌ Info: (\"p.mg_tech_sizes_equal_grid_sizes\", true)\n",
      "└ @ Main.REoptLite C:\\Users\\jchang2\\Documents\\REoptLite\\src\\constraints\\outage_constraints.jl:81\n",
      "┌ Info: Model built. Optimizing...\n",
      "└ @ Main.REoptLite C:\\Users\\jchang2\\Documents\\REoptLite\\src\\core\\reopt.jl:265\n",
      "┌ Info: REopt solved with \n",
      "│   termination_status(m) = OPTIMAL\n",
      "└ @ Main.REoptLite C:\\Users\\jchang2\\Documents\\REoptLite\\src\\core\\reopt.jl:274\n"
     ]
    },
    {
     "name": "stdout",
     "output_type": "stream",
     "text": [
      "run 5 complete\n"
     ]
    },
    {
     "name": "stderr",
     "output_type": "stream",
     "text": [
      "┌ Info: Checking URDB for \n",
      "│   urdb_label = 5e611fec5457a3665e019406\n",
      "└ @ Main.REoptLite C:\\Users\\jchang2\\Documents\\REoptLite\\src\\core\\urdb.jl:151\n",
      "┌ Info: Querying PVWatts for prodfactor with \n",
      "│   pv.name = PV\n",
      "└ @ Main.REoptLite C:\\Users\\jchang2\\Documents\\REoptLite\\src\\core\\prodfactor.jl:41\n",
      "┌ Info: PVWatts success.\n",
      "└ @ Main.REoptLite C:\\Users\\jchang2\\Documents\\REoptLite\\src\\core\\prodfactor.jl:49\n",
      "┌ Info: (\"p.mg_tech_sizes_equal_grid_sizes\", true)\n",
      "└ @ Main.REoptLite C:\\Users\\jchang2\\Documents\\REoptLite\\src\\constraints\\outage_constraints.jl:81\n",
      "┌ Info: Model built. Optimizing...\n",
      "└ @ Main.REoptLite C:\\Users\\jchang2\\Documents\\REoptLite\\src\\core\\reopt.jl:265\n",
      "┌ Info: REopt solved with \n",
      "│   termination_status(m) = OPTIMAL\n",
      "└ @ Main.REoptLite C:\\Users\\jchang2\\Documents\\REoptLite\\src\\core\\reopt.jl:274\n"
     ]
    },
    {
     "name": "stdout",
     "output_type": "stream",
     "text": [
      "run 6 complete\n"
     ]
    },
    {
     "name": "stderr",
     "output_type": "stream",
     "text": [
      "┌ Info: Checking URDB for \n",
      "│   urdb_label = 5e611fec5457a3665e019406\n",
      "└ @ Main.REoptLite C:\\Users\\jchang2\\Documents\\REoptLite\\src\\core\\urdb.jl:151\n",
      "┌ Info: Querying PVWatts for prodfactor with \n",
      "│   pv.name = PV\n",
      "└ @ Main.REoptLite C:\\Users\\jchang2\\Documents\\REoptLite\\src\\core\\prodfactor.jl:41\n",
      "┌ Info: PVWatts success.\n",
      "└ @ Main.REoptLite C:\\Users\\jchang2\\Documents\\REoptLite\\src\\core\\prodfactor.jl:49\n",
      "┌ Info: (\"p.mg_tech_sizes_equal_grid_sizes\", true)\n",
      "└ @ Main.REoptLite C:\\Users\\jchang2\\Documents\\REoptLite\\src\\constraints\\outage_constraints.jl:81\n",
      "┌ Info: Model built. Optimizing...\n",
      "└ @ Main.REoptLite C:\\Users\\jchang2\\Documents\\REoptLite\\src\\core\\reopt.jl:265\n",
      "┌ Info: REopt solved with \n",
      "│   termination_status(m) = OPTIMAL\n",
      "└ @ Main.REoptLite C:\\Users\\jchang2\\Documents\\REoptLite\\src\\core\\reopt.jl:274\n"
     ]
    },
    {
     "name": "stdout",
     "output_type": "stream",
     "text": [
      "run 7 complete\n"
     ]
    },
    {
     "name": "stderr",
     "output_type": "stream",
     "text": [
      "┌ Info: Checking URDB for \n",
      "│   urdb_label = 5e611fec5457a3665e019406\n",
      "└ @ Main.REoptLite C:\\Users\\jchang2\\Documents\\REoptLite\\src\\core\\urdb.jl:151\n",
      "┌ Info: Querying PVWatts for prodfactor with \n",
      "│   pv.name = PV\n",
      "└ @ Main.REoptLite C:\\Users\\jchang2\\Documents\\REoptLite\\src\\core\\prodfactor.jl:41\n",
      "┌ Info: PVWatts success.\n",
      "└ @ Main.REoptLite C:\\Users\\jchang2\\Documents\\REoptLite\\src\\core\\prodfactor.jl:49\n",
      "┌ Info: (\"p.mg_tech_sizes_equal_grid_sizes\", true)\n",
      "└ @ Main.REoptLite C:\\Users\\jchang2\\Documents\\REoptLite\\src\\constraints\\outage_constraints.jl:81\n",
      "┌ Info: Model built. Optimizing...\n",
      "└ @ Main.REoptLite C:\\Users\\jchang2\\Documents\\REoptLite\\src\\core\\reopt.jl:265\n",
      "┌ Info: REopt solved with \n",
      "│   termination_status(m) = OPTIMAL\n",
      "└ @ Main.REoptLite C:\\Users\\jchang2\\Documents\\REoptLite\\src\\core\\reopt.jl:274\n"
     ]
    },
    {
     "name": "stdout",
     "output_type": "stream",
     "text": [
      "run 8 complete\n"
     ]
    },
    {
     "name": "stderr",
     "output_type": "stream",
     "text": [
      "┌ Info: Checking URDB for \n",
      "│   urdb_label = 5e611fec5457a3665e019406\n",
      "└ @ Main.REoptLite C:\\Users\\jchang2\\Documents\\REoptLite\\src\\core\\urdb.jl:151\n",
      "┌ Info: Querying PVWatts for prodfactor with \n",
      "│   pv.name = PV\n",
      "└ @ Main.REoptLite C:\\Users\\jchang2\\Documents\\REoptLite\\src\\core\\prodfactor.jl:41\n",
      "┌ Info: PVWatts success.\n",
      "└ @ Main.REoptLite C:\\Users\\jchang2\\Documents\\REoptLite\\src\\core\\prodfactor.jl:49\n",
      "┌ Info: (\"p.mg_tech_sizes_equal_grid_sizes\", true)\n",
      "└ @ Main.REoptLite C:\\Users\\jchang2\\Documents\\REoptLite\\src\\constraints\\outage_constraints.jl:81\n",
      "┌ Info: Model built. Optimizing...\n",
      "└ @ Main.REoptLite C:\\Users\\jchang2\\Documents\\REoptLite\\src\\core\\reopt.jl:265\n",
      "┌ Info: REopt solved with \n",
      "│   termination_status(m) = OPTIMAL\n",
      "└ @ Main.REoptLite C:\\Users\\jchang2\\Documents\\REoptLite\\src\\core\\reopt.jl:274\n"
     ]
    },
    {
     "name": "stdout",
     "output_type": "stream",
     "text": [
      "run 9 complete\n"
     ]
    },
    {
     "name": "stderr",
     "output_type": "stream",
     "text": [
      "┌ Info: Checking URDB for \n",
      "│   urdb_label = 5e611fec5457a3665e019406\n",
      "└ @ Main.REoptLite C:\\Users\\jchang2\\Documents\\REoptLite\\src\\core\\urdb.jl:151\n",
      "┌ Info: Querying PVWatts for prodfactor with \n",
      "│   pv.name = PV\n",
      "└ @ Main.REoptLite C:\\Users\\jchang2\\Documents\\REoptLite\\src\\core\\prodfactor.jl:41\n",
      "┌ Info: PVWatts success.\n",
      "└ @ Main.REoptLite C:\\Users\\jchang2\\Documents\\REoptLite\\src\\core\\prodfactor.jl:49\n",
      "┌ Info: (\"p.mg_tech_sizes_equal_grid_sizes\", true)\n",
      "└ @ Main.REoptLite C:\\Users\\jchang2\\Documents\\REoptLite\\src\\constraints\\outage_constraints.jl:81\n",
      "┌ Info: Model built. Optimizing...\n",
      "└ @ Main.REoptLite C:\\Users\\jchang2\\Documents\\REoptLite\\src\\core\\reopt.jl:265\n",
      "┌ Info: REopt solved with \n",
      "│   termination_status(m) = OPTIMAL\n",
      "└ @ Main.REoptLite C:\\Users\\jchang2\\Documents\\REoptLite\\src\\core\\reopt.jl:274\n"
     ]
    },
    {
     "name": "stdout",
     "output_type": "stream",
     "text": [
      "run 10 complete\n"
     ]
    },
    {
     "name": "stderr",
     "output_type": "stream",
     "text": [
      "┌ Info: Checking URDB for \n",
      "│   urdb_label = 5e611fec5457a3665e019406\n",
      "└ @ Main.REoptLite C:\\Users\\jchang2\\Documents\\REoptLite\\src\\core\\urdb.jl:151\n",
      "┌ Info: Querying PVWatts for prodfactor with \n",
      "│   pv.name = PV\n",
      "└ @ Main.REoptLite C:\\Users\\jchang2\\Documents\\REoptLite\\src\\core\\prodfactor.jl:41\n",
      "┌ Info: PVWatts success.\n",
      "└ @ Main.REoptLite C:\\Users\\jchang2\\Documents\\REoptLite\\src\\core\\prodfactor.jl:49\n",
      "┌ Info: (\"p.mg_tech_sizes_equal_grid_sizes\", true)\n",
      "└ @ Main.REoptLite C:\\Users\\jchang2\\Documents\\REoptLite\\src\\constraints\\outage_constraints.jl:81\n",
      "┌ Info: Model built. Optimizing...\n",
      "└ @ Main.REoptLite C:\\Users\\jchang2\\Documents\\REoptLite\\src\\core\\reopt.jl:265\n",
      "┌ Info: REopt solved with \n",
      "│   termination_status(m) = OPTIMAL\n",
      "└ @ Main.REoptLite C:\\Users\\jchang2\\Documents\\REoptLite\\src\\core\\reopt.jl:274\n"
     ]
    },
    {
     "name": "stdout",
     "output_type": "stream",
     "text": [
      "run 11 complete\n"
     ]
    },
    {
     "name": "stderr",
     "output_type": "stream",
     "text": [
      "┌ Info: Checking URDB for \n",
      "│   urdb_label = 5e611fec5457a3665e019406\n",
      "└ @ Main.REoptLite C:\\Users\\jchang2\\Documents\\REoptLite\\src\\core\\urdb.jl:151\n",
      "┌ Info: Querying PVWatts for prodfactor with \n",
      "│   pv.name = PV\n",
      "└ @ Main.REoptLite C:\\Users\\jchang2\\Documents\\REoptLite\\src\\core\\prodfactor.jl:41\n",
      "┌ Info: PVWatts success.\n",
      "└ @ Main.REoptLite C:\\Users\\jchang2\\Documents\\REoptLite\\src\\core\\prodfactor.jl:49\n",
      "┌ Info: (\"p.mg_tech_sizes_equal_grid_sizes\", true)\n",
      "└ @ Main.REoptLite C:\\Users\\jchang2\\Documents\\REoptLite\\src\\constraints\\outage_constraints.jl:81\n",
      "┌ Info: Model built. Optimizing...\n",
      "└ @ Main.REoptLite C:\\Users\\jchang2\\Documents\\REoptLite\\src\\core\\reopt.jl:265\n",
      "┌ Info: REopt solved with \n",
      "│   termination_status(m) = OPTIMAL\n",
      "└ @ Main.REoptLite C:\\Users\\jchang2\\Documents\\REoptLite\\src\\core\\reopt.jl:274\n"
     ]
    },
    {
     "name": "stdout",
     "output_type": "stream",
     "text": [
      "run 12 complete\n"
     ]
    },
    {
     "name": "stderr",
     "output_type": "stream",
     "text": [
      "┌ Info: Checking URDB for \n",
      "│   urdb_label = 5e611fec5457a3665e019406\n",
      "└ @ Main.REoptLite C:\\Users\\jchang2\\Documents\\REoptLite\\src\\core\\urdb.jl:151\n",
      "┌ Info: Querying PVWatts for prodfactor with \n",
      "│   pv.name = PV\n",
      "└ @ Main.REoptLite C:\\Users\\jchang2\\Documents\\REoptLite\\src\\core\\prodfactor.jl:41\n",
      "┌ Info: PVWatts success.\n",
      "└ @ Main.REoptLite C:\\Users\\jchang2\\Documents\\REoptLite\\src\\core\\prodfactor.jl:49\n",
      "┌ Info: (\"p.mg_tech_sizes_equal_grid_sizes\", true)\n",
      "└ @ Main.REoptLite C:\\Users\\jchang2\\Documents\\REoptLite\\src\\constraints\\outage_constraints.jl:81\n",
      "┌ Info: Model built. Optimizing...\n",
      "└ @ Main.REoptLite C:\\Users\\jchang2\\Documents\\REoptLite\\src\\core\\reopt.jl:265\n",
      "┌ Info: REopt solved with \n",
      "│   termination_status(m) = OPTIMAL\n",
      "└ @ Main.REoptLite C:\\Users\\jchang2\\Documents\\REoptLite\\src\\core\\reopt.jl:274\n"
     ]
    },
    {
     "name": "stdout",
     "output_type": "stream",
     "text": [
      "run 13 complete\n"
     ]
    },
    {
     "name": "stderr",
     "output_type": "stream",
     "text": [
      "┌ Info: Checking URDB for \n",
      "│   urdb_label = 5e611fec5457a3665e019406\n",
      "└ @ Main.REoptLite C:\\Users\\jchang2\\Documents\\REoptLite\\src\\core\\urdb.jl:151\n",
      "┌ Info: Querying PVWatts for prodfactor with \n",
      "│   pv.name = PV\n",
      "└ @ Main.REoptLite C:\\Users\\jchang2\\Documents\\REoptLite\\src\\core\\prodfactor.jl:41\n",
      "┌ Info: PVWatts success.\n",
      "└ @ Main.REoptLite C:\\Users\\jchang2\\Documents\\REoptLite\\src\\core\\prodfactor.jl:49\n",
      "┌ Info: (\"p.mg_tech_sizes_equal_grid_sizes\", true)\n",
      "└ @ Main.REoptLite C:\\Users\\jchang2\\Documents\\REoptLite\\src\\constraints\\outage_constraints.jl:81\n",
      "┌ Info: Model built. Optimizing...\n",
      "└ @ Main.REoptLite C:\\Users\\jchang2\\Documents\\REoptLite\\src\\core\\reopt.jl:265\n",
      "┌ Info: REopt solved with \n",
      "│   termination_status(m) = OPTIMAL\n",
      "└ @ Main.REoptLite C:\\Users\\jchang2\\Documents\\REoptLite\\src\\core\\reopt.jl:274\n"
     ]
    },
    {
     "name": "stdout",
     "output_type": "stream",
     "text": [
      "run 14 complete\n"
     ]
    },
    {
     "name": "stderr",
     "output_type": "stream",
     "text": [
      "┌ Info: Checking URDB for \n",
      "│   urdb_label = 5e611fec5457a3665e019406\n",
      "└ @ Main.REoptLite C:\\Users\\jchang2\\Documents\\REoptLite\\src\\core\\urdb.jl:151\n",
      "┌ Info: Querying PVWatts for prodfactor with \n",
      "│   pv.name = PV\n",
      "└ @ Main.REoptLite C:\\Users\\jchang2\\Documents\\REoptLite\\src\\core\\prodfactor.jl:41\n",
      "┌ Info: PVWatts success.\n",
      "└ @ Main.REoptLite C:\\Users\\jchang2\\Documents\\REoptLite\\src\\core\\prodfactor.jl:49\n",
      "┌ Info: (\"p.mg_tech_sizes_equal_grid_sizes\", true)\n",
      "└ @ Main.REoptLite C:\\Users\\jchang2\\Documents\\REoptLite\\src\\constraints\\outage_constraints.jl:81\n",
      "┌ Info: Model built. Optimizing...\n",
      "└ @ Main.REoptLite C:\\Users\\jchang2\\Documents\\REoptLite\\src\\core\\reopt.jl:265\n",
      "┌ Info: REopt solved with \n",
      "│   termination_status(m) = OPTIMAL\n",
      "└ @ Main.REoptLite C:\\Users\\jchang2\\Documents\\REoptLite\\src\\core\\reopt.jl:274\n"
     ]
    },
    {
     "name": "stdout",
     "output_type": "stream",
     "text": [
      "run 15 complete\n"
     ]
    },
    {
     "name": "stderr",
     "output_type": "stream",
     "text": [
      "┌ Info: Checking URDB for \n",
      "│   urdb_label = 5e611fec5457a3665e019406\n",
      "└ @ Main.REoptLite C:\\Users\\jchang2\\Documents\\REoptLite\\src\\core\\urdb.jl:151\n",
      "┌ Info: Querying PVWatts for prodfactor with \n",
      "│   pv.name = PV\n",
      "└ @ Main.REoptLite C:\\Users\\jchang2\\Documents\\REoptLite\\src\\core\\prodfactor.jl:41\n",
      "┌ Info: PVWatts success.\n",
      "└ @ Main.REoptLite C:\\Users\\jchang2\\Documents\\REoptLite\\src\\core\\prodfactor.jl:49\n",
      "┌ Info: (\"p.mg_tech_sizes_equal_grid_sizes\", true)\n",
      "└ @ Main.REoptLite C:\\Users\\jchang2\\Documents\\REoptLite\\src\\constraints\\outage_constraints.jl:81\n",
      "┌ Info: Model built. Optimizing...\n",
      "└ @ Main.REoptLite C:\\Users\\jchang2\\Documents\\REoptLite\\src\\core\\reopt.jl:265\n",
      "┌ Info: REopt solved with \n",
      "│   termination_status(m) = OPTIMAL\n",
      "└ @ Main.REoptLite C:\\Users\\jchang2\\Documents\\REoptLite\\src\\core\\reopt.jl:274\n"
     ]
    },
    {
     "name": "stdout",
     "output_type": "stream",
     "text": [
      "run 16 complete\n"
     ]
    },
    {
     "name": "stderr",
     "output_type": "stream",
     "text": [
      "┌ Info: Checking URDB for \n",
      "│   urdb_label = 5e611fec5457a3665e019406\n",
      "└ @ Main.REoptLite C:\\Users\\jchang2\\Documents\\REoptLite\\src\\core\\urdb.jl:151\n",
      "┌ Info: Querying PVWatts for prodfactor with \n",
      "│   pv.name = PV\n",
      "└ @ Main.REoptLite C:\\Users\\jchang2\\Documents\\REoptLite\\src\\core\\prodfactor.jl:41\n",
      "┌ Info: PVWatts success.\n",
      "└ @ Main.REoptLite C:\\Users\\jchang2\\Documents\\REoptLite\\src\\core\\prodfactor.jl:49\n",
      "┌ Info: (\"p.mg_tech_sizes_equal_grid_sizes\", true)\n",
      "└ @ Main.REoptLite C:\\Users\\jchang2\\Documents\\REoptLite\\src\\constraints\\outage_constraints.jl:81\n",
      "┌ Info: Model built. Optimizing...\n",
      "└ @ Main.REoptLite C:\\Users\\jchang2\\Documents\\REoptLite\\src\\core\\reopt.jl:265\n",
      "┌ Info: REopt solved with \n",
      "│   termination_status(m) = OPTIMAL\n",
      "└ @ Main.REoptLite C:\\Users\\jchang2\\Documents\\REoptLite\\src\\core\\reopt.jl:274\n"
     ]
    },
    {
     "name": "stdout",
     "output_type": "stream",
     "text": [
      "run 17 complete\n"
     ]
    },
    {
     "name": "stderr",
     "output_type": "stream",
     "text": [
      "┌ Info: Checking URDB for \n",
      "│   urdb_label = 5e611fec5457a3665e019406\n",
      "└ @ Main.REoptLite C:\\Users\\jchang2\\Documents\\REoptLite\\src\\core\\urdb.jl:151\n",
      "┌ Info: Querying PVWatts for prodfactor with \n",
      "│   pv.name = PV\n",
      "└ @ Main.REoptLite C:\\Users\\jchang2\\Documents\\REoptLite\\src\\core\\prodfactor.jl:41\n",
      "┌ Info: PVWatts success.\n",
      "└ @ Main.REoptLite C:\\Users\\jchang2\\Documents\\REoptLite\\src\\core\\prodfactor.jl:49\n",
      "┌ Info: (\"p.mg_tech_sizes_equal_grid_sizes\", true)\n",
      "└ @ Main.REoptLite C:\\Users\\jchang2\\Documents\\REoptLite\\src\\constraints\\outage_constraints.jl:81\n",
      "┌ Info: Model built. Optimizing...\n",
      "└ @ Main.REoptLite C:\\Users\\jchang2\\Documents\\REoptLite\\src\\core\\reopt.jl:265\n",
      "┌ Info: REopt solved with \n",
      "│   termination_status(m) = OPTIMAL\n",
      "└ @ Main.REoptLite C:\\Users\\jchang2\\Documents\\REoptLite\\src\\core\\reopt.jl:274\n"
     ]
    },
    {
     "name": "stdout",
     "output_type": "stream",
     "text": [
      "run 18 complete\n"
     ]
    },
    {
     "name": "stderr",
     "output_type": "stream",
     "text": [
      "┌ Info: Checking URDB for \n",
      "│   urdb_label = 5e611fec5457a3665e019406\n",
      "└ @ Main.REoptLite C:\\Users\\jchang2\\Documents\\REoptLite\\src\\core\\urdb.jl:151\n",
      "┌ Info: Querying PVWatts for prodfactor with \n",
      "│   pv.name = PV\n",
      "└ @ Main.REoptLite C:\\Users\\jchang2\\Documents\\REoptLite\\src\\core\\prodfactor.jl:41\n",
      "┌ Info: PVWatts success.\n",
      "└ @ Main.REoptLite C:\\Users\\jchang2\\Documents\\REoptLite\\src\\core\\prodfactor.jl:49\n",
      "┌ Info: (\"p.mg_tech_sizes_equal_grid_sizes\", true)\n",
      "└ @ Main.REoptLite C:\\Users\\jchang2\\Documents\\REoptLite\\src\\constraints\\outage_constraints.jl:81\n",
      "┌ Info: Model built. Optimizing...\n",
      "└ @ Main.REoptLite C:\\Users\\jchang2\\Documents\\REoptLite\\src\\core\\reopt.jl:265\n",
      "┌ Info: REopt solved with \n",
      "│   termination_status(m) = OPTIMAL\n",
      "└ @ Main.REoptLite C:\\Users\\jchang2\\Documents\\REoptLite\\src\\core\\reopt.jl:274\n"
     ]
    },
    {
     "name": "stdout",
     "output_type": "stream",
     "text": [
      "run 19 complete\n"
     ]
    },
    {
     "name": "stderr",
     "output_type": "stream",
     "text": [
      "┌ Info: Checking URDB for \n",
      "│   urdb_label = 5e611fec5457a3665e019406\n",
      "└ @ Main.REoptLite C:\\Users\\jchang2\\Documents\\REoptLite\\src\\core\\urdb.jl:151\n",
      "┌ Info: Querying PVWatts for prodfactor with \n",
      "│   pv.name = PV\n",
      "└ @ Main.REoptLite C:\\Users\\jchang2\\Documents\\REoptLite\\src\\core\\prodfactor.jl:41\n",
      "┌ Info: PVWatts success.\n",
      "└ @ Main.REoptLite C:\\Users\\jchang2\\Documents\\REoptLite\\src\\core\\prodfactor.jl:49\n",
      "┌ Info: (\"p.mg_tech_sizes_equal_grid_sizes\", true)\n",
      "└ @ Main.REoptLite C:\\Users\\jchang2\\Documents\\REoptLite\\src\\constraints\\outage_constraints.jl:81\n",
      "┌ Info: Model built. Optimizing...\n",
      "└ @ Main.REoptLite C:\\Users\\jchang2\\Documents\\REoptLite\\src\\core\\reopt.jl:265\n",
      "┌ Info: REopt solved with \n",
      "│   termination_status(m) = OPTIMAL\n",
      "└ @ Main.REoptLite C:\\Users\\jchang2\\Documents\\REoptLite\\src\\core\\reopt.jl:274\n"
     ]
    },
    {
     "name": "stdout",
     "output_type": "stream",
     "text": [
      "run 20 complete\n"
     ]
    },
    {
     "name": "stderr",
     "output_type": "stream",
     "text": [
      "┌ Info: Checking URDB for \n",
      "│   urdb_label = 5e611fec5457a3665e019406\n",
      "└ @ Main.REoptLite C:\\Users\\jchang2\\Documents\\REoptLite\\src\\core\\urdb.jl:151\n",
      "┌ Info: Querying PVWatts for prodfactor with \n",
      "│   pv.name = PV\n",
      "└ @ Main.REoptLite C:\\Users\\jchang2\\Documents\\REoptLite\\src\\core\\prodfactor.jl:41\n",
      "┌ Info: PVWatts success.\n",
      "└ @ Main.REoptLite C:\\Users\\jchang2\\Documents\\REoptLite\\src\\core\\prodfactor.jl:49\n",
      "┌ Info: (\"p.mg_tech_sizes_equal_grid_sizes\", true)\n",
      "└ @ Main.REoptLite C:\\Users\\jchang2\\Documents\\REoptLite\\src\\constraints\\outage_constraints.jl:81\n",
      "┌ Info: Model built. Optimizing...\n",
      "└ @ Main.REoptLite C:\\Users\\jchang2\\Documents\\REoptLite\\src\\core\\reopt.jl:265\n",
      "┌ Info: REopt solved with \n",
      "│   termination_status(m) = OPTIMAL\n",
      "└ @ Main.REoptLite C:\\Users\\jchang2\\Documents\\REoptLite\\src\\core\\reopt.jl:274\n"
     ]
    },
    {
     "name": "stdout",
     "output_type": "stream",
     "text": [
      "run 21 complete\n"
     ]
    },
    {
     "name": "stderr",
     "output_type": "stream",
     "text": [
      "┌ Info: Checking URDB for \n",
      "│   urdb_label = 5e611fec5457a3665e019406\n",
      "└ @ Main.REoptLite C:\\Users\\jchang2\\Documents\\REoptLite\\src\\core\\urdb.jl:151\n",
      "┌ Info: Querying PVWatts for prodfactor with \n",
      "│   pv.name = PV\n",
      "└ @ Main.REoptLite C:\\Users\\jchang2\\Documents\\REoptLite\\src\\core\\prodfactor.jl:41\n",
      "┌ Info: PVWatts success.\n",
      "└ @ Main.REoptLite C:\\Users\\jchang2\\Documents\\REoptLite\\src\\core\\prodfactor.jl:49\n",
      "┌ Info: (\"p.mg_tech_sizes_equal_grid_sizes\", true)\n",
      "└ @ Main.REoptLite C:\\Users\\jchang2\\Documents\\REoptLite\\src\\constraints\\outage_constraints.jl:81\n",
      "┌ Info: Model built. Optimizing...\n",
      "└ @ Main.REoptLite C:\\Users\\jchang2\\Documents\\REoptLite\\src\\core\\reopt.jl:265\n",
      "┌ Info: REopt solved with \n",
      "│   termination_status(m) = OPTIMAL\n",
      "└ @ Main.REoptLite C:\\Users\\jchang2\\Documents\\REoptLite\\src\\core\\reopt.jl:274\n"
     ]
    },
    {
     "name": "stdout",
     "output_type": "stream",
     "text": [
      "run 22 complete\n"
     ]
    },
    {
     "name": "stderr",
     "output_type": "stream",
     "text": [
      "┌ Info: Checking URDB for \n",
      "│   urdb_label = 5e611fec5457a3665e019406\n",
      "└ @ Main.REoptLite C:\\Users\\jchang2\\Documents\\REoptLite\\src\\core\\urdb.jl:151\n",
      "┌ Info: Querying PVWatts for prodfactor with \n",
      "│   pv.name = PV\n",
      "└ @ Main.REoptLite C:\\Users\\jchang2\\Documents\\REoptLite\\src\\core\\prodfactor.jl:41\n",
      "┌ Info: PVWatts success.\n",
      "└ @ Main.REoptLite C:\\Users\\jchang2\\Documents\\REoptLite\\src\\core\\prodfactor.jl:49\n",
      "┌ Info: (\"p.mg_tech_sizes_equal_grid_sizes\", true)\n",
      "└ @ Main.REoptLite C:\\Users\\jchang2\\Documents\\REoptLite\\src\\constraints\\outage_constraints.jl:81\n",
      "┌ Info: Model built. Optimizing...\n",
      "└ @ Main.REoptLite C:\\Users\\jchang2\\Documents\\REoptLite\\src\\core\\reopt.jl:265\n",
      "┌ Info: REopt solved with \n",
      "│   termination_status(m) = OPTIMAL\n",
      "└ @ Main.REoptLite C:\\Users\\jchang2\\Documents\\REoptLite\\src\\core\\reopt.jl:274\n"
     ]
    },
    {
     "name": "stdout",
     "output_type": "stream",
     "text": [
      "run 23 complete\n"
     ]
    },
    {
     "name": "stderr",
     "output_type": "stream",
     "text": [
      "┌ Info: Checking URDB for \n",
      "│   urdb_label = 5e611fec5457a3665e019406\n",
      "└ @ Main.REoptLite C:\\Users\\jchang2\\Documents\\REoptLite\\src\\core\\urdb.jl:151\n",
      "┌ Info: Querying PVWatts for prodfactor with \n",
      "│   pv.name = PV\n",
      "└ @ Main.REoptLite C:\\Users\\jchang2\\Documents\\REoptLite\\src\\core\\prodfactor.jl:41\n",
      "┌ Info: PVWatts success.\n",
      "└ @ Main.REoptLite C:\\Users\\jchang2\\Documents\\REoptLite\\src\\core\\prodfactor.jl:49\n",
      "┌ Info: (\"p.mg_tech_sizes_equal_grid_sizes\", true)\n",
      "└ @ Main.REoptLite C:\\Users\\jchang2\\Documents\\REoptLite\\src\\constraints\\outage_constraints.jl:81\n",
      "┌ Info: Model built. Optimizing...\n",
      "└ @ Main.REoptLite C:\\Users\\jchang2\\Documents\\REoptLite\\src\\core\\reopt.jl:265\n",
      "┌ Info: REopt solved with \n",
      "│   termination_status(m) = OPTIMAL\n",
      "└ @ Main.REoptLite C:\\Users\\jchang2\\Documents\\REoptLite\\src\\core\\reopt.jl:274\n"
     ]
    },
    {
     "name": "stdout",
     "output_type": "stream",
     "text": [
      "run 24 complete\n"
     ]
    },
    {
     "name": "stderr",
     "output_type": "stream",
     "text": [
      "┌ Info: Checking URDB for \n",
      "│   urdb_label = 5e611fec5457a3665e019406\n",
      "└ @ Main.REoptLite C:\\Users\\jchang2\\Documents\\REoptLite\\src\\core\\urdb.jl:151\n",
      "┌ Info: Querying PVWatts for prodfactor with \n",
      "│   pv.name = PV\n",
      "└ @ Main.REoptLite C:\\Users\\jchang2\\Documents\\REoptLite\\src\\core\\prodfactor.jl:41\n",
      "┌ Info: PVWatts success.\n",
      "└ @ Main.REoptLite C:\\Users\\jchang2\\Documents\\REoptLite\\src\\core\\prodfactor.jl:49\n",
      "┌ Info: (\"p.mg_tech_sizes_equal_grid_sizes\", true)\n",
      "└ @ Main.REoptLite C:\\Users\\jchang2\\Documents\\REoptLite\\src\\constraints\\outage_constraints.jl:81\n",
      "┌ Info: Model built. Optimizing...\n",
      "└ @ Main.REoptLite C:\\Users\\jchang2\\Documents\\REoptLite\\src\\core\\reopt.jl:265\n",
      "┌ Info: REopt solved with \n",
      "│   termination_status(m) = OPTIMAL\n",
      "└ @ Main.REoptLite C:\\Users\\jchang2\\Documents\\REoptLite\\src\\core\\reopt.jl:274\n"
     ]
    },
    {
     "name": "stdout",
     "output_type": "stream",
     "text": [
      "run 25 complete\n"
     ]
    },
    {
     "name": "stderr",
     "output_type": "stream",
     "text": [
      "┌ Info: Checking URDB for \n",
      "│   urdb_label = 5e611fec5457a3665e019406\n",
      "└ @ Main.REoptLite C:\\Users\\jchang2\\Documents\\REoptLite\\src\\core\\urdb.jl:151\n",
      "┌ Info: Querying PVWatts for prodfactor with \n",
      "│   pv.name = PV\n",
      "└ @ Main.REoptLite C:\\Users\\jchang2\\Documents\\REoptLite\\src\\core\\prodfactor.jl:41\n",
      "┌ Info: PVWatts success.\n",
      "└ @ Main.REoptLite C:\\Users\\jchang2\\Documents\\REoptLite\\src\\core\\prodfactor.jl:49\n",
      "┌ Info: (\"p.mg_tech_sizes_equal_grid_sizes\", true)\n",
      "└ @ Main.REoptLite C:\\Users\\jchang2\\Documents\\REoptLite\\src\\constraints\\outage_constraints.jl:81\n",
      "┌ Info: Model built. Optimizing...\n",
      "└ @ Main.REoptLite C:\\Users\\jchang2\\Documents\\REoptLite\\src\\core\\reopt.jl:265\n",
      "┌ Info: REopt solved with \n",
      "│   termination_status(m) = OPTIMAL\n",
      "└ @ Main.REoptLite C:\\Users\\jchang2\\Documents\\REoptLite\\src\\core\\reopt.jl:274\n"
     ]
    },
    {
     "name": "stdout",
     "output_type": "stream",
     "text": [
      "run 26 complete\n"
     ]
    },
    {
     "name": "stderr",
     "output_type": "stream",
     "text": [
      "┌ Info: Checking URDB for \n",
      "│   urdb_label = 5e611fec5457a3665e019406\n",
      "└ @ Main.REoptLite C:\\Users\\jchang2\\Documents\\REoptLite\\src\\core\\urdb.jl:151\n",
      "┌ Info: Querying PVWatts for prodfactor with \n",
      "│   pv.name = PV\n",
      "└ @ Main.REoptLite C:\\Users\\jchang2\\Documents\\REoptLite\\src\\core\\prodfactor.jl:41\n",
      "┌ Info: PVWatts success.\n",
      "└ @ Main.REoptLite C:\\Users\\jchang2\\Documents\\REoptLite\\src\\core\\prodfactor.jl:49\n",
      "┌ Info: (\"p.mg_tech_sizes_equal_grid_sizes\", true)\n",
      "└ @ Main.REoptLite C:\\Users\\jchang2\\Documents\\REoptLite\\src\\constraints\\outage_constraints.jl:81\n",
      "┌ Info: Model built. Optimizing...\n",
      "└ @ Main.REoptLite C:\\Users\\jchang2\\Documents\\REoptLite\\src\\core\\reopt.jl:265\n",
      "┌ Info: REopt solved with \n",
      "│   termination_status(m) = OPTIMAL\n",
      "└ @ Main.REoptLite C:\\Users\\jchang2\\Documents\\REoptLite\\src\\core\\reopt.jl:274\n"
     ]
    },
    {
     "name": "stdout",
     "output_type": "stream",
     "text": [
      "run 27 complete\n"
     ]
    },
    {
     "name": "stderr",
     "output_type": "stream",
     "text": [
      "┌ Info: Checking URDB for \n",
      "│   urdb_label = 5e611fec5457a3665e019406\n",
      "└ @ Main.REoptLite C:\\Users\\jchang2\\Documents\\REoptLite\\src\\core\\urdb.jl:151\n",
      "┌ Info: Querying PVWatts for prodfactor with \n",
      "│   pv.name = PV\n",
      "└ @ Main.REoptLite C:\\Users\\jchang2\\Documents\\REoptLite\\src\\core\\prodfactor.jl:41\n",
      "┌ Info: PVWatts success.\n",
      "└ @ Main.REoptLite C:\\Users\\jchang2\\Documents\\REoptLite\\src\\core\\prodfactor.jl:49\n",
      "┌ Info: (\"p.mg_tech_sizes_equal_grid_sizes\", true)\n",
      "└ @ Main.REoptLite C:\\Users\\jchang2\\Documents\\REoptLite\\src\\constraints\\outage_constraints.jl:81\n",
      "┌ Info: Model built. Optimizing...\n",
      "└ @ Main.REoptLite C:\\Users\\jchang2\\Documents\\REoptLite\\src\\core\\reopt.jl:265\n",
      "┌ Info: REopt solved with \n",
      "│   termination_status(m) = OPTIMAL\n",
      "└ @ Main.REoptLite C:\\Users\\jchang2\\Documents\\REoptLite\\src\\core\\reopt.jl:274\n"
     ]
    },
    {
     "name": "stdout",
     "output_type": "stream",
     "text": [
      "run 28 complete\n"
     ]
    },
    {
     "name": "stderr",
     "output_type": "stream",
     "text": [
      "┌ Info: Checking URDB for \n",
      "│   urdb_label = 5e611fec5457a3665e019406\n",
      "└ @ Main.REoptLite C:\\Users\\jchang2\\Documents\\REoptLite\\src\\core\\urdb.jl:151\n",
      "┌ Info: Querying PVWatts for prodfactor with \n",
      "│   pv.name = PV\n",
      "└ @ Main.REoptLite C:\\Users\\jchang2\\Documents\\REoptLite\\src\\core\\prodfactor.jl:41\n",
      "┌ Info: PVWatts success.\n",
      "└ @ Main.REoptLite C:\\Users\\jchang2\\Documents\\REoptLite\\src\\core\\prodfactor.jl:49\n",
      "┌ Info: (\"p.mg_tech_sizes_equal_grid_sizes\", true)\n",
      "└ @ Main.REoptLite C:\\Users\\jchang2\\Documents\\REoptLite\\src\\constraints\\outage_constraints.jl:81\n",
      "┌ Info: Model built. Optimizing...\n",
      "└ @ Main.REoptLite C:\\Users\\jchang2\\Documents\\REoptLite\\src\\core\\reopt.jl:265\n",
      "┌ Info: REopt solved with \n",
      "│   termination_status(m) = OPTIMAL\n",
      "└ @ Main.REoptLite C:\\Users\\jchang2\\Documents\\REoptLite\\src\\core\\reopt.jl:274\n"
     ]
    },
    {
     "name": "stdout",
     "output_type": "stream",
     "text": [
      "run 29 complete\n"
     ]
    },
    {
     "name": "stderr",
     "output_type": "stream",
     "text": [
      "┌ Info: Checking URDB for \n",
      "│   urdb_label = 5e611fec5457a3665e019406\n",
      "└ @ Main.REoptLite C:\\Users\\jchang2\\Documents\\REoptLite\\src\\core\\urdb.jl:151\n",
      "┌ Info: Querying PVWatts for prodfactor with \n",
      "│   pv.name = PV\n",
      "└ @ Main.REoptLite C:\\Users\\jchang2\\Documents\\REoptLite\\src\\core\\prodfactor.jl:41\n",
      "┌ Info: PVWatts success.\n",
      "└ @ Main.REoptLite C:\\Users\\jchang2\\Documents\\REoptLite\\src\\core\\prodfactor.jl:49\n",
      "┌ Info: (\"p.mg_tech_sizes_equal_grid_sizes\", true)\n",
      "└ @ Main.REoptLite C:\\Users\\jchang2\\Documents\\REoptLite\\src\\constraints\\outage_constraints.jl:81\n",
      "┌ Info: Model built. Optimizing...\n",
      "└ @ Main.REoptLite C:\\Users\\jchang2\\Documents\\REoptLite\\src\\core\\reopt.jl:265\n",
      "┌ Info: REopt solved with \n",
      "│   termination_status(m) = OPTIMAL\n",
      "└ @ Main.REoptLite C:\\Users\\jchang2\\Documents\\REoptLite\\src\\core\\reopt.jl:274\n"
     ]
    },
    {
     "name": "stdout",
     "output_type": "stream",
     "text": [
      "run 30 complete\n"
     ]
    },
    {
     "name": "stderr",
     "output_type": "stream",
     "text": [
      "┌ Info: Checking URDB for \n",
      "│   urdb_label = 5e611fec5457a3665e019406\n",
      "└ @ Main.REoptLite C:\\Users\\jchang2\\Documents\\REoptLite\\src\\core\\urdb.jl:151\n",
      "┌ Info: Querying PVWatts for prodfactor with \n",
      "│   pv.name = PV\n",
      "└ @ Main.REoptLite C:\\Users\\jchang2\\Documents\\REoptLite\\src\\core\\prodfactor.jl:41\n",
      "┌ Info: PVWatts success.\n",
      "└ @ Main.REoptLite C:\\Users\\jchang2\\Documents\\REoptLite\\src\\core\\prodfactor.jl:49\n",
      "┌ Info: (\"p.mg_tech_sizes_equal_grid_sizes\", true)\n",
      "└ @ Main.REoptLite C:\\Users\\jchang2\\Documents\\REoptLite\\src\\constraints\\outage_constraints.jl:81\n",
      "┌ Info: Model built. Optimizing...\n",
      "└ @ Main.REoptLite C:\\Users\\jchang2\\Documents\\REoptLite\\src\\core\\reopt.jl:265\n",
      "┌ Info: REopt solved with \n",
      "│   termination_status(m) = OPTIMAL\n",
      "└ @ Main.REoptLite C:\\Users\\jchang2\\Documents\\REoptLite\\src\\core\\reopt.jl:274\n"
     ]
    },
    {
     "name": "stdout",
     "output_type": "stream",
     "text": [
      "run 31 complete\n"
     ]
    },
    {
     "name": "stderr",
     "output_type": "stream",
     "text": [
      "┌ Info: Checking URDB for \n",
      "│   urdb_label = 5e611fec5457a3665e019406\n",
      "└ @ Main.REoptLite C:\\Users\\jchang2\\Documents\\REoptLite\\src\\core\\urdb.jl:151\n",
      "┌ Info: Querying PVWatts for prodfactor with \n",
      "│   pv.name = PV\n",
      "└ @ Main.REoptLite C:\\Users\\jchang2\\Documents\\REoptLite\\src\\core\\prodfactor.jl:41\n",
      "┌ Info: PVWatts success.\n",
      "└ @ Main.REoptLite C:\\Users\\jchang2\\Documents\\REoptLite\\src\\core\\prodfactor.jl:49\n",
      "┌ Info: (\"p.mg_tech_sizes_equal_grid_sizes\", true)\n",
      "└ @ Main.REoptLite C:\\Users\\jchang2\\Documents\\REoptLite\\src\\constraints\\outage_constraints.jl:81\n",
      "┌ Info: Model built. Optimizing...\n",
      "└ @ Main.REoptLite C:\\Users\\jchang2\\Documents\\REoptLite\\src\\core\\reopt.jl:265\n",
      "┌ Info: REopt solved with \n",
      "│   termination_status(m) = OPTIMAL\n",
      "└ @ Main.REoptLite C:\\Users\\jchang2\\Documents\\REoptLite\\src\\core\\reopt.jl:274\n"
     ]
    },
    {
     "name": "stdout",
     "output_type": "stream",
     "text": [
      "run 32 complete\n"
     ]
    },
    {
     "name": "stderr",
     "output_type": "stream",
     "text": [
      "┌ Info: Checking URDB for \n",
      "│   urdb_label = 5e611fec5457a3665e019406\n",
      "└ @ Main.REoptLite C:\\Users\\jchang2\\Documents\\REoptLite\\src\\core\\urdb.jl:151\n",
      "┌ Info: Querying PVWatts for prodfactor with \n",
      "│   pv.name = PV\n",
      "└ @ Main.REoptLite C:\\Users\\jchang2\\Documents\\REoptLite\\src\\core\\prodfactor.jl:41\n",
      "┌ Info: PVWatts success.\n",
      "└ @ Main.REoptLite C:\\Users\\jchang2\\Documents\\REoptLite\\src\\core\\prodfactor.jl:49\n",
      "┌ Info: (\"p.mg_tech_sizes_equal_grid_sizes\", true)\n",
      "└ @ Main.REoptLite C:\\Users\\jchang2\\Documents\\REoptLite\\src\\constraints\\outage_constraints.jl:81\n",
      "┌ Info: Model built. Optimizing...\n",
      "└ @ Main.REoptLite C:\\Users\\jchang2\\Documents\\REoptLite\\src\\core\\reopt.jl:265\n",
      "┌ Info: REopt solved with \n",
      "│   termination_status(m) = OPTIMAL\n",
      "└ @ Main.REoptLite C:\\Users\\jchang2\\Documents\\REoptLite\\src\\core\\reopt.jl:274\n"
     ]
    },
    {
     "name": "stdout",
     "output_type": "stream",
     "text": [
      "run 33 complete\n"
     ]
    },
    {
     "name": "stderr",
     "output_type": "stream",
     "text": [
      "┌ Info: Checking URDB for \n",
      "│   urdb_label = 5e611fec5457a3665e019406\n",
      "└ @ Main.REoptLite C:\\Users\\jchang2\\Documents\\REoptLite\\src\\core\\urdb.jl:151\n",
      "┌ Info: Querying PVWatts for prodfactor with \n",
      "│   pv.name = PV\n",
      "└ @ Main.REoptLite C:\\Users\\jchang2\\Documents\\REoptLite\\src\\core\\prodfactor.jl:41\n",
      "┌ Info: PVWatts success.\n",
      "└ @ Main.REoptLite C:\\Users\\jchang2\\Documents\\REoptLite\\src\\core\\prodfactor.jl:49\n",
      "┌ Info: (\"p.mg_tech_sizes_equal_grid_sizes\", true)\n",
      "└ @ Main.REoptLite C:\\Users\\jchang2\\Documents\\REoptLite\\src\\constraints\\outage_constraints.jl:81\n",
      "┌ Info: Model built. Optimizing...\n",
      "└ @ Main.REoptLite C:\\Users\\jchang2\\Documents\\REoptLite\\src\\core\\reopt.jl:265\n",
      "┌ Info: REopt solved with \n",
      "│   termination_status(m) = OPTIMAL\n",
      "└ @ Main.REoptLite C:\\Users\\jchang2\\Documents\\REoptLite\\src\\core\\reopt.jl:274\n"
     ]
    },
    {
     "name": "stdout",
     "output_type": "stream",
     "text": [
      "run 34 complete\n"
     ]
    },
    {
     "name": "stderr",
     "output_type": "stream",
     "text": [
      "┌ Info: Checking URDB for \n",
      "│   urdb_label = 5e611fec5457a3665e019406\n",
      "└ @ Main.REoptLite C:\\Users\\jchang2\\Documents\\REoptLite\\src\\core\\urdb.jl:151\n",
      "┌ Info: Querying PVWatts for prodfactor with \n",
      "│   pv.name = PV\n",
      "└ @ Main.REoptLite C:\\Users\\jchang2\\Documents\\REoptLite\\src\\core\\prodfactor.jl:41\n",
      "┌ Info: PVWatts success.\n",
      "└ @ Main.REoptLite C:\\Users\\jchang2\\Documents\\REoptLite\\src\\core\\prodfactor.jl:49\n",
      "┌ Info: (\"p.mg_tech_sizes_equal_grid_sizes\", true)\n",
      "└ @ Main.REoptLite C:\\Users\\jchang2\\Documents\\REoptLite\\src\\constraints\\outage_constraints.jl:81\n",
      "┌ Info: Model built. Optimizing...\n",
      "└ @ Main.REoptLite C:\\Users\\jchang2\\Documents\\REoptLite\\src\\core\\reopt.jl:265\n",
      "┌ Info: REopt solved with \n",
      "│   termination_status(m) = OPTIMAL\n",
      "└ @ Main.REoptLite C:\\Users\\jchang2\\Documents\\REoptLite\\src\\core\\reopt.jl:274\n"
     ]
    },
    {
     "name": "stdout",
     "output_type": "stream",
     "text": [
      "run 35 complete\n"
     ]
    },
    {
     "name": "stderr",
     "output_type": "stream",
     "text": [
      "┌ Info: Checking URDB for \n",
      "│   urdb_label = 5e611fec5457a3665e019406\n",
      "└ @ Main.REoptLite C:\\Users\\jchang2\\Documents\\REoptLite\\src\\core\\urdb.jl:151\n",
      "┌ Info: Querying PVWatts for prodfactor with \n",
      "│   pv.name = PV\n",
      "└ @ Main.REoptLite C:\\Users\\jchang2\\Documents\\REoptLite\\src\\core\\prodfactor.jl:41\n",
      "┌ Info: PVWatts success.\n",
      "└ @ Main.REoptLite C:\\Users\\jchang2\\Documents\\REoptLite\\src\\core\\prodfactor.jl:49\n",
      "┌ Info: (\"p.mg_tech_sizes_equal_grid_sizes\", true)\n",
      "└ @ Main.REoptLite C:\\Users\\jchang2\\Documents\\REoptLite\\src\\constraints\\outage_constraints.jl:81\n",
      "┌ Info: Model built. Optimizing...\n",
      "└ @ Main.REoptLite C:\\Users\\jchang2\\Documents\\REoptLite\\src\\core\\reopt.jl:265\n",
      "┌ Info: REopt solved with \n",
      "│   termination_status(m) = OPTIMAL\n",
      "└ @ Main.REoptLite C:\\Users\\jchang2\\Documents\\REoptLite\\src\\core\\reopt.jl:274\n"
     ]
    },
    {
     "name": "stdout",
     "output_type": "stream",
     "text": [
      "run 36 complete\n"
     ]
    },
    {
     "name": "stderr",
     "output_type": "stream",
     "text": [
      "┌ Info: Checking URDB for \n",
      "│   urdb_label = 5e611fec5457a3665e019406\n",
      "└ @ Main.REoptLite C:\\Users\\jchang2\\Documents\\REoptLite\\src\\core\\urdb.jl:151\n",
      "┌ Info: Querying PVWatts for prodfactor with \n",
      "│   pv.name = PV\n",
      "└ @ Main.REoptLite C:\\Users\\jchang2\\Documents\\REoptLite\\src\\core\\prodfactor.jl:41\n",
      "┌ Info: PVWatts success.\n",
      "└ @ Main.REoptLite C:\\Users\\jchang2\\Documents\\REoptLite\\src\\core\\prodfactor.jl:49\n",
      "┌ Info: (\"p.mg_tech_sizes_equal_grid_sizes\", true)\n",
      "└ @ Main.REoptLite C:\\Users\\jchang2\\Documents\\REoptLite\\src\\constraints\\outage_constraints.jl:81\n",
      "┌ Info: Model built. Optimizing...\n",
      "└ @ Main.REoptLite C:\\Users\\jchang2\\Documents\\REoptLite\\src\\core\\reopt.jl:265\n",
      "┌ Info: REopt solved with \n",
      "│   termination_status(m) = OPTIMAL\n",
      "└ @ Main.REoptLite C:\\Users\\jchang2\\Documents\\REoptLite\\src\\core\\reopt.jl:274\n"
     ]
    },
    {
     "name": "stdout",
     "output_type": "stream",
     "text": [
      "run 37 complete\n"
     ]
    },
    {
     "name": "stderr",
     "output_type": "stream",
     "text": [
      "┌ Info: Checking URDB for \n",
      "│   urdb_label = 5e611fec5457a3665e019406\n",
      "└ @ Main.REoptLite C:\\Users\\jchang2\\Documents\\REoptLite\\src\\core\\urdb.jl:151\n",
      "┌ Info: Querying PVWatts for prodfactor with \n",
      "│   pv.name = PV\n",
      "└ @ Main.REoptLite C:\\Users\\jchang2\\Documents\\REoptLite\\src\\core\\prodfactor.jl:41\n",
      "┌ Info: PVWatts success.\n",
      "└ @ Main.REoptLite C:\\Users\\jchang2\\Documents\\REoptLite\\src\\core\\prodfactor.jl:49\n",
      "┌ Info: (\"p.mg_tech_sizes_equal_grid_sizes\", true)\n",
      "└ @ Main.REoptLite C:\\Users\\jchang2\\Documents\\REoptLite\\src\\constraints\\outage_constraints.jl:81\n",
      "┌ Info: Model built. Optimizing...\n",
      "└ @ Main.REoptLite C:\\Users\\jchang2\\Documents\\REoptLite\\src\\core\\reopt.jl:265\n",
      "┌ Info: REopt solved with \n",
      "│   termination_status(m) = OPTIMAL\n",
      "└ @ Main.REoptLite C:\\Users\\jchang2\\Documents\\REoptLite\\src\\core\\reopt.jl:274\n"
     ]
    },
    {
     "name": "stdout",
     "output_type": "stream",
     "text": [
      "run 38 complete\n"
     ]
    },
    {
     "name": "stderr",
     "output_type": "stream",
     "text": [
      "┌ Info: Checking URDB for \n",
      "│   urdb_label = 5e611fec5457a3665e019406\n",
      "└ @ Main.REoptLite C:\\Users\\jchang2\\Documents\\REoptLite\\src\\core\\urdb.jl:151\n",
      "┌ Info: Querying PVWatts for prodfactor with \n",
      "│   pv.name = PV\n",
      "└ @ Main.REoptLite C:\\Users\\jchang2\\Documents\\REoptLite\\src\\core\\prodfactor.jl:41\n",
      "┌ Info: PVWatts success.\n",
      "└ @ Main.REoptLite C:\\Users\\jchang2\\Documents\\REoptLite\\src\\core\\prodfactor.jl:49\n",
      "┌ Info: (\"p.mg_tech_sizes_equal_grid_sizes\", true)\n",
      "└ @ Main.REoptLite C:\\Users\\jchang2\\Documents\\REoptLite\\src\\constraints\\outage_constraints.jl:81\n",
      "┌ Info: Model built. Optimizing...\n",
      "└ @ Main.REoptLite C:\\Users\\jchang2\\Documents\\REoptLite\\src\\core\\reopt.jl:265\n",
      "┌ Info: REopt solved with \n",
      "│   termination_status(m) = OPTIMAL\n",
      "└ @ Main.REoptLite C:\\Users\\jchang2\\Documents\\REoptLite\\src\\core\\reopt.jl:274\n"
     ]
    },
    {
     "name": "stdout",
     "output_type": "stream",
     "text": [
      "run 39 complete\n"
     ]
    },
    {
     "name": "stderr",
     "output_type": "stream",
     "text": [
      "┌ Info: Checking URDB for \n",
      "│   urdb_label = 5e611fec5457a3665e019406\n",
      "└ @ Main.REoptLite C:\\Users\\jchang2\\Documents\\REoptLite\\src\\core\\urdb.jl:151\n",
      "┌ Info: Querying PVWatts for prodfactor with \n",
      "│   pv.name = PV\n",
      "└ @ Main.REoptLite C:\\Users\\jchang2\\Documents\\REoptLite\\src\\core\\prodfactor.jl:41\n",
      "┌ Info: PVWatts success.\n",
      "└ @ Main.REoptLite C:\\Users\\jchang2\\Documents\\REoptLite\\src\\core\\prodfactor.jl:49\n",
      "┌ Info: (\"p.mg_tech_sizes_equal_grid_sizes\", true)\n",
      "└ @ Main.REoptLite C:\\Users\\jchang2\\Documents\\REoptLite\\src\\constraints\\outage_constraints.jl:81\n",
      "┌ Info: Model built. Optimizing...\n",
      "└ @ Main.REoptLite C:\\Users\\jchang2\\Documents\\REoptLite\\src\\core\\reopt.jl:265\n",
      "┌ Info: REopt solved with \n",
      "│   termination_status(m) = OPTIMAL\n",
      "└ @ Main.REoptLite C:\\Users\\jchang2\\Documents\\REoptLite\\src\\core\\reopt.jl:274\n"
     ]
    },
    {
     "name": "stdout",
     "output_type": "stream",
     "text": [
      "run 40 complete\n"
     ]
    },
    {
     "name": "stderr",
     "output_type": "stream",
     "text": [
      "┌ Info: Checking URDB for \n",
      "│   urdb_label = 5e611fec5457a3665e019406\n",
      "└ @ Main.REoptLite C:\\Users\\jchang2\\Documents\\REoptLite\\src\\core\\urdb.jl:151\n",
      "┌ Info: Querying PVWatts for prodfactor with \n",
      "│   pv.name = PV\n",
      "└ @ Main.REoptLite C:\\Users\\jchang2\\Documents\\REoptLite\\src\\core\\prodfactor.jl:41\n",
      "┌ Info: PVWatts success.\n",
      "└ @ Main.REoptLite C:\\Users\\jchang2\\Documents\\REoptLite\\src\\core\\prodfactor.jl:49\n",
      "┌ Info: (\"p.mg_tech_sizes_equal_grid_sizes\", true)\n",
      "└ @ Main.REoptLite C:\\Users\\jchang2\\Documents\\REoptLite\\src\\constraints\\outage_constraints.jl:81\n",
      "┌ Info: Model built. Optimizing...\n",
      "└ @ Main.REoptLite C:\\Users\\jchang2\\Documents\\REoptLite\\src\\core\\reopt.jl:265\n",
      "┌ Info: REopt solved with \n",
      "│   termination_status(m) = OPTIMAL\n",
      "└ @ Main.REoptLite C:\\Users\\jchang2\\Documents\\REoptLite\\src\\core\\reopt.jl:274\n"
     ]
    },
    {
     "name": "stdout",
     "output_type": "stream",
     "text": [
      "run 41 complete\n"
     ]
    },
    {
     "name": "stderr",
     "output_type": "stream",
     "text": [
      "┌ Info: Checking URDB for \n",
      "│   urdb_label = 5e611fec5457a3665e019406\n",
      "└ @ Main.REoptLite C:\\Users\\jchang2\\Documents\\REoptLite\\src\\core\\urdb.jl:151\n",
      "┌ Info: Querying PVWatts for prodfactor with \n",
      "│   pv.name = PV\n",
      "└ @ Main.REoptLite C:\\Users\\jchang2\\Documents\\REoptLite\\src\\core\\prodfactor.jl:41\n",
      "┌ Info: PVWatts success.\n",
      "└ @ Main.REoptLite C:\\Users\\jchang2\\Documents\\REoptLite\\src\\core\\prodfactor.jl:49\n",
      "┌ Info: (\"p.mg_tech_sizes_equal_grid_sizes\", true)\n",
      "└ @ Main.REoptLite C:\\Users\\jchang2\\Documents\\REoptLite\\src\\constraints\\outage_constraints.jl:81\n",
      "┌ Info: Model built. Optimizing...\n",
      "└ @ Main.REoptLite C:\\Users\\jchang2\\Documents\\REoptLite\\src\\core\\reopt.jl:265\n",
      "┌ Info: REopt solved with \n",
      "│   termination_status(m) = OPTIMAL\n",
      "└ @ Main.REoptLite C:\\Users\\jchang2\\Documents\\REoptLite\\src\\core\\reopt.jl:274\n"
     ]
    },
    {
     "name": "stdout",
     "output_type": "stream",
     "text": [
      "run 42 complete\n"
     ]
    },
    {
     "name": "stderr",
     "output_type": "stream",
     "text": [
      "┌ Info: Checking URDB for \n",
      "│   urdb_label = 5e611fec5457a3665e019406\n",
      "└ @ Main.REoptLite C:\\Users\\jchang2\\Documents\\REoptLite\\src\\core\\urdb.jl:151\n",
      "┌ Info: Querying PVWatts for prodfactor with \n",
      "│   pv.name = PV\n",
      "└ @ Main.REoptLite C:\\Users\\jchang2\\Documents\\REoptLite\\src\\core\\prodfactor.jl:41\n",
      "┌ Info: PVWatts success.\n",
      "└ @ Main.REoptLite C:\\Users\\jchang2\\Documents\\REoptLite\\src\\core\\prodfactor.jl:49\n",
      "┌ Info: (\"p.mg_tech_sizes_equal_grid_sizes\", true)\n",
      "└ @ Main.REoptLite C:\\Users\\jchang2\\Documents\\REoptLite\\src\\constraints\\outage_constraints.jl:81\n",
      "┌ Info: Model built. Optimizing...\n",
      "└ @ Main.REoptLite C:\\Users\\jchang2\\Documents\\REoptLite\\src\\core\\reopt.jl:265\n",
      "┌ Info: REopt solved with \n",
      "│   termination_status(m) = OPTIMAL\n",
      "└ @ Main.REoptLite C:\\Users\\jchang2\\Documents\\REoptLite\\src\\core\\reopt.jl:274\n"
     ]
    },
    {
     "name": "stdout",
     "output_type": "stream",
     "text": [
      "run 43 complete\n"
     ]
    },
    {
     "name": "stderr",
     "output_type": "stream",
     "text": [
      "┌ Info: Checking URDB for \n",
      "│   urdb_label = 5e611fec5457a3665e019406\n",
      "└ @ Main.REoptLite C:\\Users\\jchang2\\Documents\\REoptLite\\src\\core\\urdb.jl:151\n",
      "┌ Info: Querying PVWatts for prodfactor with \n",
      "│   pv.name = PV\n",
      "└ @ Main.REoptLite C:\\Users\\jchang2\\Documents\\REoptLite\\src\\core\\prodfactor.jl:41\n",
      "┌ Info: PVWatts success.\n",
      "└ @ Main.REoptLite C:\\Users\\jchang2\\Documents\\REoptLite\\src\\core\\prodfactor.jl:49\n",
      "┌ Info: (\"p.mg_tech_sizes_equal_grid_sizes\", true)\n",
      "└ @ Main.REoptLite C:\\Users\\jchang2\\Documents\\REoptLite\\src\\constraints\\outage_constraints.jl:81\n",
      "┌ Info: Model built. Optimizing...\n",
      "└ @ Main.REoptLite C:\\Users\\jchang2\\Documents\\REoptLite\\src\\core\\reopt.jl:265\n",
      "┌ Info: REopt solved with \n",
      "│   termination_status(m) = OPTIMAL\n",
      "└ @ Main.REoptLite C:\\Users\\jchang2\\Documents\\REoptLite\\src\\core\\reopt.jl:274\n"
     ]
    },
    {
     "name": "stdout",
     "output_type": "stream",
     "text": [
      "run 44 complete\n"
     ]
    },
    {
     "name": "stderr",
     "output_type": "stream",
     "text": [
      "┌ Info: Checking URDB for \n",
      "│   urdb_label = 5e611fec5457a3665e019406\n",
      "└ @ Main.REoptLite C:\\Users\\jchang2\\Documents\\REoptLite\\src\\core\\urdb.jl:151\n",
      "┌ Info: Querying PVWatts for prodfactor with \n",
      "│   pv.name = PV\n",
      "└ @ Main.REoptLite C:\\Users\\jchang2\\Documents\\REoptLite\\src\\core\\prodfactor.jl:41\n",
      "┌ Info: PVWatts success.\n",
      "└ @ Main.REoptLite C:\\Users\\jchang2\\Documents\\REoptLite\\src\\core\\prodfactor.jl:49\n",
      "┌ Info: (\"p.mg_tech_sizes_equal_grid_sizes\", true)\n",
      "└ @ Main.REoptLite C:\\Users\\jchang2\\Documents\\REoptLite\\src\\constraints\\outage_constraints.jl:81\n",
      "┌ Info: Model built. Optimizing...\n",
      "└ @ Main.REoptLite C:\\Users\\jchang2\\Documents\\REoptLite\\src\\core\\reopt.jl:265\n",
      "┌ Info: REopt solved with \n",
      "│   termination_status(m) = OPTIMAL\n",
      "└ @ Main.REoptLite C:\\Users\\jchang2\\Documents\\REoptLite\\src\\core\\reopt.jl:274\n"
     ]
    },
    {
     "name": "stdout",
     "output_type": "stream",
     "text": [
      "run 45 complete\n"
     ]
    },
    {
     "name": "stderr",
     "output_type": "stream",
     "text": [
      "┌ Info: Checking URDB for \n",
      "│   urdb_label = 5e611fec5457a3665e019406\n",
      "└ @ Main.REoptLite C:\\Users\\jchang2\\Documents\\REoptLite\\src\\core\\urdb.jl:151\n",
      "┌ Info: Querying PVWatts for prodfactor with \n",
      "│   pv.name = PV\n",
      "└ @ Main.REoptLite C:\\Users\\jchang2\\Documents\\REoptLite\\src\\core\\prodfactor.jl:41\n",
      "┌ Info: PVWatts success.\n",
      "└ @ Main.REoptLite C:\\Users\\jchang2\\Documents\\REoptLite\\src\\core\\prodfactor.jl:49\n",
      "┌ Info: (\"p.mg_tech_sizes_equal_grid_sizes\", true)\n",
      "└ @ Main.REoptLite C:\\Users\\jchang2\\Documents\\REoptLite\\src\\constraints\\outage_constraints.jl:81\n",
      "┌ Info: Model built. Optimizing...\n",
      "└ @ Main.REoptLite C:\\Users\\jchang2\\Documents\\REoptLite\\src\\core\\reopt.jl:265\n",
      "┌ Info: REopt solved with \n",
      "│   termination_status(m) = OPTIMAL\n",
      "└ @ Main.REoptLite C:\\Users\\jchang2\\Documents\\REoptLite\\src\\core\\reopt.jl:274\n"
     ]
    },
    {
     "name": "stdout",
     "output_type": "stream",
     "text": [
      "run 46 complete\n"
     ]
    },
    {
     "name": "stderr",
     "output_type": "stream",
     "text": [
      "┌ Info: Checking URDB for \n",
      "│   urdb_label = 5e611fec5457a3665e019406\n",
      "└ @ Main.REoptLite C:\\Users\\jchang2\\Documents\\REoptLite\\src\\core\\urdb.jl:151\n",
      "┌ Info: Querying PVWatts for prodfactor with \n",
      "│   pv.name = PV\n",
      "└ @ Main.REoptLite C:\\Users\\jchang2\\Documents\\REoptLite\\src\\core\\prodfactor.jl:41\n",
      "┌ Info: PVWatts success.\n",
      "└ @ Main.REoptLite C:\\Users\\jchang2\\Documents\\REoptLite\\src\\core\\prodfactor.jl:49\n",
      "┌ Info: (\"p.mg_tech_sizes_equal_grid_sizes\", true)\n",
      "└ @ Main.REoptLite C:\\Users\\jchang2\\Documents\\REoptLite\\src\\constraints\\outage_constraints.jl:81\n",
      "┌ Info: Model built. Optimizing...\n",
      "└ @ Main.REoptLite C:\\Users\\jchang2\\Documents\\REoptLite\\src\\core\\reopt.jl:265\n",
      "┌ Info: REopt solved with \n",
      "│   termination_status(m) = OPTIMAL\n",
      "└ @ Main.REoptLite C:\\Users\\jchang2\\Documents\\REoptLite\\src\\core\\reopt.jl:274\n"
     ]
    },
    {
     "name": "stdout",
     "output_type": "stream",
     "text": [
      "run 47 complete\n"
     ]
    },
    {
     "name": "stderr",
     "output_type": "stream",
     "text": [
      "┌ Info: Checking URDB for \n",
      "│   urdb_label = 5e611fec5457a3665e019406\n",
      "└ @ Main.REoptLite C:\\Users\\jchang2\\Documents\\REoptLite\\src\\core\\urdb.jl:151\n",
      "┌ Info: Querying PVWatts for prodfactor with \n",
      "│   pv.name = PV\n",
      "└ @ Main.REoptLite C:\\Users\\jchang2\\Documents\\REoptLite\\src\\core\\prodfactor.jl:41\n",
      "┌ Info: PVWatts success.\n",
      "└ @ Main.REoptLite C:\\Users\\jchang2\\Documents\\REoptLite\\src\\core\\prodfactor.jl:49\n",
      "┌ Info: (\"p.mg_tech_sizes_equal_grid_sizes\", true)\n",
      "└ @ Main.REoptLite C:\\Users\\jchang2\\Documents\\REoptLite\\src\\constraints\\outage_constraints.jl:81\n",
      "┌ Info: Model built. Optimizing...\n",
      "└ @ Main.REoptLite C:\\Users\\jchang2\\Documents\\REoptLite\\src\\core\\reopt.jl:265\n",
      "┌ Info: REopt solved with \n",
      "│   termination_status(m) = OPTIMAL\n",
      "└ @ Main.REoptLite C:\\Users\\jchang2\\Documents\\REoptLite\\src\\core\\reopt.jl:274\n"
     ]
    },
    {
     "name": "stdout",
     "output_type": "stream",
     "text": [
      "run 48 complete\n"
     ]
    },
    {
     "name": "stderr",
     "output_type": "stream",
     "text": [
      "┌ Info: Checking URDB for \n",
      "│   urdb_label = 5e611fec5457a3665e019406\n",
      "└ @ Main.REoptLite C:\\Users\\jchang2\\Documents\\REoptLite\\src\\core\\urdb.jl:151\n",
      "┌ Info: Querying PVWatts for prodfactor with \n",
      "│   pv.name = PV\n",
      "└ @ Main.REoptLite C:\\Users\\jchang2\\Documents\\REoptLite\\src\\core\\prodfactor.jl:41\n",
      "┌ Info: PVWatts success.\n",
      "└ @ Main.REoptLite C:\\Users\\jchang2\\Documents\\REoptLite\\src\\core\\prodfactor.jl:49\n",
      "┌ Info: (\"p.mg_tech_sizes_equal_grid_sizes\", true)\n",
      "└ @ Main.REoptLite C:\\Users\\jchang2\\Documents\\REoptLite\\src\\constraints\\outage_constraints.jl:81\n",
      "┌ Info: Model built. Optimizing...\n",
      "└ @ Main.REoptLite C:\\Users\\jchang2\\Documents\\REoptLite\\src\\core\\reopt.jl:265\n",
      "┌ Info: REopt solved with \n",
      "│   termination_status(m) = OPTIMAL\n",
      "└ @ Main.REoptLite C:\\Users\\jchang2\\Documents\\REoptLite\\src\\core\\reopt.jl:274\n"
     ]
    },
    {
     "name": "stdout",
     "output_type": "stream",
     "text": [
      "run 49 complete\n"
     ]
    },
    {
     "name": "stderr",
     "output_type": "stream",
     "text": [
      "┌ Info: Checking URDB for \n",
      "│   urdb_label = 5e611fec5457a3665e019406\n",
      "└ @ Main.REoptLite C:\\Users\\jchang2\\Documents\\REoptLite\\src\\core\\urdb.jl:151\n",
      "┌ Info: Querying PVWatts for prodfactor with \n",
      "│   pv.name = PV\n",
      "└ @ Main.REoptLite C:\\Users\\jchang2\\Documents\\REoptLite\\src\\core\\prodfactor.jl:41\n",
      "┌ Info: PVWatts success.\n",
      "└ @ Main.REoptLite C:\\Users\\jchang2\\Documents\\REoptLite\\src\\core\\prodfactor.jl:49\n",
      "┌ Info: (\"p.mg_tech_sizes_equal_grid_sizes\", true)\n",
      "└ @ Main.REoptLite C:\\Users\\jchang2\\Documents\\REoptLite\\src\\constraints\\outage_constraints.jl:81\n",
      "┌ Info: Model built. Optimizing...\n",
      "└ @ Main.REoptLite C:\\Users\\jchang2\\Documents\\REoptLite\\src\\core\\reopt.jl:265\n",
      "┌ Info: REopt solved with \n",
      "│   termination_status(m) = OPTIMAL\n",
      "└ @ Main.REoptLite C:\\Users\\jchang2\\Documents\\REoptLite\\src\\core\\reopt.jl:274\n"
     ]
    },
    {
     "name": "stdout",
     "output_type": "stream",
     "text": [
      "run 50 complete\n"
     ]
    },
    {
     "name": "stderr",
     "output_type": "stream",
     "text": [
      "┌ Info: Checking URDB for \n",
      "│   urdb_label = 5e611fec5457a3665e019406\n",
      "└ @ Main.REoptLite C:\\Users\\jchang2\\Documents\\REoptLite\\src\\core\\urdb.jl:151\n",
      "┌ Info: Querying PVWatts for prodfactor with \n",
      "│   pv.name = PV\n",
      "└ @ Main.REoptLite C:\\Users\\jchang2\\Documents\\REoptLite\\src\\core\\prodfactor.jl:41\n",
      "┌ Info: PVWatts success.\n",
      "└ @ Main.REoptLite C:\\Users\\jchang2\\Documents\\REoptLite\\src\\core\\prodfactor.jl:49\n",
      "┌ Info: (\"p.mg_tech_sizes_equal_grid_sizes\", true)\n",
      "└ @ Main.REoptLite C:\\Users\\jchang2\\Documents\\REoptLite\\src\\constraints\\outage_constraints.jl:81\n",
      "┌ Info: Model built. Optimizing...\n",
      "└ @ Main.REoptLite C:\\Users\\jchang2\\Documents\\REoptLite\\src\\core\\reopt.jl:265\n",
      "┌ Info: REopt solved with \n",
      "│   termination_status(m) = OPTIMAL\n",
      "└ @ Main.REoptLite C:\\Users\\jchang2\\Documents\\REoptLite\\src\\core\\reopt.jl:274\n"
     ]
    },
    {
     "name": "stdout",
     "output_type": "stream",
     "text": [
      "run 51 complete\n"
     ]
    },
    {
     "name": "stderr",
     "output_type": "stream",
     "text": [
      "┌ Info: Checking URDB for \n",
      "│   urdb_label = 5e611fec5457a3665e019406\n",
      "└ @ Main.REoptLite C:\\Users\\jchang2\\Documents\\REoptLite\\src\\core\\urdb.jl:151\n",
      "┌ Info: Querying PVWatts for prodfactor with \n",
      "│   pv.name = PV\n",
      "└ @ Main.REoptLite C:\\Users\\jchang2\\Documents\\REoptLite\\src\\core\\prodfactor.jl:41\n",
      "┌ Info: PVWatts success.\n",
      "└ @ Main.REoptLite C:\\Users\\jchang2\\Documents\\REoptLite\\src\\core\\prodfactor.jl:49\n",
      "┌ Info: (\"p.mg_tech_sizes_equal_grid_sizes\", true)\n",
      "└ @ Main.REoptLite C:\\Users\\jchang2\\Documents\\REoptLite\\src\\constraints\\outage_constraints.jl:81\n",
      "┌ Info: Model built. Optimizing...\n",
      "└ @ Main.REoptLite C:\\Users\\jchang2\\Documents\\REoptLite\\src\\core\\reopt.jl:265\n",
      "┌ Info: REopt solved with \n",
      "│   termination_status(m) = OPTIMAL\n",
      "└ @ Main.REoptLite C:\\Users\\jchang2\\Documents\\REoptLite\\src\\core\\reopt.jl:274\n"
     ]
    },
    {
     "name": "stdout",
     "output_type": "stream",
     "text": [
      "run 52 complete\n"
     ]
    },
    {
     "name": "stderr",
     "output_type": "stream",
     "text": [
      "┌ Info: Checking URDB for \n",
      "│   urdb_label = 5e611fec5457a3665e019406\n",
      "└ @ Main.REoptLite C:\\Users\\jchang2\\Documents\\REoptLite\\src\\core\\urdb.jl:151\n",
      "┌ Info: Querying PVWatts for prodfactor with \n",
      "│   pv.name = PV\n",
      "└ @ Main.REoptLite C:\\Users\\jchang2\\Documents\\REoptLite\\src\\core\\prodfactor.jl:41\n",
      "┌ Info: PVWatts success.\n",
      "└ @ Main.REoptLite C:\\Users\\jchang2\\Documents\\REoptLite\\src\\core\\prodfactor.jl:49\n",
      "┌ Info: (\"p.mg_tech_sizes_equal_grid_sizes\", true)\n",
      "└ @ Main.REoptLite C:\\Users\\jchang2\\Documents\\REoptLite\\src\\constraints\\outage_constraints.jl:81\n",
      "┌ Info: Model built. Optimizing...\n",
      "└ @ Main.REoptLite C:\\Users\\jchang2\\Documents\\REoptLite\\src\\core\\reopt.jl:265\n",
      "┌ Info: REopt solved with \n",
      "│   termination_status(m) = OPTIMAL\n",
      "└ @ Main.REoptLite C:\\Users\\jchang2\\Documents\\REoptLite\\src\\core\\reopt.jl:274\n"
     ]
    },
    {
     "name": "stdout",
     "output_type": "stream",
     "text": [
      "run 53 complete\n"
     ]
    },
    {
     "name": "stderr",
     "output_type": "stream",
     "text": [
      "┌ Info: Checking URDB for \n",
      "│   urdb_label = 5e611fec5457a3665e019406\n",
      "└ @ Main.REoptLite C:\\Users\\jchang2\\Documents\\REoptLite\\src\\core\\urdb.jl:151\n",
      "┌ Info: Querying PVWatts for prodfactor with \n",
      "│   pv.name = PV\n",
      "└ @ Main.REoptLite C:\\Users\\jchang2\\Documents\\REoptLite\\src\\core\\prodfactor.jl:41\n",
      "┌ Info: PVWatts success.\n",
      "└ @ Main.REoptLite C:\\Users\\jchang2\\Documents\\REoptLite\\src\\core\\prodfactor.jl:49\n",
      "┌ Info: (\"p.mg_tech_sizes_equal_grid_sizes\", true)\n",
      "└ @ Main.REoptLite C:\\Users\\jchang2\\Documents\\REoptLite\\src\\constraints\\outage_constraints.jl:81\n",
      "┌ Info: Model built. Optimizing...\n",
      "└ @ Main.REoptLite C:\\Users\\jchang2\\Documents\\REoptLite\\src\\core\\reopt.jl:265\n",
      "┌ Info: REopt solved with \n",
      "│   termination_status(m) = OPTIMAL\n",
      "└ @ Main.REoptLite C:\\Users\\jchang2\\Documents\\REoptLite\\src\\core\\reopt.jl:274\n"
     ]
    },
    {
     "name": "stdout",
     "output_type": "stream",
     "text": [
      "run 54 complete\n"
     ]
    },
    {
     "name": "stderr",
     "output_type": "stream",
     "text": [
      "┌ Info: Checking URDB for \n",
      "│   urdb_label = 5e611fec5457a3665e019406\n",
      "└ @ Main.REoptLite C:\\Users\\jchang2\\Documents\\REoptLite\\src\\core\\urdb.jl:151\n",
      "┌ Info: Querying PVWatts for prodfactor with \n",
      "│   pv.name = PV\n",
      "└ @ Main.REoptLite C:\\Users\\jchang2\\Documents\\REoptLite\\src\\core\\prodfactor.jl:41\n",
      "┌ Info: PVWatts success.\n",
      "└ @ Main.REoptLite C:\\Users\\jchang2\\Documents\\REoptLite\\src\\core\\prodfactor.jl:49\n",
      "┌ Info: (\"p.mg_tech_sizes_equal_grid_sizes\", true)\n",
      "└ @ Main.REoptLite C:\\Users\\jchang2\\Documents\\REoptLite\\src\\constraints\\outage_constraints.jl:81\n",
      "┌ Info: Model built. Optimizing...\n",
      "└ @ Main.REoptLite C:\\Users\\jchang2\\Documents\\REoptLite\\src\\core\\reopt.jl:265\n",
      "┌ Info: REopt solved with \n",
      "│   termination_status(m) = OPTIMAL\n",
      "└ @ Main.REoptLite C:\\Users\\jchang2\\Documents\\REoptLite\\src\\core\\reopt.jl:274\n"
     ]
    },
    {
     "name": "stdout",
     "output_type": "stream",
     "text": [
      "run 55 complete\n"
     ]
    },
    {
     "name": "stderr",
     "output_type": "stream",
     "text": [
      "┌ Info: Checking URDB for \n",
      "│   urdb_label = 5e611fec5457a3665e019406\n",
      "└ @ Main.REoptLite C:\\Users\\jchang2\\Documents\\REoptLite\\src\\core\\urdb.jl:151\n",
      "┌ Info: Querying PVWatts for prodfactor with \n",
      "│   pv.name = PV\n",
      "└ @ Main.REoptLite C:\\Users\\jchang2\\Documents\\REoptLite\\src\\core\\prodfactor.jl:41\n",
      "┌ Info: PVWatts success.\n",
      "└ @ Main.REoptLite C:\\Users\\jchang2\\Documents\\REoptLite\\src\\core\\prodfactor.jl:49\n",
      "┌ Info: (\"p.mg_tech_sizes_equal_grid_sizes\", true)\n",
      "└ @ Main.REoptLite C:\\Users\\jchang2\\Documents\\REoptLite\\src\\constraints\\outage_constraints.jl:81\n",
      "┌ Info: Model built. Optimizing...\n",
      "└ @ Main.REoptLite C:\\Users\\jchang2\\Documents\\REoptLite\\src\\core\\reopt.jl:265\n",
      "┌ Info: REopt solved with \n",
      "│   termination_status(m) = OPTIMAL\n",
      "└ @ Main.REoptLite C:\\Users\\jchang2\\Documents\\REoptLite\\src\\core\\reopt.jl:274\n"
     ]
    },
    {
     "name": "stdout",
     "output_type": "stream",
     "text": [
      "run 56 complete\n"
     ]
    },
    {
     "name": "stderr",
     "output_type": "stream",
     "text": [
      "┌ Info: Checking URDB for \n",
      "│   urdb_label = 5e611fec5457a3665e019406\n",
      "└ @ Main.REoptLite C:\\Users\\jchang2\\Documents\\REoptLite\\src\\core\\urdb.jl:151\n",
      "┌ Info: Querying PVWatts for prodfactor with \n",
      "│   pv.name = PV\n",
      "└ @ Main.REoptLite C:\\Users\\jchang2\\Documents\\REoptLite\\src\\core\\prodfactor.jl:41\n",
      "┌ Info: PVWatts success.\n",
      "└ @ Main.REoptLite C:\\Users\\jchang2\\Documents\\REoptLite\\src\\core\\prodfactor.jl:49\n",
      "┌ Info: (\"p.mg_tech_sizes_equal_grid_sizes\", true)\n",
      "└ @ Main.REoptLite C:\\Users\\jchang2\\Documents\\REoptLite\\src\\constraints\\outage_constraints.jl:81\n",
      "┌ Info: Model built. Optimizing...\n",
      "└ @ Main.REoptLite C:\\Users\\jchang2\\Documents\\REoptLite\\src\\core\\reopt.jl:265\n",
      "┌ Info: REopt solved with \n",
      "│   termination_status(m) = OPTIMAL\n",
      "└ @ Main.REoptLite C:\\Users\\jchang2\\Documents\\REoptLite\\src\\core\\reopt.jl:274\n"
     ]
    },
    {
     "name": "stdout",
     "output_type": "stream",
     "text": [
      "run 57 complete\n"
     ]
    },
    {
     "name": "stderr",
     "output_type": "stream",
     "text": [
      "┌ Info: Checking URDB for \n",
      "│   urdb_label = 5e611fec5457a3665e019406\n",
      "└ @ Main.REoptLite C:\\Users\\jchang2\\Documents\\REoptLite\\src\\core\\urdb.jl:151\n",
      "┌ Info: Querying PVWatts for prodfactor with \n",
      "│   pv.name = PV\n",
      "└ @ Main.REoptLite C:\\Users\\jchang2\\Documents\\REoptLite\\src\\core\\prodfactor.jl:41\n",
      "┌ Info: PVWatts success.\n",
      "└ @ Main.REoptLite C:\\Users\\jchang2\\Documents\\REoptLite\\src\\core\\prodfactor.jl:49\n",
      "┌ Info: (\"p.mg_tech_sizes_equal_grid_sizes\", true)\n",
      "└ @ Main.REoptLite C:\\Users\\jchang2\\Documents\\REoptLite\\src\\constraints\\outage_constraints.jl:81\n",
      "┌ Info: Model built. Optimizing...\n",
      "└ @ Main.REoptLite C:\\Users\\jchang2\\Documents\\REoptLite\\src\\core\\reopt.jl:265\n",
      "┌ Info: REopt solved with \n",
      "│   termination_status(m) = OPTIMAL\n",
      "└ @ Main.REoptLite C:\\Users\\jchang2\\Documents\\REoptLite\\src\\core\\reopt.jl:274\n"
     ]
    },
    {
     "name": "stdout",
     "output_type": "stream",
     "text": [
      "run 58 complete\n"
     ]
    },
    {
     "name": "stderr",
     "output_type": "stream",
     "text": [
      "┌ Info: Checking URDB for \n",
      "│   urdb_label = 5e611fec5457a3665e019406\n",
      "└ @ Main.REoptLite C:\\Users\\jchang2\\Documents\\REoptLite\\src\\core\\urdb.jl:151\n",
      "┌ Info: Querying PVWatts for prodfactor with \n",
      "│   pv.name = PV\n",
      "└ @ Main.REoptLite C:\\Users\\jchang2\\Documents\\REoptLite\\src\\core\\prodfactor.jl:41\n",
      "┌ Info: PVWatts success.\n",
      "└ @ Main.REoptLite C:\\Users\\jchang2\\Documents\\REoptLite\\src\\core\\prodfactor.jl:49\n",
      "┌ Info: (\"p.mg_tech_sizes_equal_grid_sizes\", true)\n",
      "└ @ Main.REoptLite C:\\Users\\jchang2\\Documents\\REoptLite\\src\\constraints\\outage_constraints.jl:81\n",
      "┌ Info: Model built. Optimizing...\n",
      "└ @ Main.REoptLite C:\\Users\\jchang2\\Documents\\REoptLite\\src\\core\\reopt.jl:265\n",
      "┌ Info: REopt solved with \n",
      "│   termination_status(m) = OPTIMAL\n",
      "└ @ Main.REoptLite C:\\Users\\jchang2\\Documents\\REoptLite\\src\\core\\reopt.jl:274\n"
     ]
    },
    {
     "name": "stdout",
     "output_type": "stream",
     "text": [
      "run 59 complete\n"
     ]
    },
    {
     "name": "stderr",
     "output_type": "stream",
     "text": [
      "┌ Info: Checking URDB for \n",
      "│   urdb_label = 5e611fec5457a3665e019406\n",
      "└ @ Main.REoptLite C:\\Users\\jchang2\\Documents\\REoptLite\\src\\core\\urdb.jl:151\n",
      "┌ Info: Querying PVWatts for prodfactor with \n",
      "│   pv.name = PV\n",
      "└ @ Main.REoptLite C:\\Users\\jchang2\\Documents\\REoptLite\\src\\core\\prodfactor.jl:41\n",
      "┌ Info: PVWatts success.\n",
      "└ @ Main.REoptLite C:\\Users\\jchang2\\Documents\\REoptLite\\src\\core\\prodfactor.jl:49\n",
      "┌ Info: (\"p.mg_tech_sizes_equal_grid_sizes\", true)\n",
      "└ @ Main.REoptLite C:\\Users\\jchang2\\Documents\\REoptLite\\src\\constraints\\outage_constraints.jl:81\n",
      "┌ Info: Model built. Optimizing...\n",
      "└ @ Main.REoptLite C:\\Users\\jchang2\\Documents\\REoptLite\\src\\core\\reopt.jl:265\n",
      "┌ Info: REopt solved with \n",
      "│   termination_status(m) = OPTIMAL\n",
      "└ @ Main.REoptLite C:\\Users\\jchang2\\Documents\\REoptLite\\src\\core\\reopt.jl:274\n"
     ]
    },
    {
     "name": "stdout",
     "output_type": "stream",
     "text": [
      "run 60 complete\n"
     ]
    }
   ],
   "source": [
    "results = Dict[]\n",
    "\n",
    "for VoLL in range(1, stop=60, step=1)\n",
    "    scenario_dict = copy(scenario_template)\n",
    "    scenario_dict[\"ElectricUtility\"][\"outage_start_timesteps\"] = collect(range(17, stop=8760-336, step=336))\n",
    "    scenario_dict[\"Financial\"][\"VoLL\"] = VoLL\n",
    "    s = Scenario(scenario_dict)\n",
    "    push!(results, run(s, \"stm_VoLL\"*string(VoLL)))\n",
    "    println(\"run $VoLL complete\")\n",
    "end"
   ]
  },
  {
   "cell_type": "code",
   "execution_count": 9,
   "metadata": {},
   "outputs": [
    {
     "data": {
      "text/plain": [
       "60-element Array{Dict,1}:\n",
       " Dict{String,Any}(\"net_capital_costs\" => 1.30832953e6,\"year_one_demand_cost\" => 1.14360361e6,\"lcc\" => 7.1188058e7,\"expected_outage_cost\" => 1.253325696665689e7,\"year_one_utility_kwh\" => 3.616279766e7,\"year_one_export_benefit\" => 0.0,\"year_one_energy_cost\" => 1.1798836e6,\"PVtoCUR\" => [0.0, 0.0, 0.0, 0.0, 0.0, 0.0, 0.0, 0.0, -0.0, 0.0  …  0.0, 0.0, 0.0, 0.0, 0.0, 0.0, 0.0, 0.0, 0.0, 0.0],\"year_one_energy_produced_PV\" => 5.624163e6,\"PV_net_fixed_om_costs\" => 480241.0…)\n",
       " Dict{String,Any}(\"net_capital_costs\" => 2.70559359e6,\"year_one_demand_cost\" => 1.09536422e6,\"lcc\" => 8.3493494e7,\"expected_outage_cost\" => 2.4208453232034147e7,\"year_one_utility_kwh\" => 3.600373311e7,\"year_one_export_benefit\" => 0.0,\"year_one_energy_cost\" => 1.1746938e6,\"PVtoCUR\" => [0.0, 0.0, 0.0, 0.0, 0.0, 0.0, 0.0, 0.0, -0.0, 0.0  …  0.0, 0.0, 0.0, 0.0, 0.0, 0.0, 0.0, 0.0, 0.0, 0.0],\"year_one_energy_produced_PV\" => 5.798379e6,\"PV_net_fixed_om_costs\" => 495117.0…)\n",
       " Dict{String,Any}(\"net_capital_costs\" => 5.35954759e6,\"year_one_demand_cost\" => 1.03106041e6,\"lcc\" => 9.5297932e7,\"expected_outage_cost\" => 3.427542711633837e7,\"year_one_utility_kwh\" => 3.553174182e7,\"year_one_export_benefit\" => 0.0,\"year_one_energy_cost\" => 1.15929414e6,\"PVtoCUR\" => [0.0, 0.0, 0.0, 0.0, 0.0, 0.0, 0.0, 0.0, -0.0, 0.0  …  0.0, 0.0, 0.0, 0.0, 0.0, 0.0, 0.0, 0.0, 0.0, 0.0],\"year_one_energy_produced_PV\" => 6.316088e6,\"PV_net_fixed_om_costs\" => 539323.0…)\n",
       " Dict{String,Any}(\"net_capital_costs\" => 9.12596544e6,\"year_one_demand_cost\" => 961555.26,\"lcc\" => 1.06253278e8,\"expected_outage_cost\" => 4.216522713094903e7,\"year_one_utility_kwh\" => 3.505536035e7,\"year_one_export_benefit\" => 0.0,\"year_one_energy_cost\" => 1.14375124e6,\"PVtoCUR\" => [0.0, 0.0, 0.0, 0.0, 0.0, 0.0, 0.0, 0.0, -0.0, 0.0  …  0.0, 0.0, 0.0, 0.0, 0.0, 0.0, 0.0, 0.0, 0.0, 0.0],\"year_one_energy_produced_PV\" => 6.856335e6,\"PV_net_fixed_om_costs\" => 585454.0…)\n",
       " Dict{String,Any}(\"net_capital_costs\" => 1.232079145e7,\"year_one_demand_cost\" => 908936.42,\"lcc\" => 1.16531722e8,\"expected_outage_cost\" => 4.9778325323558666e7,\"year_one_utility_kwh\" => 3.449165098e7,\"year_one_export_benefit\" => 0.0,\"year_one_energy_cost\" => 1.1253591e6,\"PVtoCUR\" => [0.0, 0.0, 0.0, 0.0, 0.0, 0.0, 0.0, 0.0, -0.0, 0.0  …  0.0, 0.0, 0.0, 0.0, 0.0, 0.0, 0.0, 0.0, 0.0, 0.0],\"year_one_energy_produced_PV\" => 7.490399e6,\"PV_net_fixed_om_costs\" => 639596.0…)\n",
       " Dict{String,Any}(\"net_capital_costs\" => 2.321546012e7,\"year_one_demand_cost\" => 765681.05,\"lcc\" => 1.25750516e8,\"expected_outage_cost\" => 4.92512496852114e7,\"year_one_utility_kwh\" => 3.224332503e7,\"year_one_export_benefit\" => 0.0,\"year_one_energy_cost\" => 1.05200297e6,\"PVtoCUR\" => [0.0, 0.0, 0.0, 0.0, 0.0, 0.0, 0.0, 0.0, -0.0, 0.0  …  0.0, 0.0, 0.0, 0.0, 0.0, 0.0, 0.0, 0.0, 0.0, 0.0],\"year_one_energy_produced_PV\" => 9.976033e6,\"PV_net_fixed_om_costs\" => 851842.0…)\n",
       " Dict{String,Any}(\"net_capital_costs\" => 4.79540078e7,\"year_one_demand_cost\" => 480184.95,\"lcc\" => 1.31746804e8,\"expected_outage_cost\" => 3.214392591544904e7,\"year_one_utility_kwh\" => 2.72558741e7,\"year_one_export_benefit\" => 0.0,\"year_one_energy_cost\" => 889277.4,\"PVtoCUR\" => [0.0, 0.0, 0.0, 0.0, 0.0, 0.0, 0.0, 0.0, -0.0, 0.0  …  0.0, 0.0, 0.0, 0.0, 0.0, 0.0, 0.0, 0.0, 0.0, 0.0],\"year_one_energy_produced_PV\" => 1.549819e7,\"PV_net_fixed_om_costs\" => 1.323372e6…)\n",
       " Dict{String,Any}(\"net_capital_costs\" => 5.778672622e7,\"year_one_demand_cost\" => 416762.33,\"lcc\" => 1.35694709e8,\"expected_outage_cost\" => 2.6344598754388023e7,\"year_one_utility_kwh\" => 2.415493301e7,\"year_one_export_benefit\" => 0.0,\"year_one_energy_cost\" => 788103.0,\"PVtoCUR\" => [0.0, 0.0, 0.0, 0.0, 0.0, 0.0, 0.0, 0.0, -0.0, 0.0  …  0.0, 0.0, 0.0, 0.0, 0.0, 0.0, 0.0, 0.0, 0.0, 0.0],\"year_one_energy_produced_PV\" => 1.8836936e7,\"PV_net_fixed_om_costs\" => 1.608463e6…)\n",
       " Dict{String,Any}(\"net_capital_costs\" => 5.798848324e7,\"year_one_demand_cost\" => 415391.63,\"lcc\" => 1.38976452e8,\"expected_outage_cost\" => 2.9442096547312178e7,\"year_one_utility_kwh\" => 2.406287488e7,\"year_one_export_benefit\" => 0.0,\"year_one_energy_cost\" => 785099.42,\"PVtoCUR\" => [0.0, 0.0, 0.0, 0.0, 0.0, 0.0, 0.0, 0.0, -0.0, 0.0  …  0.0, 0.0, 0.0, 0.0, 0.0, 0.0, 0.0, 0.0, 0.0, 0.0],\"year_one_energy_produced_PV\" => 1.8936986e7,\"PV_net_fixed_om_costs\" => 1.617007e6…)\n",
       " Dict{String,Any}(\"net_capital_costs\" => 5.82536133e7,\"year_one_demand_cost\" => 414443.74,\"lcc\" => 1.42225042e8,\"expected_outage_cost\" => 3.2434199776689857e7,\"year_one_utility_kwh\" => 2.393235762e7,\"year_one_export_benefit\" => 0.0,\"year_one_energy_cost\" => 780841.03,\"PVtoCUR\" => [0.0, 0.0, 0.0, 0.0, 0.0, 0.0, 0.0, 0.0, -0.0, 0.0  …  0.0, 0.0, 0.0, 0.0, 0.0, 0.0, 0.0, 0.0, 0.0, 0.0],\"year_one_energy_produced_PV\" => 1.9077328e7,\"PV_net_fixed_om_costs\" => 1.62899e6…)\n",
       " Dict{String,Any}(\"net_capital_costs\" => 5.882371965e7,\"year_one_demand_cost\" => 412543.81,\"lcc\" => 1.45441668e8,\"expected_outage_cost\" => 3.5110257290437154e7,\"year_one_utility_kwh\" => 2.362293733e7,\"year_one_export_benefit\" => 0.0,\"year_one_energy_cost\" => 770745.58,\"PVtoCUR\" => [0.0, 0.0, 0.0, 0.0, 0.0, 0.0, 0.0, 0.0, -0.0, 0.0  …  0.0, 0.0, 0.0, 0.0, 0.0, 0.0, 0.0, 0.0, 0.0, 0.0],\"year_one_energy_produced_PV\" => 1.941219e7,\"PV_net_fixed_om_costs\" => 1.657584e6…)\n",
       " Dict{String,Any}(\"net_capital_costs\" => 5.926750161e7,\"year_one_demand_cost\" => 412812.71,\"lcc\" => 1.4862066e8,\"expected_outage_cost\" => 3.7818675353451416e7,\"year_one_utility_kwh\" => 2.340087945e7,\"year_one_export_benefit\" => 0.0,\"year_one_energy_cost\" => 763500.49,\"PVtoCUR\" => [0.0, 0.0, 0.0, 0.0, 0.0, 0.0, 0.0, 0.0, -0.0, 0.0  …  0.0, 0.0, 0.0, 0.0, 0.0, 0.0, 0.0, 0.0, 0.0, 0.0],\"year_one_energy_produced_PV\" => 1.9653045e7,\"PV_net_fixed_om_costs\" => 1.67815e6…)\n",
       " Dict{String,Any}(\"net_capital_costs\" => 6.014443251e7,\"year_one_demand_cost\" => 420014.46,\"lcc\" => 1.5172023e8,\"expected_outage_cost\" => 3.98205792426514e7,\"year_one_utility_kwh\" => 2.29904719e7,\"year_one_export_benefit\" => 0.0,\"year_one_energy_cost\" => 750110.13,\"PVtoCUR\" => [0.0, 0.0, 0.0, 0.0, 0.0, 0.0, 0.0, 0.0, -0.0, 0.0  …  0.0, 0.0, 0.0, 0.0, 0.0, 0.0, 0.0, 0.0, 0.0, 0.0],\"year_one_energy_produced_PV\" => 2.0102026e7,\"PV_net_fixed_om_costs\" => 1.716488e6…)\n",
       " ⋮\n",
       " Dict{String,Any}(\"net_capital_costs\" => 1.153227534e8,\"year_one_demand_cost\" => 278562.75,\"lcc\" => 1.96235507e8,\"expected_outage_cost\" => 1.918266303211379e7,\"year_one_utility_kwh\" => 1.485093991e7,\"year_one_export_benefit\" => 0.0,\"year_one_energy_cost\" => 484541.62,\"PVtoCUR\" => [0.0, 0.0, 0.0, 0.0, 0.0, 0.0, 0.0, 0.0, -0.0, 0.0  …  699.233, 0.0, 0.0, 0.0, 0.0, 0.0, 0.0, 0.0, 0.0, 0.0],\"year_one_energy_produced_PV\" => 3.2650509e7,\"PV_net_fixed_om_costs\" => 2.787988e6…)\n",
       " Dict{String,Any}(\"net_capital_costs\" => 1.1532831543e8,\"year_one_demand_cost\" => 278786.2,\"lcc\" => 1.96626854e8,\"expected_outage_cost\" => 1.9557689343226247e7,\"year_one_utility_kwh\" => 1.489321243e7,\"year_one_export_benefit\" => 0.0,\"year_one_energy_cost\" => 485920.84,\"PVtoCUR\" => [0.0, 0.0, 0.0, 0.0, 0.0, 0.0, 0.0, 0.0, -0.0, 0.0  …  648.474, 0.0, 0.0, 0.0, 0.0, 0.0, 0.0, 0.0, 0.0, 0.0],\"year_one_energy_produced_PV\" => 3.2526541e7,\"PV_net_fixed_om_costs\" => 2.777402e6…)\n",
       " Dict{String,Any}(\"net_capital_costs\" => 1.1533228497e8,\"year_one_demand_cost\" => 278950.29,\"lcc\" => 1.97017917e8,\"expected_outage_cost\" => 1.9936863381257057e7,\"year_one_utility_kwh\" => 1.492356255e7,\"year_one_export_benefit\" => 0.0,\"year_one_energy_cost\" => 486911.08,\"PVtoCUR\" => [0.0, 0.0, 0.0, 0.0, 0.0, 0.0, 0.0, 0.0, -0.0, 0.0  …  612.248, 0.0, 0.0, 0.0, 0.0, 0.0, 0.0, 0.0, 0.0, 0.0],\"year_one_energy_produced_PV\" => 3.2438066e7,\"PV_net_fixed_om_costs\" => 2.769848e6…)\n",
       " Dict{String,Any}(\"net_capital_costs\" => 1.1533388977e8,\"year_one_demand_cost\" => 279017.41,\"lcc\" => 1.97408795e8,\"expected_outage_cost\" => 2.0322844124556333e7,\"year_one_utility_kwh\" => 1.493593154e7,\"year_one_export_benefit\" => 0.0,\"year_one_energy_cost\" => 487314.64,\"PVtoCUR\" => [0.0, 0.0, 0.0, 0.0, 0.0, 0.0, 0.0, 0.0, 0.0, 0.0  …  597.602, 0.0, 0.0, 0.0, 0.0, 0.0, 0.0, 0.0, 0.0, 0.0],\"year_one_energy_produced_PV\" => 3.2402298e7,\"PV_net_fixed_om_costs\" => 2.766793e6…)\n",
       " Dict{String,Any}(\"net_capital_costs\" => 1.1533949536e8,\"year_one_demand_cost\" => 279254.21,\"lcc\" => 1.97799471e8,\"expected_outage_cost\" => 2.06960874394446e7,\"year_one_utility_kwh\" => 1.497949509e7,\"year_one_export_benefit\" => 0.0,\"year_one_energy_cost\" => 488735.99,\"PVtoCUR\" => [0.0, 0.0, 0.0, 0.0, 0.0, 0.0, 0.0, 0.0, -0.0, 0.0  …  546.445, 0.0, 0.0, 0.0, 0.0, 0.0, 0.0, 0.0, 0.0, 0.0],\"year_one_energy_produced_PV\" => 3.2277359e7,\"PV_net_fixed_om_costs\" => 2.756125e6…)\n",
       " Dict{String,Any}(\"net_capital_costs\" => 1.1534282238e8,\"year_one_demand_cost\" => 279395.08,\"lcc\" => 1.98189877e8,\"expected_outage_cost\" => 2.1075948352757737e7,\"year_one_utility_kwh\" => 1.500560197e7,\"year_one_export_benefit\" => 0.0,\"year_one_energy_cost\" => 489587.78,\"PVtoCUR\" => [0.0, 0.0, 0.0, 0.0, 0.0, 0.0, 0.0, 0.0, -0.0, 0.0  …  516.083, 0.0, 0.0, 0.0, 0.0, 0.0, 0.0, 0.0, 0.0, 0.0],\"year_one_energy_produced_PV\" => 3.2203205e7,\"PV_net_fixed_om_costs\" => 2.749793e6…)\n",
       " Dict{String,Any}(\"net_capital_costs\" => 1.1534593499e8,\"year_one_demand_cost\" => 279528.57,\"lcc\" => 1.98580076e8,\"expected_outage_cost\" => 2.1456113333995342e7,\"year_one_utility_kwh\" => 1.503019563e7,\"year_one_export_benefit\" => 0.0,\"year_one_energy_cost\" => 490390.19,\"PVtoCUR\" => [0.0, 0.0, 0.0, 0.0, 0.0, 0.0, 0.0, 0.0, -0.0, 0.0  …  487.677, 0.0, 0.0, 0.0, 0.0, 0.0, 0.0, 0.0, 0.0, 0.0],\"year_one_energy_produced_PV\" => 3.213383e7,\"PV_net_fixed_om_costs\" => 2.743869e6…)\n",
       " Dict{String,Any}(\"net_capital_costs\" => 1.2178507494e8,\"year_one_demand_cost\" => 275710.87,\"lcc\" => 1.9894218e8,\"expected_outage_cost\" => 1.3535337842596844e7,\"year_one_utility_kwh\" => 1.510912038e7,\"year_one_export_benefit\" => 0.0,\"year_one_energy_cost\" => 492965.27,\"PVtoCUR\" => [0.0, 0.0, 0.0, 0.0, 0.0, 0.0, 0.0, 0.0, 0.0, 0.0  …  387.266, 0.0, 0.0, 0.0, 0.0, 0.0, 0.0, 0.0, 0.0, 0.0],\"year_one_energy_produced_PV\" => 3.1891628e7,\"PV_net_fixed_om_costs\" => 2.723188e6…)\n",
       " Dict{String,Any}(\"net_capital_costs\" => 1.3245139232e8,\"year_one_demand_cost\" => 266382.32,\"lcc\" => 1.98970668e8,\"expected_outage_cost\" => 0.0,\"year_one_utility_kwh\" => 1.49063587e7,\"year_one_export_benefit\" => 0.0,\"year_one_energy_cost\" => 486349.77,\"PVtoCUR\" => [0.0, 0.0, 0.0, 0.0, 0.0, 0.0, 0.0, 0.0, -0.0, 0.0  …  433.471, 0.0, 0.0, 0.0, 0.0, 0.0, 0.0, 0.0, 0.0, 0.0],\"year_one_energy_produced_PV\" => 3.2216248e7,\"PV_net_fixed_om_costs\" => 2.750907e6…)\n",
       " Dict{String,Any}(\"net_capital_costs\" => 1.3245139232e8,\"year_one_demand_cost\" => 266382.32,\"lcc\" => 1.98970668e8,\"expected_outage_cost\" => 0.0,\"year_one_utility_kwh\" => 1.49063587e7,\"year_one_export_benefit\" => 0.0,\"year_one_energy_cost\" => 486349.77,\"PVtoCUR\" => [0.0, 0.0, 0.0, 0.0, 0.0, 0.0, 0.0, 0.0, -0.0, 0.0  …  433.471, 0.0, 0.0, 0.0, 0.0, 0.0, 0.0, 0.0, 0.0, 0.0],\"year_one_energy_produced_PV\" => 3.2216248e7,\"PV_net_fixed_om_costs\" => 2.750907e6…)\n",
       " Dict{String,Any}(\"net_capital_costs\" => 1.3245139232e8,\"year_one_demand_cost\" => 266382.32,\"lcc\" => 1.98970668e8,\"expected_outage_cost\" => 0.0,\"year_one_utility_kwh\" => 1.49063587e7,\"year_one_export_benefit\" => 0.0,\"year_one_energy_cost\" => 486349.77,\"PVtoCUR\" => [0.0, 0.0, 0.0, 0.0, 0.0, 0.0, 0.0, 0.0, -0.0, 0.0  …  433.471, 0.0, 0.0, 0.0, 0.0, 0.0, 0.0, 0.0, 0.0, 0.0],\"year_one_energy_produced_PV\" => 3.2216248e7,\"PV_net_fixed_om_costs\" => 2.750907e6…)\n",
       " Dict{String,Any}(\"net_capital_costs\" => 1.3245139232e8,\"year_one_demand_cost\" => 266382.32,\"lcc\" => 1.98970668e8,\"expected_outage_cost\" => 0.0,\"year_one_utility_kwh\" => 1.49063587e7,\"year_one_export_benefit\" => 0.0,\"year_one_energy_cost\" => 486349.77,\"PVtoCUR\" => [0.0, 0.0, 0.0, 0.0, 0.0, 0.0, 0.0, 0.0, -0.0, 0.0  …  433.471, 0.0, 0.0, 0.0, 0.0, 0.0, 0.0, 0.0, 0.0, 0.0],\"year_one_energy_produced_PV\" => 3.2216248e7,\"PV_net_fixed_om_costs\" => 2.750907e6…)"
      ]
     },
     "execution_count": 9,
     "metadata": {},
     "output_type": "execute_result"
    }
   ],
   "source": [
    "r = results"
   ]
  },
  {
   "cell_type": "code",
   "execution_count": null,
   "metadata": {},
   "outputs": [],
   "source": []
  }
 ],
 "metadata": {
  "kernelspec": {
   "display_name": "Julia 1.4.2",
   "language": "julia",
   "name": "julia-1.4"
  },
  "language_info": {
   "file_extension": ".jl",
   "mimetype": "application/julia",
   "name": "julia",
   "version": "1.4.2"
  }
 },
 "nbformat": 4,
 "nbformat_minor": 2
}
