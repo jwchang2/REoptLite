{
 "cells": [
  {
   "cell_type": "code",
   "execution_count": 1,
   "metadata": {},
   "outputs": [
    {
     "name": "stderr",
     "output_type": "stream",
     "text": [
      "┌ Info: Xpress: Found license file C:\\xpressmp\\bin\\xpauth.xpr\n",
      "└ @ Xpress C:\\Users\\jchang2\\.julia\\packages\\Xpress\\kcAft\\src\\license.jl:42\n",
      "┌ Info: Xpress: Development license detected.\n",
      "└ @ Xpress C:\\Users\\jchang2\\.julia\\packages\\Xpress\\kcAft\\src\\license.jl:84\n"
     ]
    }
   ],
   "source": [
    "include(\"./src/REoptLite.jl\")\n",
    "using JuMP\n",
    "using Xpress\n",
    "using Main.REoptLite\n",
    "using JSON\n"
   ]
  },
  {
   "cell_type": "code",
   "execution_count": 2,
   "metadata": {},
   "outputs": [
    {
     "data": {
      "text/plain": [
       "run (generic function with 1 method)"
      ]
     },
     "execution_count": 2,
     "metadata": {},
     "output_type": "execute_result"
    }
   ],
   "source": [
    "function run(scenario, fname)\n",
    "    \n",
    "    m = Model(optimizer_with_attributes(Xpress.Optimizer, \"logfile\" => \"output.log\"))\n",
    "    results = run_reopt(m, REoptInputs(scenario))\n",
    "    \n",
    "    open(fname*\".json\", \"w\") do f\n",
    "        JSON.print(f, results)\n",
    "    end\n",
    "    \n",
    "    return results\n",
    "end"
   ]
  },
  {
   "cell_type": "code",
   "execution_count": 3,
   "metadata": {},
   "outputs": [
    {
     "data": {
      "text/plain": [
       "Dict{String,Any} with 8 entries:\n",
       "  \"ElectricUtility\" => Dict{String,Any}(\"outage_durations\"=>Any[336],\"outage_st…\n",
       "  \"ElectricTariff\"  => Dict{String,Any}(\"urdb_label\"=>\"5e611fec5457a3665e019406…\n",
       "  \"Site\"            => Dict{String,Any}(\"latitude\"=>39.7407,\"longitude\"=>-105.1…\n",
       "  \"Generator\"       => Dict{String,Any}(\"max_kw\"=>0.0,\"only_runs_during_grid_ou…\n",
       "  \"ElectricLoad\"    => Dict{String,Any}(\"loads_kw\"=>Any[4323.64, 4308.39, 4295.…\n",
       "  \"PV\"              => Dict{String,Any}(\"array_type\"=>0,\"existing_kw\"=>3580.54)\n",
       "  \"Storage\"         => Dict{String,Any}(\"macrs_option_years\"=>5,\"can_grid_charg…\n",
       "  \"Financial\"       => Dict{String,Any}(\"owner_discount_pct\"=>0.1,\"offtaker_dis…"
      ]
     },
     "execution_count": 3,
     "metadata": {},
     "output_type": "execute_result"
    }
   ],
   "source": [
    "scenario_template = JSON.parsefile(\"test/scenarios/STM_campus_existing_sseb_crit.json\")"
   ]
  },
  {
   "cell_type": "code",
   "execution_count": 4,
   "metadata": {
    "scrolled": true
   },
   "outputs": [
    {
     "ename": "MethodError",
     "evalue": "MethodError: Cannot `convert` an object of type \n  Array{Int64,1} to an object of type \n  Union{Array{Real,1}, Real}\nClosest candidates are:\n  convert(::Type{T}, !Matched::GenericAffExpr{T,VarType} where VarType) where T at C:\\Users\\jchang2\\.julia\\packages\\JuMP\\YXK4e\\src\\aff_expr.jl:318\n  convert(::Type{T}, !Matched::GenericQuadExpr{T,VarType} where VarType) where T at C:\\Users\\jchang2\\.julia\\packages\\JuMP\\YXK4e\\src\\quad_expr.jl:329\n  convert(::Type{T}, !Matched::T) where T at essentials.jl:171",
     "output_type": "error",
     "traceback": [
      "MethodError: Cannot `convert` an object of type \n  Array{Int64,1} to an object of type \n  Union{Array{Real,1}, Real}\nClosest candidates are:\n  convert(::Type{T}, !Matched::GenericAffExpr{T,VarType} where VarType) where T at C:\\Users\\jchang2\\.julia\\packages\\JuMP\\YXK4e\\src\\aff_expr.jl:318\n  convert(::Type{T}, !Matched::GenericQuadExpr{T,VarType} where VarType) where T at C:\\Users\\jchang2\\.julia\\packages\\JuMP\\YXK4e\\src\\quad_expr.jl:329\n  convert(::Type{T}, !Matched::T) where T at essentials.jl:171",
      "",
      "Stacktrace:",
      " [1] Main.REoptLite.Financial(::Float64, ::Float64, ::Float64, ::Float64, ::Bool, ::Float64, ::Float64, ::Int64, ::Array{Float64,1}, ::Array{Float64,1}, ::Array{Int64,1}, ::Float64) at C:\\Users\\jchang2\\Documents\\REoptLite\\src\\core\\financial.jl:31",
      " [2] Main.REoptLite.Financial(; om_cost_escalation_pct::Float64, elec_cost_escalation_pct::Float64, offtaker_tax_pct::Float64, offtaker_discount_pct::Float64, two_party_ownership::Bool, owner_tax_pct::Float64, owner_discount_pct::Float64, analysis_years::Int64, macrs_five_year::Array{Float64,1}, macrs_seven_year::Array{Float64,1}, VoLL::Array{Int64,1}, microgrid_premium_pct::Float64) at .\\util.jl:742",
      " [3] Scenario(::Dict{String,Any}) at C:\\Users\\jchang2\\Documents\\REoptLite\\src\\core\\scenario.jl:66",
      " [4] top-level scope at .\\In[4]:7"
     ]
    }
   ],
   "source": [
    "results = Dict[]\n",
    "\n",
    "for VoLL in range(0, stop=1000)\n",
    "    scenario_dict = copy(scenario_template)\n",
    "    scenario_dict[\"ElectricUtility\"][\"outage_start_timesteps\"] = collect(range(17, stop=8760-336, step=336))\n",
    "    scenario_dict[\"Financial\"][\"VoLL\"] = collect(range(VoLL, stop=1000, step=20))\n",
    "    s = Scenario(scenario_dict)\n",
    "    push!(results, run(s, \"sseb_VoLL\"*string(VoLL)))\n",
    "    println(\"run $VoLL complete\")\n",
    "end"
   ]
  },
  {
   "cell_type": "code",
   "execution_count": 5,
   "metadata": {},
   "outputs": [
    {
     "data": {
      "text/plain": [
       "0-element Array{Dict,1}"
      ]
     },
     "execution_count": 5,
     "metadata": {},
     "output_type": "execute_result"
    }
   ],
   "source": [
    "r = results"
   ]
  },
  {
   "cell_type": "code",
   "execution_count": null,
   "metadata": {},
   "outputs": [],
   "source": []
  }
 ],
 "metadata": {
  "kernelspec": {
   "display_name": "Julia 1.4.2",
   "language": "julia",
   "name": "julia-1.4"
  },
  "language_info": {
   "file_extension": ".jl",
   "mimetype": "application/julia",
   "name": "julia",
   "version": "1.4.2"
  }
 },
 "nbformat": 4,
 "nbformat_minor": 2
}
