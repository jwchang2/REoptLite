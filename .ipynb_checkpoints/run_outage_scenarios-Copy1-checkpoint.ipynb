{
 "cells": [
  {
   "cell_type": "code",
   "execution_count": 1,
   "metadata": {},
   "outputs": [
    {
     "name": "stderr",
     "output_type": "stream",
     "text": [
      "┌ Info: Xpress: Found license file C:\\xpressmp\\bin\\xpauth.xpr\n",
      "└ @ Xpress C:\\Users\\jchang2\\.julia\\packages\\Xpress\\kcAft\\src\\license.jl:42\n",
      "┌ Info: Xpress: Development license detected.\n",
      "└ @ Xpress C:\\Users\\jchang2\\.julia\\packages\\Xpress\\kcAft\\src\\license.jl:84\n"
     ]
    }
   ],
   "source": [
    "include(\"./src/REoptLite.jl\")\n",
    "using JuMP\n",
    "using Xpress\n",
    "using Main.REoptLite\n",
    "using JSON\n"
   ]
  },
  {
   "cell_type": "code",
   "execution_count": 2,
   "metadata": {},
   "outputs": [
    {
     "data": {
      "text/plain": [
       "run (generic function with 1 method)"
      ]
     },
     "execution_count": 2,
     "metadata": {},
     "output_type": "execute_result"
    }
   ],
   "source": [
    "function run(scenario, fname)\n",
    "    \n",
    "    m = Model(optimizer_with_attributes(Xpress.Optimizer, \"logfile\" => \"output.log\"))\n",
    "    results = run_reopt(m, REoptInputs(scenario))\n",
    "    \n",
    "    open(fname*\".json\", \"w\") do f\n",
    "        JSON.print(f, results)\n",
    "    end\n",
    "    \n",
    "    return results\n",
    "end"
   ]
  },
  {
   "cell_type": "code",
   "execution_count": 3,
   "metadata": {},
   "outputs": [
    {
     "data": {
      "text/plain": [
       "Dict{String,Any} with 8 entries:\n",
       "  \"ElectricUtility\" => Dict{String,Any}(\"outage_durations\"=>Any[336],\"outage_st…\n",
       "  \"ElectricTariff\"  => Dict{String,Any}(\"urdb_label\"=>\"5e611fec5457a3665e019406…\n",
       "  \"Site\"            => Dict{String,Any}(\"latitude\"=>39.7407,\"longitude\"=>-105.1…\n",
       "  \"Generator\"       => Dict{String,Any}(\"max_kw\"=>0.0,\"only_runs_during_grid_ou…\n",
       "  \"ElectricLoad\"    => Dict{String,Any}(\"loads_kw\"=>Any[4323.64, 4308.39, 4295.…\n",
       "  \"PV\"              => Dict{String,Any}(\"array_type\"=>0,\"existing_kw\"=>3580.54)\n",
       "  \"Storage\"         => Dict{String,Any}(\"macrs_option_years\"=>5,\"can_grid_charg…\n",
       "  \"Financial\"       => Dict{String,Any}(\"owner_discount_pct\"=>0.1,\"offtaker_dis…"
      ]
     },
     "execution_count": 3,
     "metadata": {},
     "output_type": "execute_result"
    }
   ],
   "source": [
    "scenario_template = JSON.parsefile(\"test/scenarios/STM_campus_existing_sseb_crit.json\")"
   ]
  },
  {
   "cell_type": "code",
   "execution_count": 4,
   "metadata": {},
   "outputs": [
    {
     "data": {
      "text/plain": [
       "26-element Array{Int64,1}:\n",
       "   17\n",
       "  353\n",
       "  689\n",
       " 1025\n",
       " 1361\n",
       " 1697\n",
       " 2033\n",
       " 2369\n",
       " 2705\n",
       " 3041\n",
       " 3377\n",
       " 3713\n",
       " 4049\n",
       " 4385\n",
       " 4721\n",
       " 5057\n",
       " 5393\n",
       " 5729\n",
       " 6065\n",
       " 6401\n",
       " 6737\n",
       " 7073\n",
       " 7409\n",
       " 7745\n",
       " 8081\n",
       " 8417"
      ]
     },
     "execution_count": 4,
     "metadata": {},
     "output_type": "execute_result"
    }
   ],
   "source": [
    "tzs = collect(range(17, stop=8760-336, step=336))"
   ]
  },
  {
   "cell_type": "code",
   "execution_count": 5,
   "metadata": {},
   "outputs": [],
   "source": [
    "crit_ld = scenario_template[\"ElectricLoad\"][\"critical_loads_kw\"];"
   ]
  },
  {
   "cell_type": "code",
   "execution_count": 6,
   "metadata": {},
   "outputs": [],
   "source": [
    "two_week_ld = Any[]\n",
    "\n",
    "for tz in tzs\n",
    "    push!(two_week_ld, crit_ld[tz:tz+335])\n",
    "end"
   ]
  },
  {
   "cell_type": "code",
   "execution_count": 7,
   "metadata": {},
   "outputs": [
    {
     "data": {
      "text/plain": [
       "3205.924210000001"
      ]
     },
     "execution_count": 7,
     "metadata": {},
     "output_type": "execute_result"
    }
   ],
   "source": [
    "maximum(sum(ld) for ld in two_week_ld)"
   ]
  },
  {
   "cell_type": "code",
   "execution_count": 8,
   "metadata": {
    "scrolled": true
   },
   "outputs": [
    {
     "name": "stderr",
     "output_type": "stream",
     "text": [
      "┌ Info: Checking URDB for \n",
      "│   urdb_label = 5e611fec5457a3665e019406\n",
      "└ @ Main.REoptLite C:\\Users\\jchang2\\Documents\\REoptLite\\src\\core\\urdb.jl:151\n",
      "┌ Info: Querying PVWatts for prodfactor with \n",
      "│   pv.name = PV\n",
      "└ @ Main.REoptLite C:\\Users\\jchang2\\Documents\\REoptLite\\src\\core\\prodfactor.jl:41\n",
      "┌ Info: PVWatts success.\n",
      "└ @ Main.REoptLite C:\\Users\\jchang2\\Documents\\REoptLite\\src\\core\\prodfactor.jl:49\n",
      "┌ Info: (\"p.mg_tech_sizes_equal_grid_sizes\", false)\n",
      "└ @ Main.REoptLite C:\\Users\\jchang2\\Documents\\REoptLite\\src\\constraints\\outage_constraints.jl:81\n",
      "┌ Info: Model built. Optimizing...\n",
      "└ @ Main.REoptLite C:\\Users\\jchang2\\Documents\\REoptLite\\src\\core\\reopt.jl:265\n",
      "┌ Info: REopt solved with \n",
      "│   termination_status(m) = OPTIMAL\n",
      "└ @ Main.REoptLite C:\\Users\\jchang2\\Documents\\REoptLite\\src\\core\\reopt.jl:274\n"
     ]
    },
    {
     "name": "stdout",
     "output_type": "stream",
     "text": [
      "run 0 complete\n"
     ]
    },
    {
     "name": "stderr",
     "output_type": "stream",
     "text": [
      "┌ Info: Checking URDB for \n",
      "│   urdb_label = 5e611fec5457a3665e019406\n",
      "└ @ Main.REoptLite C:\\Users\\jchang2\\Documents\\REoptLite\\src\\core\\urdb.jl:151\n",
      "┌ Info: Querying PVWatts for prodfactor with \n",
      "│   pv.name = PV\n",
      "└ @ Main.REoptLite C:\\Users\\jchang2\\Documents\\REoptLite\\src\\core\\prodfactor.jl:41\n",
      "┌ Info: PVWatts success.\n",
      "└ @ Main.REoptLite C:\\Users\\jchang2\\Documents\\REoptLite\\src\\core\\prodfactor.jl:49\n",
      "┌ Info: (\"p.mg_tech_sizes_equal_grid_sizes\", false)\n",
      "└ @ Main.REoptLite C:\\Users\\jchang2\\Documents\\REoptLite\\src\\constraints\\outage_constraints.jl:81\n",
      "┌ Info: Model built. Optimizing...\n",
      "└ @ Main.REoptLite C:\\Users\\jchang2\\Documents\\REoptLite\\src\\core\\reopt.jl:265\n",
      "┌ Info: REopt solved with \n",
      "│   termination_status(m) = OPTIMAL\n",
      "└ @ Main.REoptLite C:\\Users\\jchang2\\Documents\\REoptLite\\src\\core\\reopt.jl:274\n"
     ]
    },
    {
     "name": "stdout",
     "output_type": "stream",
     "text": [
      "run 1 complete\n"
     ]
    },
    {
     "name": "stderr",
     "output_type": "stream",
     "text": [
      "┌ Info: Checking URDB for \n",
      "│   urdb_label = 5e611fec5457a3665e019406\n",
      "└ @ Main.REoptLite C:\\Users\\jchang2\\Documents\\REoptLite\\src\\core\\urdb.jl:151\n",
      "┌ Info: Querying PVWatts for prodfactor with \n",
      "│   pv.name = PV\n",
      "└ @ Main.REoptLite C:\\Users\\jchang2\\Documents\\REoptLite\\src\\core\\prodfactor.jl:41\n",
      "┌ Info: PVWatts success.\n",
      "└ @ Main.REoptLite C:\\Users\\jchang2\\Documents\\REoptLite\\src\\core\\prodfactor.jl:49\n",
      "┌ Info: (\"p.mg_tech_sizes_equal_grid_sizes\", false)\n",
      "└ @ Main.REoptLite C:\\Users\\jchang2\\Documents\\REoptLite\\src\\constraints\\outage_constraints.jl:81\n",
      "┌ Info: Model built. Optimizing...\n",
      "└ @ Main.REoptLite C:\\Users\\jchang2\\Documents\\REoptLite\\src\\core\\reopt.jl:265\n",
      "┌ Info: REopt solved with \n",
      "│   termination_status(m) = OPTIMAL\n",
      "└ @ Main.REoptLite C:\\Users\\jchang2\\Documents\\REoptLite\\src\\core\\reopt.jl:274\n"
     ]
    },
    {
     "name": "stdout",
     "output_type": "stream",
     "text": [
      "run 2 complete\n"
     ]
    },
    {
     "name": "stderr",
     "output_type": "stream",
     "text": [
      "┌ Info: Checking URDB for \n",
      "│   urdb_label = 5e611fec5457a3665e019406\n",
      "└ @ Main.REoptLite C:\\Users\\jchang2\\Documents\\REoptLite\\src\\core\\urdb.jl:151\n",
      "┌ Info: Querying PVWatts for prodfactor with \n",
      "│   pv.name = PV\n",
      "└ @ Main.REoptLite C:\\Users\\jchang2\\Documents\\REoptLite\\src\\core\\prodfactor.jl:41\n",
      "┌ Info: PVWatts success.\n",
      "└ @ Main.REoptLite C:\\Users\\jchang2\\Documents\\REoptLite\\src\\core\\prodfactor.jl:49\n",
      "┌ Info: (\"p.mg_tech_sizes_equal_grid_sizes\", false)\n",
      "└ @ Main.REoptLite C:\\Users\\jchang2\\Documents\\REoptLite\\src\\constraints\\outage_constraints.jl:81\n",
      "┌ Info: Model built. Optimizing...\n",
      "└ @ Main.REoptLite C:\\Users\\jchang2\\Documents\\REoptLite\\src\\core\\reopt.jl:265\n",
      "┌ Info: REopt solved with \n",
      "│   termination_status(m) = OPTIMAL\n",
      "└ @ Main.REoptLite C:\\Users\\jchang2\\Documents\\REoptLite\\src\\core\\reopt.jl:274\n"
     ]
    },
    {
     "name": "stdout",
     "output_type": "stream",
     "text": [
      "run 3 complete\n"
     ]
    },
    {
     "name": "stderr",
     "output_type": "stream",
     "text": [
      "┌ Info: Checking URDB for \n",
      "│   urdb_label = 5e611fec5457a3665e019406\n",
      "└ @ Main.REoptLite C:\\Users\\jchang2\\Documents\\REoptLite\\src\\core\\urdb.jl:151\n",
      "┌ Info: Querying PVWatts for prodfactor with \n",
      "│   pv.name = PV\n",
      "└ @ Main.REoptLite C:\\Users\\jchang2\\Documents\\REoptLite\\src\\core\\prodfactor.jl:41\n",
      "┌ Info: PVWatts success.\n",
      "└ @ Main.REoptLite C:\\Users\\jchang2\\Documents\\REoptLite\\src\\core\\prodfactor.jl:49\n",
      "┌ Info: (\"p.mg_tech_sizes_equal_grid_sizes\", false)\n",
      "└ @ Main.REoptLite C:\\Users\\jchang2\\Documents\\REoptLite\\src\\constraints\\outage_constraints.jl:81\n",
      "┌ Info: Model built. Optimizing...\n",
      "└ @ Main.REoptLite C:\\Users\\jchang2\\Documents\\REoptLite\\src\\core\\reopt.jl:265\n",
      "┌ Info: REopt solved with \n",
      "│   termination_status(m) = OPTIMAL\n",
      "└ @ Main.REoptLite C:\\Users\\jchang2\\Documents\\REoptLite\\src\\core\\reopt.jl:274\n"
     ]
    },
    {
     "name": "stdout",
     "output_type": "stream",
     "text": [
      "run 4 complete\n"
     ]
    },
    {
     "name": "stderr",
     "output_type": "stream",
     "text": [
      "┌ Info: Checking URDB for \n",
      "│   urdb_label = 5e611fec5457a3665e019406\n",
      "└ @ Main.REoptLite C:\\Users\\jchang2\\Documents\\REoptLite\\src\\core\\urdb.jl:151\n",
      "┌ Info: Querying PVWatts for prodfactor with \n",
      "│   pv.name = PV\n",
      "└ @ Main.REoptLite C:\\Users\\jchang2\\Documents\\REoptLite\\src\\core\\prodfactor.jl:41\n",
      "┌ Info: PVWatts success.\n",
      "└ @ Main.REoptLite C:\\Users\\jchang2\\Documents\\REoptLite\\src\\core\\prodfactor.jl:49\n",
      "┌ Info: (\"p.mg_tech_sizes_equal_grid_sizes\", false)\n",
      "└ @ Main.REoptLite C:\\Users\\jchang2\\Documents\\REoptLite\\src\\constraints\\outage_constraints.jl:81\n",
      "┌ Info: Model built. Optimizing...\n",
      "└ @ Main.REoptLite C:\\Users\\jchang2\\Documents\\REoptLite\\src\\core\\reopt.jl:265\n",
      "┌ Info: REopt solved with \n",
      "│   termination_status(m) = OPTIMAL\n",
      "└ @ Main.REoptLite C:\\Users\\jchang2\\Documents\\REoptLite\\src\\core\\reopt.jl:274\n"
     ]
    },
    {
     "name": "stdout",
     "output_type": "stream",
     "text": [
      "run 5 complete\n"
     ]
    },
    {
     "name": "stderr",
     "output_type": "stream",
     "text": [
      "┌ Info: Checking URDB for \n",
      "│   urdb_label = 5e611fec5457a3665e019406\n",
      "└ @ Main.REoptLite C:\\Users\\jchang2\\Documents\\REoptLite\\src\\core\\urdb.jl:151\n",
      "┌ Info: Querying PVWatts for prodfactor with \n",
      "│   pv.name = PV\n",
      "└ @ Main.REoptLite C:\\Users\\jchang2\\Documents\\REoptLite\\src\\core\\prodfactor.jl:41\n",
      "┌ Info: PVWatts success.\n",
      "└ @ Main.REoptLite C:\\Users\\jchang2\\Documents\\REoptLite\\src\\core\\prodfactor.jl:49\n",
      "┌ Info: (\"p.mg_tech_sizes_equal_grid_sizes\", false)\n",
      "└ @ Main.REoptLite C:\\Users\\jchang2\\Documents\\REoptLite\\src\\constraints\\outage_constraints.jl:81\n",
      "┌ Info: Model built. Optimizing...\n",
      "└ @ Main.REoptLite C:\\Users\\jchang2\\Documents\\REoptLite\\src\\core\\reopt.jl:265\n",
      "┌ Info: REopt solved with \n",
      "│   termination_status(m) = OPTIMAL\n",
      "└ @ Main.REoptLite C:\\Users\\jchang2\\Documents\\REoptLite\\src\\core\\reopt.jl:274\n"
     ]
    },
    {
     "name": "stdout",
     "output_type": "stream",
     "text": [
      "run 6 complete\n"
     ]
    },
    {
     "name": "stderr",
     "output_type": "stream",
     "text": [
      "┌ Info: Checking URDB for \n",
      "│   urdb_label = 5e611fec5457a3665e019406\n",
      "└ @ Main.REoptLite C:\\Users\\jchang2\\Documents\\REoptLite\\src\\core\\urdb.jl:151\n",
      "┌ Info: Querying PVWatts for prodfactor with \n",
      "│   pv.name = PV\n",
      "└ @ Main.REoptLite C:\\Users\\jchang2\\Documents\\REoptLite\\src\\core\\prodfactor.jl:41\n",
      "┌ Info: PVWatts success.\n",
      "└ @ Main.REoptLite C:\\Users\\jchang2\\Documents\\REoptLite\\src\\core\\prodfactor.jl:49\n",
      "┌ Info: (\"p.mg_tech_sizes_equal_grid_sizes\", false)\n",
      "└ @ Main.REoptLite C:\\Users\\jchang2\\Documents\\REoptLite\\src\\constraints\\outage_constraints.jl:81\n",
      "┌ Info: Model built. Optimizing...\n",
      "└ @ Main.REoptLite C:\\Users\\jchang2\\Documents\\REoptLite\\src\\core\\reopt.jl:265\n",
      "┌ Info: REopt solved with \n",
      "│   termination_status(m) = OPTIMAL\n",
      "└ @ Main.REoptLite C:\\Users\\jchang2\\Documents\\REoptLite\\src\\core\\reopt.jl:274\n"
     ]
    },
    {
     "name": "stdout",
     "output_type": "stream",
     "text": [
      "run 7 complete\n"
     ]
    },
    {
     "name": "stderr",
     "output_type": "stream",
     "text": [
      "┌ Info: Checking URDB for \n",
      "│   urdb_label = 5e611fec5457a3665e019406\n",
      "└ @ Main.REoptLite C:\\Users\\jchang2\\Documents\\REoptLite\\src\\core\\urdb.jl:151\n",
      "┌ Info: Querying PVWatts for prodfactor with \n",
      "│   pv.name = PV\n",
      "└ @ Main.REoptLite C:\\Users\\jchang2\\Documents\\REoptLite\\src\\core\\prodfactor.jl:41\n",
      "┌ Info: PVWatts success.\n",
      "└ @ Main.REoptLite C:\\Users\\jchang2\\Documents\\REoptLite\\src\\core\\prodfactor.jl:49\n",
      "┌ Info: (\"p.mg_tech_sizes_equal_grid_sizes\", false)\n",
      "└ @ Main.REoptLite C:\\Users\\jchang2\\Documents\\REoptLite\\src\\constraints\\outage_constraints.jl:81\n",
      "┌ Info: Model built. Optimizing...\n",
      "└ @ Main.REoptLite C:\\Users\\jchang2\\Documents\\REoptLite\\src\\core\\reopt.jl:265\n",
      "┌ Info: REopt solved with \n",
      "│   termination_status(m) = OPTIMAL\n",
      "└ @ Main.REoptLite C:\\Users\\jchang2\\Documents\\REoptLite\\src\\core\\reopt.jl:274\n"
     ]
    },
    {
     "name": "stdout",
     "output_type": "stream",
     "text": [
      "run 8 complete\n"
     ]
    },
    {
     "name": "stderr",
     "output_type": "stream",
     "text": [
      "┌ Info: Checking URDB for \n",
      "│   urdb_label = 5e611fec5457a3665e019406\n",
      "└ @ Main.REoptLite C:\\Users\\jchang2\\Documents\\REoptLite\\src\\core\\urdb.jl:151\n",
      "┌ Info: Querying PVWatts for prodfactor with \n",
      "│   pv.name = PV\n",
      "└ @ Main.REoptLite C:\\Users\\jchang2\\Documents\\REoptLite\\src\\core\\prodfactor.jl:41\n",
      "┌ Info: PVWatts success.\n",
      "└ @ Main.REoptLite C:\\Users\\jchang2\\Documents\\REoptLite\\src\\core\\prodfactor.jl:49\n",
      "┌ Info: (\"p.mg_tech_sizes_equal_grid_sizes\", false)\n",
      "└ @ Main.REoptLite C:\\Users\\jchang2\\Documents\\REoptLite\\src\\constraints\\outage_constraints.jl:81\n",
      "┌ Info: Model built. Optimizing...\n",
      "└ @ Main.REoptLite C:\\Users\\jchang2\\Documents\\REoptLite\\src\\core\\reopt.jl:265\n",
      "┌ Info: REopt solved with \n",
      "│   termination_status(m) = OPTIMAL\n",
      "└ @ Main.REoptLite C:\\Users\\jchang2\\Documents\\REoptLite\\src\\core\\reopt.jl:274\n"
     ]
    },
    {
     "name": "stdout",
     "output_type": "stream",
     "text": [
      "run 9 complete\n"
     ]
    },
    {
     "name": "stderr",
     "output_type": "stream",
     "text": [
      "┌ Info: Checking URDB for \n",
      "│   urdb_label = 5e611fec5457a3665e019406\n",
      "└ @ Main.REoptLite C:\\Users\\jchang2\\Documents\\REoptLite\\src\\core\\urdb.jl:151\n",
      "┌ Info: Querying PVWatts for prodfactor with \n",
      "│   pv.name = PV\n",
      "└ @ Main.REoptLite C:\\Users\\jchang2\\Documents\\REoptLite\\src\\core\\prodfactor.jl:41\n",
      "┌ Info: PVWatts success.\n",
      "└ @ Main.REoptLite C:\\Users\\jchang2\\Documents\\REoptLite\\src\\core\\prodfactor.jl:49\n",
      "┌ Info: (\"p.mg_tech_sizes_equal_grid_sizes\", false)\n",
      "└ @ Main.REoptLite C:\\Users\\jchang2\\Documents\\REoptLite\\src\\constraints\\outage_constraints.jl:81\n",
      "┌ Info: Model built. Optimizing...\n",
      "└ @ Main.REoptLite C:\\Users\\jchang2\\Documents\\REoptLite\\src\\core\\reopt.jl:265\n",
      "┌ Info: REopt solved with \n",
      "│   termination_status(m) = OPTIMAL\n",
      "└ @ Main.REoptLite C:\\Users\\jchang2\\Documents\\REoptLite\\src\\core\\reopt.jl:274\n"
     ]
    },
    {
     "name": "stdout",
     "output_type": "stream",
     "text": [
      "run 10 complete\n"
     ]
    },
    {
     "name": "stderr",
     "output_type": "stream",
     "text": [
      "┌ Info: Checking URDB for \n",
      "│   urdb_label = 5e611fec5457a3665e019406\n",
      "└ @ Main.REoptLite C:\\Users\\jchang2\\Documents\\REoptLite\\src\\core\\urdb.jl:151\n",
      "┌ Info: Querying PVWatts for prodfactor with \n",
      "│   pv.name = PV\n",
      "└ @ Main.REoptLite C:\\Users\\jchang2\\Documents\\REoptLite\\src\\core\\prodfactor.jl:41\n",
      "┌ Info: PVWatts success.\n",
      "└ @ Main.REoptLite C:\\Users\\jchang2\\Documents\\REoptLite\\src\\core\\prodfactor.jl:49\n",
      "┌ Info: (\"p.mg_tech_sizes_equal_grid_sizes\", false)\n",
      "└ @ Main.REoptLite C:\\Users\\jchang2\\Documents\\REoptLite\\src\\constraints\\outage_constraints.jl:81\n",
      "┌ Info: Model built. Optimizing...\n",
      "└ @ Main.REoptLite C:\\Users\\jchang2\\Documents\\REoptLite\\src\\core\\reopt.jl:265\n",
      "┌ Info: REopt solved with \n",
      "│   termination_status(m) = OPTIMAL\n",
      "└ @ Main.REoptLite C:\\Users\\jchang2\\Documents\\REoptLite\\src\\core\\reopt.jl:274\n"
     ]
    },
    {
     "name": "stdout",
     "output_type": "stream",
     "text": [
      "run 11 complete\n"
     ]
    },
    {
     "name": "stderr",
     "output_type": "stream",
     "text": [
      "┌ Info: Checking URDB for \n",
      "│   urdb_label = 5e611fec5457a3665e019406\n",
      "└ @ Main.REoptLite C:\\Users\\jchang2\\Documents\\REoptLite\\src\\core\\urdb.jl:151\n",
      "┌ Info: Querying PVWatts for prodfactor with \n",
      "│   pv.name = PV\n",
      "└ @ Main.REoptLite C:\\Users\\jchang2\\Documents\\REoptLite\\src\\core\\prodfactor.jl:41\n",
      "┌ Info: PVWatts success.\n",
      "└ @ Main.REoptLite C:\\Users\\jchang2\\Documents\\REoptLite\\src\\core\\prodfactor.jl:49\n",
      "┌ Info: (\"p.mg_tech_sizes_equal_grid_sizes\", false)\n",
      "└ @ Main.REoptLite C:\\Users\\jchang2\\Documents\\REoptLite\\src\\constraints\\outage_constraints.jl:81\n",
      "┌ Info: Model built. Optimizing...\n",
      "└ @ Main.REoptLite C:\\Users\\jchang2\\Documents\\REoptLite\\src\\core\\reopt.jl:265\n",
      "┌ Info: REopt solved with \n",
      "│   termination_status(m) = OPTIMAL\n",
      "└ @ Main.REoptLite C:\\Users\\jchang2\\Documents\\REoptLite\\src\\core\\reopt.jl:274\n"
     ]
    },
    {
     "name": "stdout",
     "output_type": "stream",
     "text": [
      "run 12 complete\n"
     ]
    },
    {
     "name": "stderr",
     "output_type": "stream",
     "text": [
      "┌ Info: Checking URDB for \n",
      "│   urdb_label = 5e611fec5457a3665e019406\n",
      "└ @ Main.REoptLite C:\\Users\\jchang2\\Documents\\REoptLite\\src\\core\\urdb.jl:151\n",
      "┌ Info: Querying PVWatts for prodfactor with \n",
      "│   pv.name = PV\n",
      "└ @ Main.REoptLite C:\\Users\\jchang2\\Documents\\REoptLite\\src\\core\\prodfactor.jl:41\n",
      "┌ Info: PVWatts success.\n",
      "└ @ Main.REoptLite C:\\Users\\jchang2\\Documents\\REoptLite\\src\\core\\prodfactor.jl:49\n",
      "┌ Info: (\"p.mg_tech_sizes_equal_grid_sizes\", false)\n",
      "└ @ Main.REoptLite C:\\Users\\jchang2\\Documents\\REoptLite\\src\\constraints\\outage_constraints.jl:81\n",
      "┌ Info: Model built. Optimizing...\n",
      "└ @ Main.REoptLite C:\\Users\\jchang2\\Documents\\REoptLite\\src\\core\\reopt.jl:265\n",
      "┌ Info: REopt solved with \n",
      "│   termination_status(m) = OPTIMAL\n",
      "└ @ Main.REoptLite C:\\Users\\jchang2\\Documents\\REoptLite\\src\\core\\reopt.jl:274\n"
     ]
    },
    {
     "name": "stdout",
     "output_type": "stream",
     "text": [
      "run 13 complete\n"
     ]
    },
    {
     "name": "stderr",
     "output_type": "stream",
     "text": [
      "┌ Info: Checking URDB for \n",
      "│   urdb_label = 5e611fec5457a3665e019406\n",
      "└ @ Main.REoptLite C:\\Users\\jchang2\\Documents\\REoptLite\\src\\core\\urdb.jl:151\n",
      "┌ Info: Querying PVWatts for prodfactor with \n",
      "│   pv.name = PV\n",
      "└ @ Main.REoptLite C:\\Users\\jchang2\\Documents\\REoptLite\\src\\core\\prodfactor.jl:41\n",
      "┌ Info: PVWatts success.\n",
      "└ @ Main.REoptLite C:\\Users\\jchang2\\Documents\\REoptLite\\src\\core\\prodfactor.jl:49\n",
      "┌ Info: (\"p.mg_tech_sizes_equal_grid_sizes\", false)\n",
      "└ @ Main.REoptLite C:\\Users\\jchang2\\Documents\\REoptLite\\src\\constraints\\outage_constraints.jl:81\n",
      "┌ Info: Model built. Optimizing...\n",
      "└ @ Main.REoptLite C:\\Users\\jchang2\\Documents\\REoptLite\\src\\core\\reopt.jl:265\n",
      "┌ Info: REopt solved with \n",
      "│   termination_status(m) = OPTIMAL\n",
      "└ @ Main.REoptLite C:\\Users\\jchang2\\Documents\\REoptLite\\src\\core\\reopt.jl:274\n"
     ]
    },
    {
     "name": "stdout",
     "output_type": "stream",
     "text": [
      "run 14 complete\n"
     ]
    },
    {
     "name": "stderr",
     "output_type": "stream",
     "text": [
      "┌ Info: Checking URDB for \n",
      "│   urdb_label = 5e611fec5457a3665e019406\n",
      "└ @ Main.REoptLite C:\\Users\\jchang2\\Documents\\REoptLite\\src\\core\\urdb.jl:151\n",
      "┌ Info: Querying PVWatts for prodfactor with \n",
      "│   pv.name = PV\n",
      "└ @ Main.REoptLite C:\\Users\\jchang2\\Documents\\REoptLite\\src\\core\\prodfactor.jl:41\n",
      "┌ Info: PVWatts success.\n",
      "└ @ Main.REoptLite C:\\Users\\jchang2\\Documents\\REoptLite\\src\\core\\prodfactor.jl:49\n",
      "┌ Info: (\"p.mg_tech_sizes_equal_grid_sizes\", false)\n",
      "└ @ Main.REoptLite C:\\Users\\jchang2\\Documents\\REoptLite\\src\\constraints\\outage_constraints.jl:81\n",
      "┌ Info: Model built. Optimizing...\n",
      "└ @ Main.REoptLite C:\\Users\\jchang2\\Documents\\REoptLite\\src\\core\\reopt.jl:265\n",
      "┌ Info: REopt solved with \n",
      "│   termination_status(m) = OPTIMAL\n",
      "└ @ Main.REoptLite C:\\Users\\jchang2\\Documents\\REoptLite\\src\\core\\reopt.jl:274\n"
     ]
    },
    {
     "name": "stdout",
     "output_type": "stream",
     "text": [
      "run 15 complete\n"
     ]
    },
    {
     "name": "stderr",
     "output_type": "stream",
     "text": [
      "┌ Info: Checking URDB for \n",
      "│   urdb_label = 5e611fec5457a3665e019406\n",
      "└ @ Main.REoptLite C:\\Users\\jchang2\\Documents\\REoptLite\\src\\core\\urdb.jl:151\n",
      "┌ Info: Querying PVWatts for prodfactor with \n",
      "│   pv.name = PV\n",
      "└ @ Main.REoptLite C:\\Users\\jchang2\\Documents\\REoptLite\\src\\core\\prodfactor.jl:41\n",
      "┌ Info: PVWatts success.\n",
      "└ @ Main.REoptLite C:\\Users\\jchang2\\Documents\\REoptLite\\src\\core\\prodfactor.jl:49\n",
      "┌ Info: (\"p.mg_tech_sizes_equal_grid_sizes\", false)\n",
      "└ @ Main.REoptLite C:\\Users\\jchang2\\Documents\\REoptLite\\src\\constraints\\outage_constraints.jl:81\n",
      "┌ Info: Model built. Optimizing...\n",
      "└ @ Main.REoptLite C:\\Users\\jchang2\\Documents\\REoptLite\\src\\core\\reopt.jl:265\n",
      "┌ Info: REopt solved with \n",
      "│   termination_status(m) = OPTIMAL\n",
      "└ @ Main.REoptLite C:\\Users\\jchang2\\Documents\\REoptLite\\src\\core\\reopt.jl:274\n"
     ]
    },
    {
     "name": "stdout",
     "output_type": "stream",
     "text": [
      "run 16 complete\n"
     ]
    },
    {
     "name": "stderr",
     "output_type": "stream",
     "text": [
      "┌ Info: Checking URDB for \n",
      "│   urdb_label = 5e611fec5457a3665e019406\n",
      "└ @ Main.REoptLite C:\\Users\\jchang2\\Documents\\REoptLite\\src\\core\\urdb.jl:151\n",
      "┌ Info: Querying PVWatts for prodfactor with \n",
      "│   pv.name = PV\n",
      "└ @ Main.REoptLite C:\\Users\\jchang2\\Documents\\REoptLite\\src\\core\\prodfactor.jl:41\n",
      "┌ Info: PVWatts success.\n",
      "└ @ Main.REoptLite C:\\Users\\jchang2\\Documents\\REoptLite\\src\\core\\prodfactor.jl:49\n",
      "┌ Info: (\"p.mg_tech_sizes_equal_grid_sizes\", false)\n",
      "└ @ Main.REoptLite C:\\Users\\jchang2\\Documents\\REoptLite\\src\\constraints\\outage_constraints.jl:81\n",
      "┌ Info: Model built. Optimizing...\n",
      "└ @ Main.REoptLite C:\\Users\\jchang2\\Documents\\REoptLite\\src\\core\\reopt.jl:265\n",
      "┌ Info: REopt solved with \n",
      "│   termination_status(m) = OPTIMAL\n",
      "└ @ Main.REoptLite C:\\Users\\jchang2\\Documents\\REoptLite\\src\\core\\reopt.jl:274\n"
     ]
    },
    {
     "name": "stdout",
     "output_type": "stream",
     "text": [
      "run 17 complete\n"
     ]
    },
    {
     "name": "stderr",
     "output_type": "stream",
     "text": [
      "┌ Info: Checking URDB for \n",
      "│   urdb_label = 5e611fec5457a3665e019406\n",
      "└ @ Main.REoptLite C:\\Users\\jchang2\\Documents\\REoptLite\\src\\core\\urdb.jl:151\n",
      "┌ Info: Querying PVWatts for prodfactor with \n",
      "│   pv.name = PV\n",
      "└ @ Main.REoptLite C:\\Users\\jchang2\\Documents\\REoptLite\\src\\core\\prodfactor.jl:41\n",
      "┌ Info: PVWatts success.\n",
      "└ @ Main.REoptLite C:\\Users\\jchang2\\Documents\\REoptLite\\src\\core\\prodfactor.jl:49\n",
      "┌ Info: (\"p.mg_tech_sizes_equal_grid_sizes\", false)\n",
      "└ @ Main.REoptLite C:\\Users\\jchang2\\Documents\\REoptLite\\src\\constraints\\outage_constraints.jl:81\n",
      "┌ Info: Model built. Optimizing...\n",
      "└ @ Main.REoptLite C:\\Users\\jchang2\\Documents\\REoptLite\\src\\core\\reopt.jl:265\n",
      "┌ Info: REopt solved with \n",
      "│   termination_status(m) = OPTIMAL\n",
      "└ @ Main.REoptLite C:\\Users\\jchang2\\Documents\\REoptLite\\src\\core\\reopt.jl:274\n"
     ]
    },
    {
     "name": "stdout",
     "output_type": "stream",
     "text": [
      "run 18 complete\n"
     ]
    },
    {
     "name": "stderr",
     "output_type": "stream",
     "text": [
      "┌ Info: Checking URDB for \n",
      "│   urdb_label = 5e611fec5457a3665e019406\n",
      "└ @ Main.REoptLite C:\\Users\\jchang2\\Documents\\REoptLite\\src\\core\\urdb.jl:151\n",
      "┌ Info: Querying PVWatts for prodfactor with \n",
      "│   pv.name = PV\n",
      "└ @ Main.REoptLite C:\\Users\\jchang2\\Documents\\REoptLite\\src\\core\\prodfactor.jl:41\n",
      "┌ Info: PVWatts success.\n",
      "└ @ Main.REoptLite C:\\Users\\jchang2\\Documents\\REoptLite\\src\\core\\prodfactor.jl:49\n",
      "┌ Info: (\"p.mg_tech_sizes_equal_grid_sizes\", false)\n",
      "└ @ Main.REoptLite C:\\Users\\jchang2\\Documents\\REoptLite\\src\\constraints\\outage_constraints.jl:81\n",
      "┌ Info: Model built. Optimizing...\n",
      "└ @ Main.REoptLite C:\\Users\\jchang2\\Documents\\REoptLite\\src\\core\\reopt.jl:265\n",
      "┌ Info: REopt solved with \n",
      "│   termination_status(m) = OPTIMAL\n",
      "└ @ Main.REoptLite C:\\Users\\jchang2\\Documents\\REoptLite\\src\\core\\reopt.jl:274\n"
     ]
    },
    {
     "name": "stdout",
     "output_type": "stream",
     "text": [
      "run 19 complete\n"
     ]
    },
    {
     "name": "stderr",
     "output_type": "stream",
     "text": [
      "┌ Info: Checking URDB for \n",
      "│   urdb_label = 5e611fec5457a3665e019406\n",
      "└ @ Main.REoptLite C:\\Users\\jchang2\\Documents\\REoptLite\\src\\core\\urdb.jl:151\n",
      "┌ Info: Querying PVWatts for prodfactor with \n",
      "│   pv.name = PV\n",
      "└ @ Main.REoptLite C:\\Users\\jchang2\\Documents\\REoptLite\\src\\core\\prodfactor.jl:41\n",
      "┌ Info: PVWatts success.\n",
      "└ @ Main.REoptLite C:\\Users\\jchang2\\Documents\\REoptLite\\src\\core\\prodfactor.jl:49\n",
      "┌ Info: (\"p.mg_tech_sizes_equal_grid_sizes\", false)\n",
      "└ @ Main.REoptLite C:\\Users\\jchang2\\Documents\\REoptLite\\src\\constraints\\outage_constraints.jl:81\n",
      "┌ Info: Model built. Optimizing...\n",
      "└ @ Main.REoptLite C:\\Users\\jchang2\\Documents\\REoptLite\\src\\core\\reopt.jl:265\n",
      "┌ Info: REopt solved with \n",
      "│   termination_status(m) = OPTIMAL\n",
      "└ @ Main.REoptLite C:\\Users\\jchang2\\Documents\\REoptLite\\src\\core\\reopt.jl:274\n"
     ]
    },
    {
     "name": "stdout",
     "output_type": "stream",
     "text": [
      "run 20 complete\n"
     ]
    },
    {
     "name": "stderr",
     "output_type": "stream",
     "text": [
      "┌ Info: Checking URDB for \n",
      "│   urdb_label = 5e611fec5457a3665e019406\n",
      "└ @ Main.REoptLite C:\\Users\\jchang2\\Documents\\REoptLite\\src\\core\\urdb.jl:151\n",
      "┌ Info: Querying PVWatts for prodfactor with \n",
      "│   pv.name = PV\n",
      "└ @ Main.REoptLite C:\\Users\\jchang2\\Documents\\REoptLite\\src\\core\\prodfactor.jl:41\n",
      "┌ Info: PVWatts success.\n",
      "└ @ Main.REoptLite C:\\Users\\jchang2\\Documents\\REoptLite\\src\\core\\prodfactor.jl:49\n",
      "┌ Info: (\"p.mg_tech_sizes_equal_grid_sizes\", false)\n",
      "└ @ Main.REoptLite C:\\Users\\jchang2\\Documents\\REoptLite\\src\\constraints\\outage_constraints.jl:81\n",
      "┌ Info: Model built. Optimizing...\n",
      "└ @ Main.REoptLite C:\\Users\\jchang2\\Documents\\REoptLite\\src\\core\\reopt.jl:265\n",
      "┌ Info: REopt solved with \n",
      "│   termination_status(m) = OPTIMAL\n",
      "└ @ Main.REoptLite C:\\Users\\jchang2\\Documents\\REoptLite\\src\\core\\reopt.jl:274\n"
     ]
    },
    {
     "name": "stdout",
     "output_type": "stream",
     "text": [
      "run 21 complete\n"
     ]
    },
    {
     "name": "stderr",
     "output_type": "stream",
     "text": [
      "┌ Info: Checking URDB for \n",
      "│   urdb_label = 5e611fec5457a3665e019406\n",
      "└ @ Main.REoptLite C:\\Users\\jchang2\\Documents\\REoptLite\\src\\core\\urdb.jl:151\n",
      "┌ Info: Querying PVWatts for prodfactor with \n",
      "│   pv.name = PV\n",
      "└ @ Main.REoptLite C:\\Users\\jchang2\\Documents\\REoptLite\\src\\core\\prodfactor.jl:41\n",
      "┌ Info: PVWatts success.\n",
      "└ @ Main.REoptLite C:\\Users\\jchang2\\Documents\\REoptLite\\src\\core\\prodfactor.jl:49\n",
      "┌ Info: (\"p.mg_tech_sizes_equal_grid_sizes\", false)\n",
      "└ @ Main.REoptLite C:\\Users\\jchang2\\Documents\\REoptLite\\src\\constraints\\outage_constraints.jl:81\n",
      "┌ Info: Model built. Optimizing...\n",
      "└ @ Main.REoptLite C:\\Users\\jchang2\\Documents\\REoptLite\\src\\core\\reopt.jl:265\n",
      "┌ Info: REopt solved with \n",
      "│   termination_status(m) = OPTIMAL\n",
      "└ @ Main.REoptLite C:\\Users\\jchang2\\Documents\\REoptLite\\src\\core\\reopt.jl:274\n"
     ]
    },
    {
     "name": "stdout",
     "output_type": "stream",
     "text": [
      "run 22 complete\n"
     ]
    },
    {
     "name": "stderr",
     "output_type": "stream",
     "text": [
      "┌ Info: Checking URDB for \n",
      "│   urdb_label = 5e611fec5457a3665e019406\n",
      "└ @ Main.REoptLite C:\\Users\\jchang2\\Documents\\REoptLite\\src\\core\\urdb.jl:151\n",
      "┌ Info: Querying PVWatts for prodfactor with \n",
      "│   pv.name = PV\n",
      "└ @ Main.REoptLite C:\\Users\\jchang2\\Documents\\REoptLite\\src\\core\\prodfactor.jl:41\n",
      "┌ Info: PVWatts success.\n",
      "└ @ Main.REoptLite C:\\Users\\jchang2\\Documents\\REoptLite\\src\\core\\prodfactor.jl:49\n",
      "┌ Info: (\"p.mg_tech_sizes_equal_grid_sizes\", false)\n",
      "└ @ Main.REoptLite C:\\Users\\jchang2\\Documents\\REoptLite\\src\\constraints\\outage_constraints.jl:81\n",
      "┌ Info: Model built. Optimizing...\n",
      "└ @ Main.REoptLite C:\\Users\\jchang2\\Documents\\REoptLite\\src\\core\\reopt.jl:265\n",
      "┌ Info: REopt solved with \n",
      "│   termination_status(m) = OPTIMAL\n",
      "└ @ Main.REoptLite C:\\Users\\jchang2\\Documents\\REoptLite\\src\\core\\reopt.jl:274\n"
     ]
    },
    {
     "name": "stdout",
     "output_type": "stream",
     "text": [
      "run 23 complete\n"
     ]
    },
    {
     "name": "stderr",
     "output_type": "stream",
     "text": [
      "┌ Info: Checking URDB for \n",
      "│   urdb_label = 5e611fec5457a3665e019406\n",
      "└ @ Main.REoptLite C:\\Users\\jchang2\\Documents\\REoptLite\\src\\core\\urdb.jl:151\n",
      "┌ Info: Querying PVWatts for prodfactor with \n",
      "│   pv.name = PV\n",
      "└ @ Main.REoptLite C:\\Users\\jchang2\\Documents\\REoptLite\\src\\core\\prodfactor.jl:41\n",
      "┌ Info: PVWatts success.\n",
      "└ @ Main.REoptLite C:\\Users\\jchang2\\Documents\\REoptLite\\src\\core\\prodfactor.jl:49\n",
      "┌ Info: (\"p.mg_tech_sizes_equal_grid_sizes\", false)\n",
      "└ @ Main.REoptLite C:\\Users\\jchang2\\Documents\\REoptLite\\src\\constraints\\outage_constraints.jl:81\n",
      "┌ Info: Model built. Optimizing...\n",
      "└ @ Main.REoptLite C:\\Users\\jchang2\\Documents\\REoptLite\\src\\core\\reopt.jl:265\n",
      "┌ Info: REopt solved with \n",
      "│   termination_status(m) = OPTIMAL\n",
      "└ @ Main.REoptLite C:\\Users\\jchang2\\Documents\\REoptLite\\src\\core\\reopt.jl:274\n"
     ]
    },
    {
     "name": "stdout",
     "output_type": "stream",
     "text": [
      "run 24 complete\n"
     ]
    },
    {
     "name": "stderr",
     "output_type": "stream",
     "text": [
      "┌ Info: Checking URDB for \n",
      "│   urdb_label = 5e611fec5457a3665e019406\n",
      "└ @ Main.REoptLite C:\\Users\\jchang2\\Documents\\REoptLite\\src\\core\\urdb.jl:151\n",
      "┌ Info: Querying PVWatts for prodfactor with \n",
      "│   pv.name = PV\n",
      "└ @ Main.REoptLite C:\\Users\\jchang2\\Documents\\REoptLite\\src\\core\\prodfactor.jl:41\n",
      "┌ Info: PVWatts success.\n",
      "└ @ Main.REoptLite C:\\Users\\jchang2\\Documents\\REoptLite\\src\\core\\prodfactor.jl:49\n",
      "┌ Info: (\"p.mg_tech_sizes_equal_grid_sizes\", false)\n",
      "└ @ Main.REoptLite C:\\Users\\jchang2\\Documents\\REoptLite\\src\\constraints\\outage_constraints.jl:81\n",
      "┌ Info: Model built. Optimizing...\n",
      "└ @ Main.REoptLite C:\\Users\\jchang2\\Documents\\REoptLite\\src\\core\\reopt.jl:265\n",
      "┌ Info: REopt solved with \n",
      "│   termination_status(m) = OPTIMAL\n",
      "└ @ Main.REoptLite C:\\Users\\jchang2\\Documents\\REoptLite\\src\\core\\reopt.jl:274\n"
     ]
    },
    {
     "name": "stdout",
     "output_type": "stream",
     "text": [
      "run 25 complete\n"
     ]
    },
    {
     "name": "stderr",
     "output_type": "stream",
     "text": [
      "┌ Info: Checking URDB for \n",
      "│   urdb_label = 5e611fec5457a3665e019406\n",
      "└ @ Main.REoptLite C:\\Users\\jchang2\\Documents\\REoptLite\\src\\core\\urdb.jl:151\n",
      "┌ Info: Querying PVWatts for prodfactor with \n",
      "│   pv.name = PV\n",
      "└ @ Main.REoptLite C:\\Users\\jchang2\\Documents\\REoptLite\\src\\core\\prodfactor.jl:41\n",
      "┌ Info: PVWatts success.\n",
      "└ @ Main.REoptLite C:\\Users\\jchang2\\Documents\\REoptLite\\src\\core\\prodfactor.jl:49\n",
      "┌ Info: (\"p.mg_tech_sizes_equal_grid_sizes\", false)\n",
      "└ @ Main.REoptLite C:\\Users\\jchang2\\Documents\\REoptLite\\src\\constraints\\outage_constraints.jl:81\n",
      "┌ Info: Model built. Optimizing...\n",
      "└ @ Main.REoptLite C:\\Users\\jchang2\\Documents\\REoptLite\\src\\core\\reopt.jl:265\n",
      "┌ Info: REopt solved with \n",
      "│   termination_status(m) = OPTIMAL\n",
      "└ @ Main.REoptLite C:\\Users\\jchang2\\Documents\\REoptLite\\src\\core\\reopt.jl:274\n"
     ]
    },
    {
     "name": "stdout",
     "output_type": "stream",
     "text": [
      "run 26 complete\n"
     ]
    },
    {
     "name": "stderr",
     "output_type": "stream",
     "text": [
      "┌ Info: Checking URDB for \n",
      "│   urdb_label = 5e611fec5457a3665e019406\n",
      "└ @ Main.REoptLite C:\\Users\\jchang2\\Documents\\REoptLite\\src\\core\\urdb.jl:151\n",
      "┌ Info: Querying PVWatts for prodfactor with \n",
      "│   pv.name = PV\n",
      "└ @ Main.REoptLite C:\\Users\\jchang2\\Documents\\REoptLite\\src\\core\\prodfactor.jl:41\n",
      "┌ Info: PVWatts success.\n",
      "└ @ Main.REoptLite C:\\Users\\jchang2\\Documents\\REoptLite\\src\\core\\prodfactor.jl:49\n",
      "┌ Info: (\"p.mg_tech_sizes_equal_grid_sizes\", false)\n",
      "└ @ Main.REoptLite C:\\Users\\jchang2\\Documents\\REoptLite\\src\\constraints\\outage_constraints.jl:81\n",
      "┌ Info: Model built. Optimizing...\n",
      "└ @ Main.REoptLite C:\\Users\\jchang2\\Documents\\REoptLite\\src\\core\\reopt.jl:265\n",
      "┌ Info: REopt solved with \n",
      "│   termination_status(m) = OPTIMAL\n",
      "└ @ Main.REoptLite C:\\Users\\jchang2\\Documents\\REoptLite\\src\\core\\reopt.jl:274\n"
     ]
    },
    {
     "name": "stdout",
     "output_type": "stream",
     "text": [
      "run 27 complete\n"
     ]
    },
    {
     "name": "stderr",
     "output_type": "stream",
     "text": [
      "┌ Info: Checking URDB for \n",
      "│   urdb_label = 5e611fec5457a3665e019406\n",
      "└ @ Main.REoptLite C:\\Users\\jchang2\\Documents\\REoptLite\\src\\core\\urdb.jl:151\n",
      "┌ Info: Querying PVWatts for prodfactor with \n",
      "│   pv.name = PV\n",
      "└ @ Main.REoptLite C:\\Users\\jchang2\\Documents\\REoptLite\\src\\core\\prodfactor.jl:41\n",
      "┌ Info: PVWatts success.\n",
      "└ @ Main.REoptLite C:\\Users\\jchang2\\Documents\\REoptLite\\src\\core\\prodfactor.jl:49\n",
      "┌ Info: (\"p.mg_tech_sizes_equal_grid_sizes\", false)\n",
      "└ @ Main.REoptLite C:\\Users\\jchang2\\Documents\\REoptLite\\src\\constraints\\outage_constraints.jl:81\n",
      "┌ Info: Model built. Optimizing...\n",
      "└ @ Main.REoptLite C:\\Users\\jchang2\\Documents\\REoptLite\\src\\core\\reopt.jl:265\n",
      "┌ Info: REopt solved with \n",
      "│   termination_status(m) = OPTIMAL\n",
      "└ @ Main.REoptLite C:\\Users\\jchang2\\Documents\\REoptLite\\src\\core\\reopt.jl:274\n"
     ]
    },
    {
     "name": "stdout",
     "output_type": "stream",
     "text": [
      "run 28 complete\n"
     ]
    },
    {
     "name": "stderr",
     "output_type": "stream",
     "text": [
      "┌ Info: Checking URDB for \n",
      "│   urdb_label = 5e611fec5457a3665e019406\n",
      "└ @ Main.REoptLite C:\\Users\\jchang2\\Documents\\REoptLite\\src\\core\\urdb.jl:151\n",
      "┌ Info: Querying PVWatts for prodfactor with \n",
      "│   pv.name = PV\n",
      "└ @ Main.REoptLite C:\\Users\\jchang2\\Documents\\REoptLite\\src\\core\\prodfactor.jl:41\n",
      "┌ Info: PVWatts success.\n",
      "└ @ Main.REoptLite C:\\Users\\jchang2\\Documents\\REoptLite\\src\\core\\prodfactor.jl:49\n",
      "┌ Info: (\"p.mg_tech_sizes_equal_grid_sizes\", false)\n",
      "└ @ Main.REoptLite C:\\Users\\jchang2\\Documents\\REoptLite\\src\\constraints\\outage_constraints.jl:81\n",
      "┌ Info: Model built. Optimizing...\n",
      "└ @ Main.REoptLite C:\\Users\\jchang2\\Documents\\REoptLite\\src\\core\\reopt.jl:265\n",
      "┌ Info: REopt solved with \n",
      "│   termination_status(m) = OPTIMAL\n",
      "└ @ Main.REoptLite C:\\Users\\jchang2\\Documents\\REoptLite\\src\\core\\reopt.jl:274\n"
     ]
    },
    {
     "name": "stdout",
     "output_type": "stream",
     "text": [
      "run 29 complete\n"
     ]
    },
    {
     "name": "stderr",
     "output_type": "stream",
     "text": [
      "┌ Info: Checking URDB for \n",
      "│   urdb_label = 5e611fec5457a3665e019406\n",
      "└ @ Main.REoptLite C:\\Users\\jchang2\\Documents\\REoptLite\\src\\core\\urdb.jl:151\n",
      "┌ Info: Querying PVWatts for prodfactor with \n",
      "│   pv.name = PV\n",
      "└ @ Main.REoptLite C:\\Users\\jchang2\\Documents\\REoptLite\\src\\core\\prodfactor.jl:41\n",
      "┌ Info: PVWatts success.\n",
      "└ @ Main.REoptLite C:\\Users\\jchang2\\Documents\\REoptLite\\src\\core\\prodfactor.jl:49\n",
      "┌ Info: (\"p.mg_tech_sizes_equal_grid_sizes\", false)\n",
      "└ @ Main.REoptLite C:\\Users\\jchang2\\Documents\\REoptLite\\src\\constraints\\outage_constraints.jl:81\n",
      "┌ Info: Model built. Optimizing...\n",
      "└ @ Main.REoptLite C:\\Users\\jchang2\\Documents\\REoptLite\\src\\core\\reopt.jl:265\n",
      "┌ Info: REopt solved with \n",
      "│   termination_status(m) = OPTIMAL\n",
      "└ @ Main.REoptLite C:\\Users\\jchang2\\Documents\\REoptLite\\src\\core\\reopt.jl:274\n"
     ]
    },
    {
     "name": "stdout",
     "output_type": "stream",
     "text": [
      "run 30 complete\n"
     ]
    },
    {
     "name": "stderr",
     "output_type": "stream",
     "text": [
      "┌ Info: Checking URDB for \n",
      "│   urdb_label = 5e611fec5457a3665e019406\n",
      "└ @ Main.REoptLite C:\\Users\\jchang2\\Documents\\REoptLite\\src\\core\\urdb.jl:151\n",
      "┌ Info: Querying PVWatts for prodfactor with \n",
      "│   pv.name = PV\n",
      "└ @ Main.REoptLite C:\\Users\\jchang2\\Documents\\REoptLite\\src\\core\\prodfactor.jl:41\n",
      "┌ Info: PVWatts success.\n",
      "└ @ Main.REoptLite C:\\Users\\jchang2\\Documents\\REoptLite\\src\\core\\prodfactor.jl:49\n",
      "┌ Info: (\"p.mg_tech_sizes_equal_grid_sizes\", false)\n",
      "└ @ Main.REoptLite C:\\Users\\jchang2\\Documents\\REoptLite\\src\\constraints\\outage_constraints.jl:81\n",
      "┌ Info: Model built. Optimizing...\n",
      "└ @ Main.REoptLite C:\\Users\\jchang2\\Documents\\REoptLite\\src\\core\\reopt.jl:265\n",
      "┌ Info: REopt solved with \n",
      "│   termination_status(m) = OPTIMAL\n",
      "└ @ Main.REoptLite C:\\Users\\jchang2\\Documents\\REoptLite\\src\\core\\reopt.jl:274\n"
     ]
    },
    {
     "name": "stdout",
     "output_type": "stream",
     "text": [
      "run 31 complete\n"
     ]
    },
    {
     "name": "stderr",
     "output_type": "stream",
     "text": [
      "┌ Info: Checking URDB for \n",
      "│   urdb_label = 5e611fec5457a3665e019406\n",
      "└ @ Main.REoptLite C:\\Users\\jchang2\\Documents\\REoptLite\\src\\core\\urdb.jl:151\n",
      "┌ Info: Querying PVWatts for prodfactor with \n",
      "│   pv.name = PV\n",
      "└ @ Main.REoptLite C:\\Users\\jchang2\\Documents\\REoptLite\\src\\core\\prodfactor.jl:41\n",
      "┌ Info: PVWatts success.\n",
      "└ @ Main.REoptLite C:\\Users\\jchang2\\Documents\\REoptLite\\src\\core\\prodfactor.jl:49\n",
      "┌ Info: (\"p.mg_tech_sizes_equal_grid_sizes\", false)\n",
      "└ @ Main.REoptLite C:\\Users\\jchang2\\Documents\\REoptLite\\src\\constraints\\outage_constraints.jl:81\n",
      "┌ Info: Model built. Optimizing...\n",
      "└ @ Main.REoptLite C:\\Users\\jchang2\\Documents\\REoptLite\\src\\core\\reopt.jl:265\n",
      "┌ Info: REopt solved with \n",
      "│   termination_status(m) = OPTIMAL\n",
      "└ @ Main.REoptLite C:\\Users\\jchang2\\Documents\\REoptLite\\src\\core\\reopt.jl:274\n"
     ]
    },
    {
     "name": "stdout",
     "output_type": "stream",
     "text": [
      "run 32 complete\n"
     ]
    },
    {
     "name": "stderr",
     "output_type": "stream",
     "text": [
      "┌ Info: Checking URDB for \n",
      "│   urdb_label = 5e611fec5457a3665e019406\n",
      "└ @ Main.REoptLite C:\\Users\\jchang2\\Documents\\REoptLite\\src\\core\\urdb.jl:151\n",
      "┌ Info: Querying PVWatts for prodfactor with \n",
      "│   pv.name = PV\n",
      "└ @ Main.REoptLite C:\\Users\\jchang2\\Documents\\REoptLite\\src\\core\\prodfactor.jl:41\n",
      "┌ Info: PVWatts success.\n",
      "└ @ Main.REoptLite C:\\Users\\jchang2\\Documents\\REoptLite\\src\\core\\prodfactor.jl:49\n",
      "┌ Info: (\"p.mg_tech_sizes_equal_grid_sizes\", false)\n",
      "└ @ Main.REoptLite C:\\Users\\jchang2\\Documents\\REoptLite\\src\\constraints\\outage_constraints.jl:81\n",
      "┌ Info: Model built. Optimizing...\n",
      "└ @ Main.REoptLite C:\\Users\\jchang2\\Documents\\REoptLite\\src\\core\\reopt.jl:265\n",
      "┌ Info: REopt solved with \n",
      "│   termination_status(m) = OPTIMAL\n",
      "└ @ Main.REoptLite C:\\Users\\jchang2\\Documents\\REoptLite\\src\\core\\reopt.jl:274\n"
     ]
    },
    {
     "name": "stdout",
     "output_type": "stream",
     "text": [
      "run 33 complete\n"
     ]
    },
    {
     "name": "stderr",
     "output_type": "stream",
     "text": [
      "┌ Info: Checking URDB for \n",
      "│   urdb_label = 5e611fec5457a3665e019406\n",
      "└ @ Main.REoptLite C:\\Users\\jchang2\\Documents\\REoptLite\\src\\core\\urdb.jl:151\n",
      "┌ Info: Querying PVWatts for prodfactor with \n",
      "│   pv.name = PV\n",
      "└ @ Main.REoptLite C:\\Users\\jchang2\\Documents\\REoptLite\\src\\core\\prodfactor.jl:41\n",
      "┌ Info: PVWatts success.\n",
      "└ @ Main.REoptLite C:\\Users\\jchang2\\Documents\\REoptLite\\src\\core\\prodfactor.jl:49\n",
      "┌ Info: (\"p.mg_tech_sizes_equal_grid_sizes\", false)\n",
      "└ @ Main.REoptLite C:\\Users\\jchang2\\Documents\\REoptLite\\src\\constraints\\outage_constraints.jl:81\n",
      "┌ Info: Model built. Optimizing...\n",
      "└ @ Main.REoptLite C:\\Users\\jchang2\\Documents\\REoptLite\\src\\core\\reopt.jl:265\n",
      "┌ Info: REopt solved with \n",
      "│   termination_status(m) = OPTIMAL\n",
      "└ @ Main.REoptLite C:\\Users\\jchang2\\Documents\\REoptLite\\src\\core\\reopt.jl:274\n"
     ]
    },
    {
     "name": "stdout",
     "output_type": "stream",
     "text": [
      "run 34 complete\n"
     ]
    },
    {
     "name": "stderr",
     "output_type": "stream",
     "text": [
      "┌ Info: Checking URDB for \n",
      "│   urdb_label = 5e611fec5457a3665e019406\n",
      "└ @ Main.REoptLite C:\\Users\\jchang2\\Documents\\REoptLite\\src\\core\\urdb.jl:151\n",
      "┌ Info: Querying PVWatts for prodfactor with \n",
      "│   pv.name = PV\n",
      "└ @ Main.REoptLite C:\\Users\\jchang2\\Documents\\REoptLite\\src\\core\\prodfactor.jl:41\n",
      "┌ Info: PVWatts success.\n",
      "└ @ Main.REoptLite C:\\Users\\jchang2\\Documents\\REoptLite\\src\\core\\prodfactor.jl:49\n",
      "┌ Info: (\"p.mg_tech_sizes_equal_grid_sizes\", false)\n",
      "└ @ Main.REoptLite C:\\Users\\jchang2\\Documents\\REoptLite\\src\\constraints\\outage_constraints.jl:81\n",
      "┌ Info: Model built. Optimizing...\n",
      "└ @ Main.REoptLite C:\\Users\\jchang2\\Documents\\REoptLite\\src\\core\\reopt.jl:265\n",
      "┌ Info: REopt solved with \n",
      "│   termination_status(m) = OPTIMAL\n",
      "└ @ Main.REoptLite C:\\Users\\jchang2\\Documents\\REoptLite\\src\\core\\reopt.jl:274\n"
     ]
    },
    {
     "name": "stdout",
     "output_type": "stream",
     "text": [
      "run 35 complete\n"
     ]
    },
    {
     "name": "stderr",
     "output_type": "stream",
     "text": [
      "┌ Info: Checking URDB for \n",
      "│   urdb_label = 5e611fec5457a3665e019406\n",
      "└ @ Main.REoptLite C:\\Users\\jchang2\\Documents\\REoptLite\\src\\core\\urdb.jl:151\n",
      "┌ Info: Querying PVWatts for prodfactor with \n",
      "│   pv.name = PV\n",
      "└ @ Main.REoptLite C:\\Users\\jchang2\\Documents\\REoptLite\\src\\core\\prodfactor.jl:41\n",
      "┌ Info: PVWatts success.\n",
      "└ @ Main.REoptLite C:\\Users\\jchang2\\Documents\\REoptLite\\src\\core\\prodfactor.jl:49\n",
      "┌ Info: (\"p.mg_tech_sizes_equal_grid_sizes\", false)\n",
      "└ @ Main.REoptLite C:\\Users\\jchang2\\Documents\\REoptLite\\src\\constraints\\outage_constraints.jl:81\n",
      "┌ Info: Model built. Optimizing...\n",
      "└ @ Main.REoptLite C:\\Users\\jchang2\\Documents\\REoptLite\\src\\core\\reopt.jl:265\n",
      "┌ Info: REopt solved with \n",
      "│   termination_status(m) = OPTIMAL\n",
      "└ @ Main.REoptLite C:\\Users\\jchang2\\Documents\\REoptLite\\src\\core\\reopt.jl:274\n"
     ]
    },
    {
     "name": "stdout",
     "output_type": "stream",
     "text": [
      "run 36 complete\n"
     ]
    },
    {
     "name": "stderr",
     "output_type": "stream",
     "text": [
      "┌ Info: Checking URDB for \n",
      "│   urdb_label = 5e611fec5457a3665e019406\n",
      "└ @ Main.REoptLite C:\\Users\\jchang2\\Documents\\REoptLite\\src\\core\\urdb.jl:151\n",
      "┌ Info: Querying PVWatts for prodfactor with \n",
      "│   pv.name = PV\n",
      "└ @ Main.REoptLite C:\\Users\\jchang2\\Documents\\REoptLite\\src\\core\\prodfactor.jl:41\n",
      "┌ Info: PVWatts success.\n",
      "└ @ Main.REoptLite C:\\Users\\jchang2\\Documents\\REoptLite\\src\\core\\prodfactor.jl:49\n",
      "┌ Info: (\"p.mg_tech_sizes_equal_grid_sizes\", false)\n",
      "└ @ Main.REoptLite C:\\Users\\jchang2\\Documents\\REoptLite\\src\\constraints\\outage_constraints.jl:81\n",
      "┌ Info: Model built. Optimizing...\n",
      "└ @ Main.REoptLite C:\\Users\\jchang2\\Documents\\REoptLite\\src\\core\\reopt.jl:265\n",
      "┌ Info: REopt solved with \n",
      "│   termination_status(m) = OPTIMAL\n",
      "└ @ Main.REoptLite C:\\Users\\jchang2\\Documents\\REoptLite\\src\\core\\reopt.jl:274\n"
     ]
    },
    {
     "name": "stdout",
     "output_type": "stream",
     "text": [
      "run 37 complete\n"
     ]
    },
    {
     "name": "stderr",
     "output_type": "stream",
     "text": [
      "┌ Info: Checking URDB for \n",
      "│   urdb_label = 5e611fec5457a3665e019406\n",
      "└ @ Main.REoptLite C:\\Users\\jchang2\\Documents\\REoptLite\\src\\core\\urdb.jl:151\n",
      "┌ Info: Querying PVWatts for prodfactor with \n",
      "│   pv.name = PV\n",
      "└ @ Main.REoptLite C:\\Users\\jchang2\\Documents\\REoptLite\\src\\core\\prodfactor.jl:41\n",
      "┌ Info: PVWatts success.\n",
      "└ @ Main.REoptLite C:\\Users\\jchang2\\Documents\\REoptLite\\src\\core\\prodfactor.jl:49\n",
      "┌ Info: (\"p.mg_tech_sizes_equal_grid_sizes\", false)\n",
      "└ @ Main.REoptLite C:\\Users\\jchang2\\Documents\\REoptLite\\src\\constraints\\outage_constraints.jl:81\n",
      "┌ Info: Model built. Optimizing...\n",
      "└ @ Main.REoptLite C:\\Users\\jchang2\\Documents\\REoptLite\\src\\core\\reopt.jl:265\n",
      "┌ Info: REopt solved with \n",
      "│   termination_status(m) = OPTIMAL\n",
      "└ @ Main.REoptLite C:\\Users\\jchang2\\Documents\\REoptLite\\src\\core\\reopt.jl:274\n"
     ]
    },
    {
     "name": "stdout",
     "output_type": "stream",
     "text": [
      "run 38 complete\n"
     ]
    },
    {
     "name": "stderr",
     "output_type": "stream",
     "text": [
      "┌ Info: Checking URDB for \n",
      "│   urdb_label = 5e611fec5457a3665e019406\n",
      "└ @ Main.REoptLite C:\\Users\\jchang2\\Documents\\REoptLite\\src\\core\\urdb.jl:151\n",
      "┌ Info: Querying PVWatts for prodfactor with \n",
      "│   pv.name = PV\n",
      "└ @ Main.REoptLite C:\\Users\\jchang2\\Documents\\REoptLite\\src\\core\\prodfactor.jl:41\n",
      "┌ Info: PVWatts success.\n",
      "└ @ Main.REoptLite C:\\Users\\jchang2\\Documents\\REoptLite\\src\\core\\prodfactor.jl:49\n",
      "┌ Info: (\"p.mg_tech_sizes_equal_grid_sizes\", false)\n",
      "└ @ Main.REoptLite C:\\Users\\jchang2\\Documents\\REoptLite\\src\\constraints\\outage_constraints.jl:81\n",
      "┌ Info: Model built. Optimizing...\n",
      "└ @ Main.REoptLite C:\\Users\\jchang2\\Documents\\REoptLite\\src\\core\\reopt.jl:265\n",
      "┌ Info: REopt solved with \n",
      "│   termination_status(m) = OPTIMAL\n",
      "└ @ Main.REoptLite C:\\Users\\jchang2\\Documents\\REoptLite\\src\\core\\reopt.jl:274\n"
     ]
    },
    {
     "name": "stdout",
     "output_type": "stream",
     "text": [
      "run 39 complete\n"
     ]
    },
    {
     "name": "stderr",
     "output_type": "stream",
     "text": [
      "┌ Info: Checking URDB for \n",
      "│   urdb_label = 5e611fec5457a3665e019406\n",
      "└ @ Main.REoptLite C:\\Users\\jchang2\\Documents\\REoptLite\\src\\core\\urdb.jl:151\n",
      "┌ Info: Querying PVWatts for prodfactor with \n",
      "│   pv.name = PV\n",
      "└ @ Main.REoptLite C:\\Users\\jchang2\\Documents\\REoptLite\\src\\core\\prodfactor.jl:41\n",
      "┌ Info: PVWatts success.\n",
      "└ @ Main.REoptLite C:\\Users\\jchang2\\Documents\\REoptLite\\src\\core\\prodfactor.jl:49\n",
      "┌ Info: (\"p.mg_tech_sizes_equal_grid_sizes\", false)\n",
      "└ @ Main.REoptLite C:\\Users\\jchang2\\Documents\\REoptLite\\src\\constraints\\outage_constraints.jl:81\n",
      "┌ Info: Model built. Optimizing...\n",
      "└ @ Main.REoptLite C:\\Users\\jchang2\\Documents\\REoptLite\\src\\core\\reopt.jl:265\n",
      "┌ Info: REopt solved with \n",
      "│   termination_status(m) = OPTIMAL\n",
      "└ @ Main.REoptLite C:\\Users\\jchang2\\Documents\\REoptLite\\src\\core\\reopt.jl:274\n"
     ]
    },
    {
     "name": "stdout",
     "output_type": "stream",
     "text": [
      "run 40 complete\n"
     ]
    }
   ],
   "source": [
    "results = Dict[]\n",
    "\n",
    "for VoLL in range(0, stop=40, step=1)\n",
    "    scenario_dict = copy(scenario_template)\n",
    "    scenario_dict[\"ElectricUtility\"][\"outage_start_timesteps\"] = collect(range(17, stop=8760-336, step=336))\n",
    "    scenario_dict[\"Financial\"][\"VoLL\"] = VoLL\n",
    "    s = Scenario(scenario_dict)\n",
    "    push!(results, run(s, \"sseb_VoLL\"*string(VoLL)))\n",
    "    println(\"run $VoLL complete\")\n",
    "end"
   ]
  },
  {
   "cell_type": "code",
   "execution_count": 9,
   "metadata": {},
   "outputs": [
    {
     "data": {
      "text/plain": [
       "41-element Array{Dict,1}:\n",
       " Dict{String,Any}(\"net_capital_costs\" => 1.65175616e6,\"year_one_demand_cost\" => 1.1354088e6,\"lcc\" => 5.5739772e7,\"expected_outage_cost\" => 0.0,\"year_one_utility_kwh\" => 3.578825863e7,\"year_one_export_benefit\" => 0.0,\"year_one_energy_cost\" => 1.16766351e6,\"PVtoCUR\" => [0.0, 0.0, 0.0, 0.0, 0.0, 0.0, 0.0, 0.0, -0.0, 0.0  …  0.0, 0.0, 0.0, 0.0, 0.0, 0.0, 0.0, 0.0, 0.0, 0.0],\"year_one_energy_produced_PV\" => 6.020553e6,\"PV_net_fixed_om_costs\" => 514088.0…)\n",
       " Dict{String,Any}(\"net_capital_costs\" => 1.65175616e6,\"year_one_demand_cost\" => 1.1354088e6,\"lcc\" => 5.5813124e7,\"expected_outage_cost\" => 73351.76146885377,\"year_one_utility_kwh\" => 3.578825863e7,\"year_one_export_benefit\" => 0.0,\"year_one_energy_cost\" => 1.16766351e6,\"PVtoCUR\" => [0.0, 0.0, 0.0, 0.0, 0.0, 0.0, 0.0, 0.0, -0.0, 0.0  …  0.0, 0.0, 0.0, 0.0, 0.0, 0.0, 0.0, 0.0, 0.0, 0.0],\"year_one_energy_produced_PV\" => 6.020553e6,\"PV_net_fixed_om_costs\" => 514088.0…)\n",
       " Dict{String,Any}(\"net_capital_costs\" => 1.65175616e6,\"year_one_demand_cost\" => 1.1354088e6,\"lcc\" => 5.5886475e7,\"expected_outage_cost\" => 146703.52293770746,\"year_one_utility_kwh\" => 3.578825863e7,\"year_one_export_benefit\" => 0.0,\"year_one_energy_cost\" => 1.16766351e6,\"PVtoCUR\" => [0.0, 0.0, 0.0, 0.0, 0.0, 0.0, 0.0, 0.0, -0.0, 0.0  …  0.0, 0.0, 0.0, 0.0, 0.0, 0.0, 0.0, 0.0, 0.0, 0.0],\"year_one_energy_produced_PV\" => 6.020553e6,\"PV_net_fixed_om_costs\" => 514088.0…)\n",
       " Dict{String,Any}(\"net_capital_costs\" => 1.65175616e6,\"year_one_demand_cost\" => 1.1354088e6,\"lcc\" => 5.5959827e7,\"expected_outage_cost\" => 220055.28440656135,\"year_one_utility_kwh\" => 3.578825863e7,\"year_one_export_benefit\" => 0.0,\"year_one_energy_cost\" => 1.16766351e6,\"PVtoCUR\" => [0.0, 0.0, 0.0, 0.0, 0.0, 0.0, 0.0, 0.0, -0.0, 0.0  …  0.0, 0.0, 0.0, 0.0, 0.0, 0.0, 0.0, 0.0, 0.0, 0.0],\"year_one_energy_produced_PV\" => 6.020553e6,\"PV_net_fixed_om_costs\" => 514088.0…)\n",
       " Dict{String,Any}(\"net_capital_costs\" => 1.65175616e6,\"year_one_demand_cost\" => 1.1354088e6,\"lcc\" => 5.6033179e7,\"expected_outage_cost\" => 293407.0458754151,\"year_one_utility_kwh\" => 3.578825863e7,\"year_one_export_benefit\" => 0.0,\"year_one_energy_cost\" => 1.16766351e6,\"PVtoCUR\" => [0.0, 0.0, 0.0, 0.0, 0.0, 0.0, 0.0, 0.0, -0.0, 0.0  …  0.0, 0.0, 0.0, 0.0, 0.0, 0.0, 0.0, 0.0, 0.0, 0.0],\"year_one_energy_produced_PV\" => 6.020553e6,\"PV_net_fixed_om_costs\" => 514088.0…)\n",
       " Dict{String,Any}(\"net_capital_costs\" => 1.65175616e6,\"year_one_demand_cost\" => 1.1354088e6,\"lcc\" => 5.6106531e7,\"expected_outage_cost\" => 366758.8073442688,\"year_one_utility_kwh\" => 3.578825863e7,\"year_one_export_benefit\" => 0.0,\"year_one_energy_cost\" => 1.16766351e6,\"PVtoCUR\" => [0.0, 0.0, 0.0, 0.0, 0.0, 0.0, 0.0, 0.0, -0.0, 0.0  …  0.0, 0.0, 0.0, 0.0, 0.0, 0.0, 0.0, 0.0, 0.0, 0.0],\"year_one_energy_produced_PV\" => 6.020553e6,\"PV_net_fixed_om_costs\" => 514088.0…)\n",
       " Dict{String,Any}(\"net_capital_costs\" => 1.17703501e6,\"year_one_demand_cost\" => 1.1598682e6,\"lcc\" => 5.6138129e7,\"expected_outage_cost\" => 178072.14152664703,\"year_one_utility_kwh\" => 3.573210881e7,\"year_one_export_benefit\" => 0.0,\"year_one_energy_cost\" => 1.16583151e6,\"PVtoCUR\" => [0.0, 0.0, 0.0, 0.0, 0.0, 0.0, 0.0, 0.0, -0.0, 0.0  …  0.0, 0.0, 0.0, 0.0, 0.0, 0.0, 0.0, 0.0, 0.0, 0.0],\"year_one_energy_produced_PV\" => 6.078616e6,\"PV_net_fixed_om_costs\" => 519046.0…)\n",
       " Dict{String,Any}(\"net_capital_costs\" => 1.19917387e6,\"year_one_demand_cost\" => 1.15790121e6,\"lcc\" => 5.6167533e7,\"expected_outage_cost\" => 202478.76030193735,\"year_one_utility_kwh\" => 3.575385758e7,\"year_one_export_benefit\" => 0.0,\"year_one_energy_cost\" => 1.16654111e6,\"PVtoCUR\" => [0.0, 0.0, 0.0, 0.0, 0.0, 0.0, 0.0, 0.0, -0.0, 0.0  …  0.0, 0.0, 0.0, 0.0, 0.0, 0.0, 0.0, 0.0, 0.0, 0.0],\"year_one_energy_produced_PV\" => 6.05568e6,\"PV_net_fixed_om_costs\" => 517087.0…)\n",
       " Dict{String,Any}(\"net_capital_costs\" => 1.29016165e6,\"year_one_demand_cost\" => 1.15451917e6,\"lcc\" => 5.6196327e7,\"expected_outage_cost\" => 228575.29385432665,\"year_one_utility_kwh\" => 3.571504778e7,\"year_one_export_benefit\" => 0.0,\"year_one_energy_cost\" => 1.16527486e6,\"PVtoCUR\" => [0.0, 0.0, 0.0, 0.0, 0.0, 0.0, 0.0, 0.0, -0.0, 0.0  …  0.0, 0.0, 0.0, 0.0, 0.0, 0.0, 0.0, 0.0, 0.0, 0.0],\"year_one_energy_produced_PV\" => 6.096869e6,\"PV_net_fixed_om_costs\" => 520604.0…)\n",
       " Dict{String,Any}(\"net_capital_costs\" => 1.3402715e6,\"year_one_demand_cost\" => 1.15236263e6,\"lcc\" => 5.6224665e7,\"expected_outage_cost\" => 253214.90428263514,\"year_one_utility_kwh\" => 3.570281246e7,\"year_one_export_benefit\" => 0.0,\"year_one_energy_cost\" => 1.16487566e6,\"PVtoCUR\" => [0.0, 0.0, 0.0, 0.0, 0.0, 0.0, 0.0, 0.0, -0.0, 0.0  …  0.0, 0.0, 0.0, 0.0, 0.0, 0.0, 0.0, 0.0, 0.0, 0.0],\"year_one_energy_produced_PV\" => 6.109903e6,\"PV_net_fixed_om_costs\" => 521717.0…)\n",
       " Dict{String,Any}(\"net_capital_costs\" => 1.37165737e6,\"year_one_demand_cost\" => 1.15102016e6,\"lcc\" => 5.6252571e7,\"expected_outage_cost\" => 278613.2676735542,\"year_one_utility_kwh\" => 3.569515108e7,\"year_one_export_benefit\" => 0.0,\"year_one_energy_cost\" => 1.16462569e6,\"PVtoCUR\" => [0.0, 0.0, 0.0, 0.0, 0.0, 0.0, 0.0, 0.0, -0.0, 0.0  …  0.0, 0.0, 0.0, 0.0, 0.0, 0.0, 0.0, 0.0, 0.0, 0.0],\"year_one_energy_produced_PV\" => 6.118067e6,\"PV_net_fixed_om_costs\" => 522414.0…)\n",
       " Dict{String,Any}(\"net_capital_costs\" => 1.37165737e6,\"year_one_demand_cost\" => 1.15102016e6,\"lcc\" => 5.6280432e7,\"expected_outage_cost\" => 306474.5944409092,\"year_one_utility_kwh\" => 3.569515108e7,\"year_one_export_benefit\" => 0.0,\"year_one_energy_cost\" => 1.16462569e6,\"PVtoCUR\" => [0.0, 0.0, 0.0, 0.0, 0.0, 0.0, 0.0, 0.0, -0.0, 0.0  …  0.0, 0.0, 0.0, 0.0, 0.0, 0.0, 0.0, 0.0, 0.0, 0.0],\"year_one_energy_produced_PV\" => 6.118067e6,\"PV_net_fixed_om_costs\" => 522414.0…)\n",
       " Dict{String,Any}(\"net_capital_costs\" => 1.37165737e6,\"year_one_demand_cost\" => 1.15102016e6,\"lcc\" => 5.6308294e7,\"expected_outage_cost\" => 334335.9212082648,\"year_one_utility_kwh\" => 3.569515108e7,\"year_one_export_benefit\" => 0.0,\"year_one_energy_cost\" => 1.16462569e6,\"PVtoCUR\" => [0.0, 0.0, 0.0, 0.0, 0.0, 0.0, 0.0, 0.0, -0.0, 0.0  …  0.0, 0.0, 0.0, 0.0, 0.0, 0.0, 0.0, 0.0, 0.0, 0.0],\"year_one_energy_produced_PV\" => 6.118067e6,\"PV_net_fixed_om_costs\" => 522414.0…)\n",
       " ⋮\n",
       " Dict{String,Any}(\"net_capital_costs\" => 1.77367864e6,\"year_one_demand_cost\" => 1.13178971e6,\"lcc\" => 5.6702687e7,\"expected_outage_cost\" => 571832.1612291472,\"year_one_utility_kwh\" => 3.577211525e7,\"year_one_export_benefit\" => 0.0,\"year_one_energy_cost\" => 1.1671368e6,\"PVtoCUR\" => [0.0, 0.0, 0.0, 0.0, 0.0, 0.0, 0.0, 0.0, -0.0, 0.0  …  0.0, 0.0, 0.0, 0.0, 0.0, 0.0, 0.0, 0.0, 0.0, 0.0],\"year_one_energy_produced_PV\" => 6.037849e6,\"PV_net_fixed_om_costs\" => 515565.0…)\n",
       " Dict{String,Any}(\"net_capital_costs\" => 1.79418113e6,\"year_one_demand_cost\" => 1.13104213e6,\"lcc\" => 5.6722201e7,\"expected_outage_cost\" => 583814.5569728711,\"year_one_utility_kwh\" => 3.577010597e7,\"year_one_export_benefit\" => 0.0,\"year_one_energy_cost\" => 1.16707125e6,\"PVtoCUR\" => [0.0, 0.0, 0.0, 0.0, 0.0, 0.0, 0.0, 0.0, -0.0, 0.0  …  0.0, 0.0, 0.0, 0.0, 0.0, 0.0, 0.0, 0.0, 0.0, 0.0],\"year_one_energy_produced_PV\" => 6.04003e6,\"PV_net_fixed_om_costs\" => 515751.0…)\n",
       " Dict{String,Any}(\"net_capital_costs\" => 1.80065928e6,\"year_one_demand_cost\" => 1.13080886e6,\"lcc\" => 5.6741583e7,\"expected_outage_cost\" => 600749.2419742602,\"year_one_utility_kwh\" => 3.576947115e7,\"year_one_export_benefit\" => 0.0,\"year_one_energy_cost\" => 1.16705054e6,\"PVtoCUR\" => [0.0, 0.0, 0.0, 0.0, 0.0, 0.0, 0.0, 0.0, -0.0, 0.0  …  0.0, 0.0, 0.0, 0.0, 0.0, 0.0, 0.0, 0.0, 0.0, 0.0],\"year_one_energy_produced_PV\" => 6.04072e6,\"PV_net_fixed_om_costs\" => 515810.0…)\n",
       " Dict{String,Any}(\"net_capital_costs\" => 1.94614472e6,\"year_one_demand_cost\" => 1.12565899e6,\"lcc\" => 5.6760308e7,\"expected_outage_cost\" => 555699.8069484758,\"year_one_utility_kwh\" => 3.576214157e7,\"year_one_export_benefit\" => 0.0,\"year_one_energy_cost\" => 1.16681139e6,\"PVtoCUR\" => [0.0, 0.0, 0.0, 0.0, 0.0, 0.0, 0.0, 0.0, -0.0, 0.0  …  0.0, 0.0, 0.0, 0.0, 0.0, 0.0, 0.0, 0.0, 0.0, 0.0],\"year_one_energy_produced_PV\" => 6.048883e6,\"PV_net_fixed_om_costs\" => 516507.0…)\n",
       " Dict{String,Any}(\"net_capital_costs\" => 1.97078288e6,\"year_one_demand_cost\" => 1.12498078e6,\"lcc\" => 5.677752e7,\"expected_outage_cost\" => 566241.0184436388,\"year_one_utility_kwh\" => 3.575214773e7,\"year_one_export_benefit\" => 0.0,\"year_one_energy_cost\" => 1.16648532e6,\"PVtoCUR\" => [0.0, 0.0, 0.0, 0.0, 0.0, 0.0, 0.0, 0.0, -0.0, 0.0  …  0.0, 0.0, 0.0, 0.0, 0.0, 0.0, 0.0, 0.0, 0.0, 0.0],\"year_one_energy_produced_PV\" => 6.059501e6,\"PV_net_fixed_om_costs\" => 517414.0…)\n",
       " Dict{String,Any}(\"net_capital_costs\" => 2.0518022e6,\"year_one_demand_cost\" => 1.12296492e6,\"lcc\" => 5.6793292e7,\"expected_outage_cost\" => 534169.8859534855,\"year_one_utility_kwh\" => 3.574074519e7,\"year_one_export_benefit\" => 0.0,\"year_one_energy_cost\" => 1.16611329e6,\"PVtoCUR\" => [0.0, 0.0, 0.0, 0.0, 0.0, 0.0, 0.0, 0.0, -0.0, 0.0  …  0.0, 0.0, 0.0, 0.0, 0.0, 0.0, 0.0, 0.0, 0.0, 0.0],\"year_one_energy_produced_PV\" => 6.071749e6,\"PV_net_fixed_om_costs\" => 518459.0…)\n",
       " Dict{String,Any}(\"net_capital_costs\" => 2.34674826e6,\"year_one_demand_cost\" => 1.1135034e6,\"lcc\" => 5.6805817e7,\"expected_outage_cost\" => 410643.7052413931,\"year_one_utility_kwh\" => 3.570992872e7,\"year_one_export_benefit\" => 0.0,\"year_one_energy_cost\" => 1.16510784e6,\"PVtoCUR\" => [0.0, 0.0, 0.0, 0.0, 0.0, 0.0, 0.0, 0.0, -0.0, 0.0  …  0.0, 0.0, 0.0, 0.0, 0.0, 0.0, 0.0, 0.0, 0.0, 0.0],\"year_one_energy_produced_PV\" => 6.105284e6,\"PV_net_fixed_om_costs\" => 521323.0…)\n",
       " Dict{String,Any}(\"net_capital_costs\" => 2.4160622e6,\"year_one_demand_cost\" => 1.10993446e6,\"lcc\" => 5.6816628e7,\"expected_outage_cost\" => 364383.5092014094,\"year_one_utility_kwh\" => 3.575981475e7,\"year_one_export_benefit\" => 0.0,\"year_one_energy_cost\" => 1.16673548e6,\"PVtoCUR\" => [0.0, 0.0, 0.0, 0.0, 0.0, 0.0, 0.0, 0.0, -0.0, 0.0  …  0.0, 0.0, 0.0, 0.0, 0.0, 0.0, 0.0, 0.0, 0.0, 0.0],\"year_one_energy_produced_PV\" => 6.053104e6,\"PV_net_fixed_om_costs\" => 516867.0…)\n",
       " Dict{String,Any}(\"net_capital_costs\" => 2.45547169e6,\"year_one_demand_cost\" => 1.10820698e6,\"lcc\" => 5.6825769e7,\"expected_outage_cost\" => 316407.315233196,\"year_one_utility_kwh\" => 3.580632392e7,\"year_one_export_benefit\" => 0.0,\"year_one_energy_cost\" => 1.16825293e6,\"PVtoCUR\" => [0.0, 0.0, 0.0, 0.0, 0.0, 0.0, 0.0, 0.0, -0.0, 0.0  …  0.0, 0.0, 0.0, 0.0, 0.0, 0.0, 0.0, 0.0, 0.0, 0.0],\"year_one_energy_produced_PV\" => 6.004255e6,\"PV_net_fixed_om_costs\" => 512696.0…)\n",
       " Dict{String,Any}(\"net_capital_costs\" => 2.75626391e6,\"year_one_demand_cost\" => 1.10145276e6,\"lcc\" => 5.6829927e7,\"expected_outage_cost\" => 61807.60020860186,\"year_one_utility_kwh\" => 3.582984404e7,\"year_one_export_benefit\" => 0.0,\"year_one_energy_cost\" => 1.16902032e6,\"PVtoCUR\" => [0.0, 0.0, 0.0, 0.0, 0.0, 0.0, 0.0, 0.0, -0.0, 0.0  …  0.0, 0.0, 0.0, 0.0, 0.0, 0.0, 0.0, 0.0, 0.0, 0.0],\"year_one_energy_produced_PV\" => 5.980496e6,\"PV_net_fixed_om_costs\" => 510667.0…)\n",
       " Dict{String,Any}(\"net_capital_costs\" => 2.85395469e6,\"year_one_demand_cost\" => 1.09860124e6,\"lcc\" => 5.6829991e7,\"expected_outage_cost\" => 0.0,\"year_one_utility_kwh\" => 3.583021701e7,\"year_one_export_benefit\" => 0.0,\"year_one_energy_cost\" => 1.16903249e6,\"PVtoCUR\" => [0.0, 0.0, 0.0, 0.0, 0.0, 0.0, 0.0, 0.0, -0.0, 0.0  …  0.0, 0.0, 0.0, 0.0, 0.0, 0.0, 0.0, 0.0, 0.0, 0.0],\"year_one_energy_produced_PV\" => 5.980496e6,\"PV_net_fixed_om_costs\" => 510667.0…)\n",
       " Dict{String,Any}(\"net_capital_costs\" => 2.85395469e6,\"year_one_demand_cost\" => 1.09860124e6,\"lcc\" => 5.6829991e7,\"expected_outage_cost\" => 0.0,\"year_one_utility_kwh\" => 3.583021701e7,\"year_one_export_benefit\" => 0.0,\"year_one_energy_cost\" => 1.16903249e6,\"PVtoCUR\" => [0.0, 0.0, 0.0, 0.0, 0.0, 0.0, 0.0, 0.0, -0.0, 0.0  …  0.0, 0.0, 0.0, 0.0, 0.0, 0.0, 0.0, 0.0, 0.0, 0.0],\"year_one_energy_produced_PV\" => 5.980496e6,\"PV_net_fixed_om_costs\" => 510667.0…)"
      ]
     },
     "execution_count": 9,
     "metadata": {},
     "output_type": "execute_result"
    }
   ],
   "source": [
    "r = results"
   ]
  },
  {
   "cell_type": "code",
   "execution_count": null,
   "metadata": {},
   "outputs": [],
   "source": []
  }
 ],
 "metadata": {
  "kernelspec": {
   "display_name": "Julia 1.4.2",
   "language": "julia",
   "name": "julia-1.4"
  },
  "language_info": {
   "file_extension": ".jl",
   "mimetype": "application/julia",
   "name": "julia",
   "version": "1.4.2"
  }
 },
 "nbformat": 4,
 "nbformat_minor": 2
}
