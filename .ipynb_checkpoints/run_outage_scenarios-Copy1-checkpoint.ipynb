{
 "cells": [
  {
   "cell_type": "code",
   "execution_count": 1,
   "metadata": {},
   "outputs": [
    {
     "name": "stderr",
     "output_type": "stream",
     "text": [
      "┌ Info: Xpress: Found license file C:\\xpressmp\\bin\\xpauth.xpr\n",
      "└ @ Xpress C:\\Users\\jchang2\\.julia\\packages\\Xpress\\kcAft\\src\\license.jl:42\n",
      "┌ Info: Xpress: Development license detected.\n",
      "└ @ Xpress C:\\Users\\jchang2\\.julia\\packages\\Xpress\\kcAft\\src\\license.jl:84\n"
     ]
    }
   ],
   "source": [
    "include(\"./src/REoptLite.jl\")\n",
    "using JuMP\n",
    "using Xpress\n",
    "using Main.REoptLite\n",
    "using JSON\n"
   ]
  },
  {
   "cell_type": "code",
   "execution_count": 2,
   "metadata": {},
   "outputs": [
    {
     "data": {
      "text/plain": [
       "run (generic function with 1 method)"
      ]
     },
     "execution_count": 2,
     "metadata": {},
     "output_type": "execute_result"
    }
   ],
   "source": [
    "function run(scenario, fname)\n",
    "    \n",
    "    m = Model(optimizer_with_attributes(Xpress.Optimizer, \"logfile\" => \"output.log\"))\n",
    "    results = run_reopt(m, REoptInputs(scenario))\n",
    "    \n",
    "    open(fname*\".json\", \"w\") do f\n",
    "        JSON.print(f, results)\n",
    "    end\n",
    "    \n",
    "    return results\n",
    "end"
   ]
  },
  {
   "cell_type": "code",
   "execution_count": 3,
   "metadata": {},
   "outputs": [
    {
     "data": {
      "text/plain": [
       "Dict{String,Any} with 8 entries:\n",
       "  \"ElectricUtility\" => Dict{String,Any}(\"outage_durations\"=>Any[336],\"outage_st…\n",
       "  \"ElectricTariff\"  => Dict{String,Any}(\"urdb_label\"=>\"5e611fec5457a3665e019406…\n",
       "  \"Site\"            => Dict{String,Any}(\"latitude\"=>39.7407,\"longitude\"=>-105.1…\n",
       "  \"Generator\"       => Dict{String,Any}(\"existing_kw\"=>80.0,\"only_runs_during_g…\n",
       "  \"ElectricLoad\"    => Dict{String,Any}(\"loads_kw\"=>Any[4323.64, 4308.39, 4295.…\n",
       "  \"PV\"              => Dict{String,Any}(\"existing_kw\"=>3580.54)\n",
       "  \"Storage\"         => Dict{String,Any}(\"can_grid_charge\"=>false)\n",
       "  \"Financial\"       => Dict{String,Any}(\"owner_discount_pct\"=>0.1,\"offtaker_dis…"
      ]
     },
     "execution_count": 3,
     "metadata": {},
     "output_type": "execute_result"
    }
   ],
   "source": [
    "scenario_template = JSON.parsefile(\"test/scenarios/STM_campus_BAU_existing_gen_sseb_crit.json\")"
   ]
  },
  {
   "cell_type": "code",
   "execution_count": 4,
   "metadata": {
    "scrolled": true
   },
   "outputs": [
    {
     "name": "stderr",
     "output_type": "stream",
     "text": [
      "┌ Info: Checking URDB for \n",
      "│   urdb_label = 5e611fec5457a3665e019406\n",
      "└ @ Main.REoptLite C:\\Users\\jchang2\\Documents\\REoptLite\\src\\core\\urdb.jl:151\n",
      "┌ Info: Querying PVWatts for prodfactor with \n",
      "│   pv.name = PV\n",
      "└ @ Main.REoptLite C:\\Users\\jchang2\\Documents\\REoptLite\\src\\core\\prodfactor.jl:41\n",
      "┌ Info: PVWatts success.\n",
      "└ @ Main.REoptLite C:\\Users\\jchang2\\Documents\\REoptLite\\src\\core\\prodfactor.jl:49\n",
      "┌ Info: (\"p.mg_tech_sizes_equal_grid_sizes\", false)\n",
      "└ @ Main.REoptLite C:\\Users\\jchang2\\Documents\\REoptLite\\src\\constraints\\outage_constraints.jl:81\n",
      "┌ Info: Model built. Optimizing...\n",
      "└ @ Main.REoptLite C:\\Users\\jchang2\\Documents\\REoptLite\\src\\core\\reopt.jl:265\n",
      "┌ Info: REopt solved with \n",
      "│   termination_status(m) = OPTIMAL\n",
      "└ @ Main.REoptLite C:\\Users\\jchang2\\Documents\\REoptLite\\src\\core\\reopt.jl:274\n"
     ]
    },
    {
     "name": "stdout",
     "output_type": "stream",
     "text": [
      "run complete\n"
     ]
    }
   ],
   "source": [
    "results = Dict[]\n",
    "\n",
    "for VoLL in range(100, stop=100)\n",
    "    scenario_dict = copy(scenario_template)\n",
    "    scenario_dict[\"ElectricUtility\"][\"outage_start_timesteps\"] = collect(range(17, stop=8760-336, step=336))\n",
    "    scenario_dict[\"Financial\"][\"VoLL\"] = VoLL\n",
    "    s = Scenario(scenario_dict)\n",
    "    push!(results, run(s, \"sseb_BAU_existing_gen\"))\n",
    "    println(\"run complete\")\n",
    "end"
   ]
  },
  {
   "cell_type": "code",
   "execution_count": 5,
   "metadata": {},
   "outputs": [
    {
     "data": {
      "text/plain": [
       "1-element Array{Dict,1}:\n",
       " Dict{String,Any}(\"net_capital_costs\" => 1.18901678e6,\"lcc\" => 5.5978878e7,\"PV_net_fixed_om_costs\" => 515320.0,\"year_one_energy_cost\" => 1.16720545e6,\"year_one_energy_produced_PV\" => 5.948741e6,\"year_one_fixed_cost\" => 0.0,\"total_demand_cost\" => 2.668609423e7,\"gen_net_variable_om_costs\" => 0.0,\"gen_total_fuel_cost\" => 0.0,\"year_one_min_charge_adder\" => 0.0…)"
      ]
     },
     "execution_count": 5,
     "metadata": {},
     "output_type": "execute_result"
    }
   ],
   "source": [
    "r = results"
   ]
  },
  {
   "cell_type": "code",
   "execution_count": null,
   "metadata": {},
   "outputs": [],
   "source": []
  }
 ],
 "metadata": {
  "kernelspec": {
   "display_name": "Julia 1.4.2",
   "language": "julia",
   "name": "julia-1.4"
  },
  "language_info": {
   "file_extension": ".jl",
   "mimetype": "application/julia",
   "name": "julia",
   "version": "1.4.2"
  }
 },
 "nbformat": 4,
 "nbformat_minor": 2
}
