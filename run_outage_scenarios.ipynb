{
 "cells": [
  {
   "cell_type": "code",
   "execution_count": 1,
   "metadata": {},
   "outputs": [
    {
     "name": "stderr",
     "output_type": "stream",
     "text": [
      "┌ Info: Xpress: Found license file /usr/local/opt/xpress/bin/xpauth.xpr\n",
      "└ @ Xpress /Users/nlaws/.julia/packages/Xpress/kcAft/src/license.jl:42\n",
      "┌ Info: Xpress: Development license detected.\n",
      "└ @ Xpress /Users/nlaws/.julia/packages/Xpress/kcAft/src/license.jl:84\n"
     ]
    }
   ],
   "source": [
    "include(\"./src/REoptLite.jl\")\n",
    "using JuMP\n",
    "using Xpress\n",
    "using Main.REoptLite\n",
    "using JSON\n"
   ]
  },
  {
   "cell_type": "code",
   "execution_count": 2,
   "metadata": {},
   "outputs": [
    {
     "data": {
      "text/plain": [
       "run (generic function with 1 method)"
      ]
     },
     "execution_count": 2,
     "metadata": {},
     "output_type": "execute_result"
    }
   ],
   "source": [
    "function run(scenario, fname)\n",
    "    \n",
    "    m = Model(optimizer_with_attributes(Xpress.Optimizer, \"logfile\" => \"output.log\"))\n",
    "    results = run_reopt(m, REoptInputs(scenario))\n",
    "    \n",
    "    open(fname*\".json\", \"w\") do f\n",
    "        JSON.print(f, results)\n",
    "    end\n",
    "    \n",
    "    return results\n",
    "end"
   ]
  },
  {
   "cell_type": "code",
   "execution_count": 3,
   "metadata": {},
   "outputs": [
    {
     "data": {
      "text/plain": [
       "Dict{String,Any} with 7 entries:\n",
       "  \"ElectricUtility\" => Dict{String,Any}(\"outage_durations\"=>Any[336],\"outage_st…\n",
       "  \"ElectricTariff\"  => Dict{String,Any}(\"monthly_demand_rates\"=>Any[0, 0, 0, 0,…\n",
       "  \"Site\"            => Dict{String,Any}(\"latitude\"=>39.7407,\"min_resil_timestep…\n",
       "  \"ElectricLoad\"    => Dict{String,Any}(\"annual_kwh\"=>0.0,\"doe_reference_name\"=…\n",
       "  \"PV\"              => Dict{String,Any}(\"array_type\"=>0,\"existing_kw\"=>16,\"max_…\n",
       "  \"Storage\"         => Dict{String,Any}(\"macrs_option_years\"=>5,\"can_grid_charg…\n",
       "  \"Financial\"       => Dict{String,Any}(\"owner_discount_pct\"=>0.1,\"offtaker_dis…"
      ]
     },
     "execution_count": 3,
     "metadata": {},
     "output_type": "execute_result"
    }
   ],
   "source": [
    "scenario_template = JSON.parsefile(\"test/scenarios/sseb_2wk_outage_no_grid.json\")"
   ]
  },
  {
   "cell_type": "code",
   "execution_count": null,
   "metadata": {
    "scrolled": true
   },
   "outputs": [
    {
     "name": "stdout",
     "output_type": "stream",
     "text": [
      "\n",
      "Reading Problem \n",
      "Problem Statistics\n",
      "           0 (      0 spare) rows\n",
      "           0 (      0 spare) structural columns\n",
      "           0 (      0 spare) non-zero elements\n",
      "Global Statistics\n",
      "           0 entities        0 sets        0 set members\n"
     ]
    },
    {
     "name": "stderr",
     "output_type": "stream",
     "text": [
      "┌ Info: Querying PVWatts for prodfactor with \n",
      "│   pv.name = PV\n",
      "└ @ Main.REoptLite /Users/nlaws/projects/2020/Intellegent_Campus/joseph_chang/REoptLite/src/core/prodfactor.jl:41\n",
      "┌ Info: PVWatts success.\n",
      "└ @ Main.REoptLite /Users/nlaws/projects/2020/Intellegent_Campus/joseph_chang/REoptLite/src/core/prodfactor.jl:49\n",
      "┌ Info: Model built. Optimizing...\n",
      "└ @ Main.REoptLite /Users/nlaws/projects/2020/Intellegent_Campus/joseph_chang/REoptLite/src/core/reopt.jl:264\n",
      "┌ Info: REopt solved with \n",
      "│   termination_status(m) = OPTIMAL\n",
      "└ @ Main.REoptLite /Users/nlaws/projects/2020/Intellegent_Campus/joseph_chang/REoptLite/src/core/reopt.jl:273\n"
     ]
    },
    {
     "name": "stdout",
     "output_type": "stream",
     "text": [
      "run 1 complete\n",
      "\n",
      "Reading Problem \n",
      "Problem Statistics\n",
      "           0 (      0 spare) rows\n",
      "           0 (      0 spare) structural columns\n",
      "           0 (      0 spare) non-zero elements\n",
      "Global Statistics\n",
      "           0 entities        0 sets        0 set members\n"
     ]
    },
    {
     "name": "stderr",
     "output_type": "stream",
     "text": [
      "┌ Info: Querying PVWatts for prodfactor with \n",
      "│   pv.name = PV\n",
      "└ @ Main.REoptLite /Users/nlaws/projects/2020/Intellegent_Campus/joseph_chang/REoptLite/src/core/prodfactor.jl:41\n",
      "┌ Info: PVWatts success.\n",
      "└ @ Main.REoptLite /Users/nlaws/projects/2020/Intellegent_Campus/joseph_chang/REoptLite/src/core/prodfactor.jl:49\n",
      "┌ Info: Model built. Optimizing...\n",
      "└ @ Main.REoptLite /Users/nlaws/projects/2020/Intellegent_Campus/joseph_chang/REoptLite/src/core/reopt.jl:264\n",
      "┌ Info: REopt solved with \n",
      "│   termination_status(m) = OPTIMAL\n",
      "└ @ Main.REoptLite /Users/nlaws/projects/2020/Intellegent_Campus/joseph_chang/REoptLite/src/core/reopt.jl:273\n"
     ]
    },
    {
     "name": "stdout",
     "output_type": "stream",
     "text": [
      "run 2 complete\n",
      "\n",
      "Reading Problem \n",
      "Problem Statistics\n",
      "           0 (      0 spare) rows\n",
      "           0 (      0 spare) structural columns\n",
      "           0 (      0 spare) non-zero elements\n",
      "Global Statistics\n",
      "           0 entities        0 sets        0 set members\n"
     ]
    },
    {
     "name": "stderr",
     "output_type": "stream",
     "text": [
      "┌ Info: Querying PVWatts for prodfactor with \n",
      "│   pv.name = PV\n",
      "└ @ Main.REoptLite /Users/nlaws/projects/2020/Intellegent_Campus/joseph_chang/REoptLite/src/core/prodfactor.jl:41\n",
      "┌ Info: PVWatts success.\n",
      "└ @ Main.REoptLite /Users/nlaws/projects/2020/Intellegent_Campus/joseph_chang/REoptLite/src/core/prodfactor.jl:49\n",
      "┌ Info: Model built. Optimizing...\n",
      "└ @ Main.REoptLite /Users/nlaws/projects/2020/Intellegent_Campus/joseph_chang/REoptLite/src/core/reopt.jl:264\n",
      "┌ Info: REopt solved with \n",
      "│   termination_status(m) = OPTIMAL\n",
      "└ @ Main.REoptLite /Users/nlaws/projects/2020/Intellegent_Campus/joseph_chang/REoptLite/src/core/reopt.jl:273\n"
     ]
    },
    {
     "name": "stdout",
     "output_type": "stream",
     "text": [
      "run 3 complete\n",
      "\n",
      "Reading Problem \n",
      "Problem Statistics\n",
      "           0 (      0 spare) rows\n",
      "           0 (      0 spare) structural columns\n",
      "           0 (      0 spare) non-zero elements\n",
      "Global Statistics\n",
      "           0 entities        0 sets        0 set members\n"
     ]
    },
    {
     "name": "stderr",
     "output_type": "stream",
     "text": [
      "┌ Info: Querying PVWatts for prodfactor with \n",
      "│   pv.name = PV\n",
      "└ @ Main.REoptLite /Users/nlaws/projects/2020/Intellegent_Campus/joseph_chang/REoptLite/src/core/prodfactor.jl:41\n",
      "┌ Info: PVWatts success.\n",
      "└ @ Main.REoptLite /Users/nlaws/projects/2020/Intellegent_Campus/joseph_chang/REoptLite/src/core/prodfactor.jl:49\n",
      "┌ Info: Model built. Optimizing...\n",
      "└ @ Main.REoptLite /Users/nlaws/projects/2020/Intellegent_Campus/joseph_chang/REoptLite/src/core/reopt.jl:264\n",
      "┌ Info: REopt solved with \n",
      "│   termination_status(m) = OPTIMAL\n",
      "└ @ Main.REoptLite /Users/nlaws/projects/2020/Intellegent_Campus/joseph_chang/REoptLite/src/core/reopt.jl:273\n"
     ]
    },
    {
     "name": "stdout",
     "output_type": "stream",
     "text": [
      "run 4 complete\n",
      "\n",
      "Reading Problem \n",
      "Problem Statistics\n",
      "           0 (      0 spare) rows\n",
      "           0 (      0 spare) structural columns\n",
      "           0 (      0 spare) non-zero elements\n",
      "Global Statistics\n",
      "           0 entities        0 sets        0 set members\n"
     ]
    },
    {
     "name": "stderr",
     "output_type": "stream",
     "text": [
      "┌ Info: Querying PVWatts for prodfactor with \n",
      "│   pv.name = PV\n",
      "└ @ Main.REoptLite /Users/nlaws/projects/2020/Intellegent_Campus/joseph_chang/REoptLite/src/core/prodfactor.jl:41\n",
      "┌ Info: PVWatts success.\n",
      "└ @ Main.REoptLite /Users/nlaws/projects/2020/Intellegent_Campus/joseph_chang/REoptLite/src/core/prodfactor.jl:49\n",
      "┌ Info: Model built. Optimizing...\n",
      "└ @ Main.REoptLite /Users/nlaws/projects/2020/Intellegent_Campus/joseph_chang/REoptLite/src/core/reopt.jl:264\n",
      "┌ Info: REopt solved with \n",
      "│   termination_status(m) = OPTIMAL\n",
      "└ @ Main.REoptLite /Users/nlaws/projects/2020/Intellegent_Campus/joseph_chang/REoptLite/src/core/reopt.jl:273\n"
     ]
    },
    {
     "name": "stdout",
     "output_type": "stream",
     "text": [
      "run 5 complete\n",
      "\n",
      "Reading Problem \n",
      "Problem Statistics\n",
      "           0 (      0 spare) rows\n",
      "           0 (      0 spare) structural columns\n",
      "           0 (      0 spare) non-zero elements\n",
      "Global Statistics\n",
      "           0 entities        0 sets        0 set members\n"
     ]
    },
    {
     "name": "stderr",
     "output_type": "stream",
     "text": [
      "┌ Info: Querying PVWatts for prodfactor with \n",
      "│   pv.name = PV\n",
      "└ @ Main.REoptLite /Users/nlaws/projects/2020/Intellegent_Campus/joseph_chang/REoptLite/src/core/prodfactor.jl:41\n",
      "┌ Info: PVWatts success.\n",
      "└ @ Main.REoptLite /Users/nlaws/projects/2020/Intellegent_Campus/joseph_chang/REoptLite/src/core/prodfactor.jl:49\n",
      "┌ Info: Model built. Optimizing...\n",
      "└ @ Main.REoptLite /Users/nlaws/projects/2020/Intellegent_Campus/joseph_chang/REoptLite/src/core/reopt.jl:264\n",
      "┌ Info: REopt solved with \n",
      "│   termination_status(m) = OPTIMAL\n",
      "└ @ Main.REoptLite /Users/nlaws/projects/2020/Intellegent_Campus/joseph_chang/REoptLite/src/core/reopt.jl:273\n"
     ]
    },
    {
     "name": "stdout",
     "output_type": "stream",
     "text": [
      "run 6 complete\n",
      "\n",
      "Reading Problem \n",
      "Problem Statistics\n",
      "           0 (      0 spare) rows\n",
      "           0 (      0 spare) structural columns\n",
      "           0 (      0 spare) non-zero elements\n",
      "Global Statistics\n",
      "           0 entities        0 sets        0 set members\n"
     ]
    },
    {
     "name": "stderr",
     "output_type": "stream",
     "text": [
      "┌ Info: Querying PVWatts for prodfactor with \n",
      "│   pv.name = PV\n",
      "└ @ Main.REoptLite /Users/nlaws/projects/2020/Intellegent_Campus/joseph_chang/REoptLite/src/core/prodfactor.jl:41\n",
      "┌ Info: PVWatts success.\n",
      "└ @ Main.REoptLite /Users/nlaws/projects/2020/Intellegent_Campus/joseph_chang/REoptLite/src/core/prodfactor.jl:49\n",
      "┌ Info: Model built. Optimizing...\n",
      "└ @ Main.REoptLite /Users/nlaws/projects/2020/Intellegent_Campus/joseph_chang/REoptLite/src/core/reopt.jl:264\n",
      "┌ Info: REopt solved with \n",
      "│   termination_status(m) = OPTIMAL\n",
      "└ @ Main.REoptLite /Users/nlaws/projects/2020/Intellegent_Campus/joseph_chang/REoptLite/src/core/reopt.jl:273\n"
     ]
    },
    {
     "name": "stdout",
     "output_type": "stream",
     "text": [
      "run 7 complete\n",
      "\n",
      "Reading Problem \n",
      "Problem Statistics\n",
      "           0 (      0 spare) rows\n",
      "           0 (      0 spare) structural columns\n",
      "           0 (      0 spare) non-zero elements\n",
      "Global Statistics\n",
      "           0 entities        0 sets        0 set members\n"
     ]
    },
    {
     "name": "stderr",
     "output_type": "stream",
     "text": [
      "┌ Info: Querying PVWatts for prodfactor with \n",
      "│   pv.name = PV\n",
      "└ @ Main.REoptLite /Users/nlaws/projects/2020/Intellegent_Campus/joseph_chang/REoptLite/src/core/prodfactor.jl:41\n",
      "┌ Info: PVWatts success.\n",
      "└ @ Main.REoptLite /Users/nlaws/projects/2020/Intellegent_Campus/joseph_chang/REoptLite/src/core/prodfactor.jl:49\n",
      "┌ Info: Model built. Optimizing...\n",
      "└ @ Main.REoptLite /Users/nlaws/projects/2020/Intellegent_Campus/joseph_chang/REoptLite/src/core/reopt.jl:264\n",
      "┌ Info: REopt solved with \n",
      "│   termination_status(m) = OPTIMAL\n",
      "└ @ Main.REoptLite /Users/nlaws/projects/2020/Intellegent_Campus/joseph_chang/REoptLite/src/core/reopt.jl:273\n"
     ]
    },
    {
     "name": "stdout",
     "output_type": "stream",
     "text": [
      "run 8 complete\n",
      "\n",
      "Reading Problem \n",
      "Problem Statistics\n",
      "           0 (      0 spare) rows\n",
      "           0 (      0 spare) structural columns\n",
      "           0 (      0 spare) non-zero elements\n",
      "Global Statistics\n",
      "           0 entities        0 sets        0 set members\n"
     ]
    },
    {
     "name": "stderr",
     "output_type": "stream",
     "text": [
      "┌ Info: Querying PVWatts for prodfactor with \n",
      "│   pv.name = PV\n",
      "└ @ Main.REoptLite /Users/nlaws/projects/2020/Intellegent_Campus/joseph_chang/REoptLite/src/core/prodfactor.jl:41\n",
      "┌ Info: PVWatts success.\n",
      "└ @ Main.REoptLite /Users/nlaws/projects/2020/Intellegent_Campus/joseph_chang/REoptLite/src/core/prodfactor.jl:49\n",
      "┌ Info: Model built. Optimizing...\n",
      "└ @ Main.REoptLite /Users/nlaws/projects/2020/Intellegent_Campus/joseph_chang/REoptLite/src/core/reopt.jl:264\n",
      "┌ Info: REopt solved with \n",
      "│   termination_status(m) = OPTIMAL\n",
      "└ @ Main.REoptLite /Users/nlaws/projects/2020/Intellegent_Campus/joseph_chang/REoptLite/src/core/reopt.jl:273\n"
     ]
    },
    {
     "name": "stdout",
     "output_type": "stream",
     "text": [
      "run 9 complete\n",
      "\n",
      "Reading Problem \n",
      "Problem Statistics\n",
      "           0 (      0 spare) rows\n",
      "           0 (      0 spare) structural columns\n",
      "           0 (      0 spare) non-zero elements\n",
      "Global Statistics\n",
      "           0 entities        0 sets        0 set members\n"
     ]
    },
    {
     "name": "stderr",
     "output_type": "stream",
     "text": [
      "┌ Info: Querying PVWatts for prodfactor with \n",
      "│   pv.name = PV\n",
      "└ @ Main.REoptLite /Users/nlaws/projects/2020/Intellegent_Campus/joseph_chang/REoptLite/src/core/prodfactor.jl:41\n",
      "┌ Info: PVWatts success.\n",
      "└ @ Main.REoptLite /Users/nlaws/projects/2020/Intellegent_Campus/joseph_chang/REoptLite/src/core/prodfactor.jl:49\n",
      "┌ Info: Model built. Optimizing...\n",
      "└ @ Main.REoptLite /Users/nlaws/projects/2020/Intellegent_Campus/joseph_chang/REoptLite/src/core/reopt.jl:264\n",
      "┌ Info: REopt solved with \n",
      "│   termination_status(m) = OPTIMAL\n",
      "└ @ Main.REoptLite /Users/nlaws/projects/2020/Intellegent_Campus/joseph_chang/REoptLite/src/core/reopt.jl:273\n"
     ]
    },
    {
     "name": "stdout",
     "output_type": "stream",
     "text": [
      "run 10 complete\n",
      "\n",
      "Reading Problem \n",
      "Problem Statistics\n",
      "           0 (      0 spare) rows\n",
      "           0 (      0 spare) structural columns\n",
      "           0 (      0 spare) non-zero elements\n",
      "Global Statistics\n",
      "           0 entities        0 sets        0 set members\n"
     ]
    },
    {
     "name": "stderr",
     "output_type": "stream",
     "text": [
      "┌ Info: Querying PVWatts for prodfactor with \n",
      "│   pv.name = PV\n",
      "└ @ Main.REoptLite /Users/nlaws/projects/2020/Intellegent_Campus/joseph_chang/REoptLite/src/core/prodfactor.jl:41\n",
      "┌ Info: PVWatts success.\n",
      "└ @ Main.REoptLite /Users/nlaws/projects/2020/Intellegent_Campus/joseph_chang/REoptLite/src/core/prodfactor.jl:49\n",
      "┌ Info: Model built. Optimizing...\n",
      "└ @ Main.REoptLite /Users/nlaws/projects/2020/Intellegent_Campus/joseph_chang/REoptLite/src/core/reopt.jl:264\n",
      "┌ Info: REopt solved with \n",
      "│   termination_status(m) = OPTIMAL\n",
      "└ @ Main.REoptLite /Users/nlaws/projects/2020/Intellegent_Campus/joseph_chang/REoptLite/src/core/reopt.jl:273\n"
     ]
    },
    {
     "name": "stdout",
     "output_type": "stream",
     "text": [
      "run 11 complete\n",
      "\n",
      "Reading Problem \n",
      "Problem Statistics\n",
      "           0 (      0 spare) rows\n",
      "           0 (      0 spare) structural columns\n",
      "           0 (      0 spare) non-zero elements\n",
      "Global Statistics\n",
      "           0 entities        0 sets        0 set members\n"
     ]
    },
    {
     "name": "stderr",
     "output_type": "stream",
     "text": [
      "┌ Info: Querying PVWatts for prodfactor with \n",
      "│   pv.name = PV\n",
      "└ @ Main.REoptLite /Users/nlaws/projects/2020/Intellegent_Campus/joseph_chang/REoptLite/src/core/prodfactor.jl:41\n",
      "┌ Info: PVWatts success.\n",
      "└ @ Main.REoptLite /Users/nlaws/projects/2020/Intellegent_Campus/joseph_chang/REoptLite/src/core/prodfactor.jl:49\n",
      "┌ Info: Model built. Optimizing...\n",
      "└ @ Main.REoptLite /Users/nlaws/projects/2020/Intellegent_Campus/joseph_chang/REoptLite/src/core/reopt.jl:264\n",
      "┌ Info: REopt solved with \n",
      "│   termination_status(m) = OPTIMAL\n",
      "└ @ Main.REoptLite /Users/nlaws/projects/2020/Intellegent_Campus/joseph_chang/REoptLite/src/core/reopt.jl:273\n"
     ]
    },
    {
     "name": "stdout",
     "output_type": "stream",
     "text": [
      "run 12 complete\n",
      "\n",
      "Reading Problem \n",
      "Problem Statistics\n",
      "           0 (      0 spare) rows\n",
      "           0 (      0 spare) structural columns\n",
      "           0 (      0 spare) non-zero elements\n",
      "Global Statistics\n",
      "           0 entities        0 sets        0 set members\n"
     ]
    },
    {
     "name": "stderr",
     "output_type": "stream",
     "text": [
      "┌ Info: Querying PVWatts for prodfactor with \n",
      "│   pv.name = PV\n",
      "└ @ Main.REoptLite /Users/nlaws/projects/2020/Intellegent_Campus/joseph_chang/REoptLite/src/core/prodfactor.jl:41\n",
      "┌ Info: PVWatts success.\n",
      "└ @ Main.REoptLite /Users/nlaws/projects/2020/Intellegent_Campus/joseph_chang/REoptLite/src/core/prodfactor.jl:49\n",
      "┌ Info: Model built. Optimizing...\n",
      "└ @ Main.REoptLite /Users/nlaws/projects/2020/Intellegent_Campus/joseph_chang/REoptLite/src/core/reopt.jl:264\n",
      "┌ Info: REopt solved with \n",
      "│   termination_status(m) = OPTIMAL\n",
      "└ @ Main.REoptLite /Users/nlaws/projects/2020/Intellegent_Campus/joseph_chang/REoptLite/src/core/reopt.jl:273\n"
     ]
    },
    {
     "name": "stdout",
     "output_type": "stream",
     "text": [
      "run 13 complete\n",
      "\n",
      "Reading Problem \n",
      "Problem Statistics\n",
      "           0 (      0 spare) rows\n",
      "           0 (      0 spare) structural columns\n",
      "           0 (      0 spare) non-zero elements\n",
      "Global Statistics\n",
      "           0 entities        0 sets        0 set members\n"
     ]
    },
    {
     "name": "stderr",
     "output_type": "stream",
     "text": [
      "┌ Info: Querying PVWatts for prodfactor with \n",
      "│   pv.name = PV\n",
      "└ @ Main.REoptLite /Users/nlaws/projects/2020/Intellegent_Campus/joseph_chang/REoptLite/src/core/prodfactor.jl:41\n",
      "┌ Info: PVWatts success.\n",
      "└ @ Main.REoptLite /Users/nlaws/projects/2020/Intellegent_Campus/joseph_chang/REoptLite/src/core/prodfactor.jl:49\n",
      "┌ Info: Model built. Optimizing...\n",
      "└ @ Main.REoptLite /Users/nlaws/projects/2020/Intellegent_Campus/joseph_chang/REoptLite/src/core/reopt.jl:264\n",
      "┌ Info: REopt solved with \n",
      "│   termination_status(m) = OPTIMAL\n",
      "└ @ Main.REoptLite /Users/nlaws/projects/2020/Intellegent_Campus/joseph_chang/REoptLite/src/core/reopt.jl:273\n"
     ]
    },
    {
     "name": "stdout",
     "output_type": "stream",
     "text": [
      "run 14 complete\n",
      "\n",
      "Reading Problem \n",
      "Problem Statistics\n",
      "           0 (      0 spare) rows\n",
      "           0 (      0 spare) structural columns\n",
      "           0 (      0 spare) non-zero elements\n",
      "Global Statistics\n",
      "           0 entities        0 sets        0 set members\n"
     ]
    },
    {
     "name": "stderr",
     "output_type": "stream",
     "text": [
      "┌ Info: Querying PVWatts for prodfactor with \n",
      "│   pv.name = PV\n",
      "└ @ Main.REoptLite /Users/nlaws/projects/2020/Intellegent_Campus/joseph_chang/REoptLite/src/core/prodfactor.jl:41\n",
      "┌ Info: PVWatts success.\n",
      "└ @ Main.REoptLite /Users/nlaws/projects/2020/Intellegent_Campus/joseph_chang/REoptLite/src/core/prodfactor.jl:49\n",
      "┌ Info: Model built. Optimizing...\n",
      "└ @ Main.REoptLite /Users/nlaws/projects/2020/Intellegent_Campus/joseph_chang/REoptLite/src/core/reopt.jl:264\n",
      "┌ Info: REopt solved with \n",
      "│   termination_status(m) = OPTIMAL\n",
      "└ @ Main.REoptLite /Users/nlaws/projects/2020/Intellegent_Campus/joseph_chang/REoptLite/src/core/reopt.jl:273\n"
     ]
    },
    {
     "name": "stdout",
     "output_type": "stream",
     "text": [
      "run 15 complete\n",
      "\n",
      "Reading Problem \n",
      "Problem Statistics\n",
      "           0 (      0 spare) rows\n",
      "           0 (      0 spare) structural columns\n",
      "           0 (      0 spare) non-zero elements\n",
      "Global Statistics\n",
      "           0 entities        0 sets        0 set members\n"
     ]
    },
    {
     "name": "stderr",
     "output_type": "stream",
     "text": [
      "┌ Info: Querying PVWatts for prodfactor with \n",
      "│   pv.name = PV\n",
      "└ @ Main.REoptLite /Users/nlaws/projects/2020/Intellegent_Campus/joseph_chang/REoptLite/src/core/prodfactor.jl:41\n",
      "┌ Info: PVWatts success.\n",
      "└ @ Main.REoptLite /Users/nlaws/projects/2020/Intellegent_Campus/joseph_chang/REoptLite/src/core/prodfactor.jl:49\n",
      "┌ Info: Model built. Optimizing...\n",
      "└ @ Main.REoptLite /Users/nlaws/projects/2020/Intellegent_Campus/joseph_chang/REoptLite/src/core/reopt.jl:264\n",
      "┌ Info: REopt solved with \n",
      "│   termination_status(m) = OPTIMAL\n",
      "└ @ Main.REoptLite /Users/nlaws/projects/2020/Intellegent_Campus/joseph_chang/REoptLite/src/core/reopt.jl:273\n"
     ]
    },
    {
     "name": "stdout",
     "output_type": "stream",
     "text": [
      "run 16 complete\n",
      "\n",
      "Reading Problem \n",
      "Problem Statistics\n",
      "           0 (      0 spare) rows\n",
      "           0 (      0 spare) structural columns\n",
      "           0 (      0 spare) non-zero elements\n",
      "Global Statistics\n",
      "           0 entities        0 sets        0 set members\n"
     ]
    },
    {
     "name": "stderr",
     "output_type": "stream",
     "text": [
      "┌ Info: Querying PVWatts for prodfactor with \n",
      "│   pv.name = PV\n",
      "└ @ Main.REoptLite /Users/nlaws/projects/2020/Intellegent_Campus/joseph_chang/REoptLite/src/core/prodfactor.jl:41\n",
      "┌ Info: PVWatts success.\n",
      "└ @ Main.REoptLite /Users/nlaws/projects/2020/Intellegent_Campus/joseph_chang/REoptLite/src/core/prodfactor.jl:49\n",
      "┌ Info: Model built. Optimizing...\n",
      "└ @ Main.REoptLite /Users/nlaws/projects/2020/Intellegent_Campus/joseph_chang/REoptLite/src/core/reopt.jl:264\n"
     ]
    }
   ],
   "source": [
    "results = Dict[]\n",
    "\n",
    "for tzero in range(1, stop=336)\n",
    "    scenario_dict = copy(scenario_template)\n",
    "    scenario_dict[\"ElectricUtility\"][\"outage_start_timesteps\"] = collect(range(tzero, stop=8760-336, step=336))\n",
    "    s = Scenario(scenario_dict)\n",
    "    push!(results, run(s, \"sseb_tzero\"*string(tzero)))\n",
    "    println(\"run $tzero complete\")\n",
    "end"
   ]
  },
  {
   "cell_type": "code",
   "execution_count": 6,
   "metadata": {},
   "outputs": [
    {
     "data": {
      "text/plain": [
       "2-element Array{Dict,1}:\n",
       " Dict{String,Any}(\"net_capital_costs\" => 285682.44,\"year_one_demand_cost\" => 0.0,\"lcc\" => 394690.0,\"expected_outage_cost\" => 0.0,\"year_one_utility_kwh\" => 56.5,\"year_one_export_benefit\" => 0.0,\"year_one_energy_cost\" => 0.0,\"PVtoCUR\" => [0.0, 0.0, 0.0, 0.0, 0.0, 0.0, 0.0, 0.0, 0.0, 0.0  …  10.96, 7.332, 2.263, 0.0, 0.0, 0.0, 0.0, 0.0, 0.0, 0.0],\"year_one_energy_produced_PV\" => 56339.0,\"PV_net_fixed_om_costs\" => 4811.0…)\n",
       " Dict{String,Any}(\"net_capital_costs\" => 285682.44,\"year_one_demand_cost\" => 0.0,\"lcc\" => 394690.0,\"expected_outage_cost\" => 0.0,\"year_one_utility_kwh\" => 56.5,\"year_one_export_benefit\" => 0.0,\"year_one_energy_cost\" => 0.0,\"PVtoCUR\" => [0.0, 0.0, 0.0, 0.0, 0.0, 0.0, 0.0, 0.0, 0.0, 0.0  …  10.96, 7.332, 2.263, 0.0, 0.0, 0.0, 0.0, 0.0, 0.0, 0.0],\"year_one_energy_produced_PV\" => 56339.0,\"PV_net_fixed_om_costs\" => 4811.0…)"
      ]
     },
     "execution_count": 6,
     "metadata": {},
     "output_type": "execute_result"
    }
   ],
   "source": [
    "r = results"
   ]
  },
  {
   "cell_type": "code",
   "execution_count": null,
   "metadata": {},
   "outputs": [],
   "source": []
  }
 ],
 "metadata": {
  "kernelspec": {
   "display_name": "Julia 1.4.2",
   "language": "julia",
   "name": "julia-1.4"
  },
  "language_info": {
   "file_extension": ".jl",
   "mimetype": "application/julia",
   "name": "julia",
   "version": "1.4.2"
  }
 },
 "nbformat": 4,
 "nbformat_minor": 2
}
